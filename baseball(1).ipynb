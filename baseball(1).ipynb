{
 "cells": [
  {
   "cell_type": "code",
   "execution_count": 194,
   "metadata": {},
   "outputs": [],
   "source": [
    "import pandas as pd\n",
    "import numpy as np\n",
    "import seaborn as sns\n",
    "import matplotlib.pyplot as plt\n",
    "import warnings\n",
    "warnings.filterwarnings('ignore')"
   ]
  },
  {
   "cell_type": "code",
   "execution_count": 195,
   "metadata": {},
   "outputs": [
    {
     "data": {
      "text/html": [
       "<div>\n",
       "<style scoped>\n",
       "    .dataframe tbody tr th:only-of-type {\n",
       "        vertical-align: middle;\n",
       "    }\n",
       "\n",
       "    .dataframe tbody tr th {\n",
       "        vertical-align: top;\n",
       "    }\n",
       "\n",
       "    .dataframe thead th {\n",
       "        text-align: right;\n",
       "    }\n",
       "</style>\n",
       "<table border=\"1\" class=\"dataframe\">\n",
       "  <thead>\n",
       "    <tr style=\"text-align: right;\">\n",
       "      <th></th>\n",
       "      <th>W</th>\n",
       "      <th>R</th>\n",
       "      <th>AB</th>\n",
       "      <th>H</th>\n",
       "      <th>2B</th>\n",
       "      <th>3B</th>\n",
       "      <th>HR</th>\n",
       "      <th>BB</th>\n",
       "      <th>SO</th>\n",
       "      <th>SB</th>\n",
       "      <th>RA</th>\n",
       "      <th>ER</th>\n",
       "      <th>ERA</th>\n",
       "      <th>CG</th>\n",
       "      <th>SHO</th>\n",
       "      <th>SV</th>\n",
       "      <th>E</th>\n",
       "    </tr>\n",
       "  </thead>\n",
       "  <tbody>\n",
       "    <tr>\n",
       "      <th>0</th>\n",
       "      <td>95</td>\n",
       "      <td>724</td>\n",
       "      <td>5575</td>\n",
       "      <td>1497</td>\n",
       "      <td>300</td>\n",
       "      <td>42</td>\n",
       "      <td>139</td>\n",
       "      <td>383</td>\n",
       "      <td>973</td>\n",
       "      <td>104</td>\n",
       "      <td>641</td>\n",
       "      <td>601</td>\n",
       "      <td>3.73</td>\n",
       "      <td>2</td>\n",
       "      <td>8</td>\n",
       "      <td>56</td>\n",
       "      <td>88</td>\n",
       "    </tr>\n",
       "    <tr>\n",
       "      <th>1</th>\n",
       "      <td>83</td>\n",
       "      <td>696</td>\n",
       "      <td>5467</td>\n",
       "      <td>1349</td>\n",
       "      <td>277</td>\n",
       "      <td>44</td>\n",
       "      <td>156</td>\n",
       "      <td>439</td>\n",
       "      <td>1264</td>\n",
       "      <td>70</td>\n",
       "      <td>700</td>\n",
       "      <td>653</td>\n",
       "      <td>4.07</td>\n",
       "      <td>2</td>\n",
       "      <td>12</td>\n",
       "      <td>45</td>\n",
       "      <td>86</td>\n",
       "    </tr>\n",
       "    <tr>\n",
       "      <th>2</th>\n",
       "      <td>81</td>\n",
       "      <td>669</td>\n",
       "      <td>5439</td>\n",
       "      <td>1395</td>\n",
       "      <td>303</td>\n",
       "      <td>29</td>\n",
       "      <td>141</td>\n",
       "      <td>533</td>\n",
       "      <td>1157</td>\n",
       "      <td>86</td>\n",
       "      <td>640</td>\n",
       "      <td>584</td>\n",
       "      <td>3.67</td>\n",
       "      <td>11</td>\n",
       "      <td>10</td>\n",
       "      <td>38</td>\n",
       "      <td>79</td>\n",
       "    </tr>\n",
       "    <tr>\n",
       "      <th>3</th>\n",
       "      <td>76</td>\n",
       "      <td>622</td>\n",
       "      <td>5533</td>\n",
       "      <td>1381</td>\n",
       "      <td>260</td>\n",
       "      <td>27</td>\n",
       "      <td>136</td>\n",
       "      <td>404</td>\n",
       "      <td>1231</td>\n",
       "      <td>68</td>\n",
       "      <td>701</td>\n",
       "      <td>643</td>\n",
       "      <td>3.98</td>\n",
       "      <td>7</td>\n",
       "      <td>9</td>\n",
       "      <td>37</td>\n",
       "      <td>101</td>\n",
       "    </tr>\n",
       "    <tr>\n",
       "      <th>4</th>\n",
       "      <td>74</td>\n",
       "      <td>689</td>\n",
       "      <td>5605</td>\n",
       "      <td>1515</td>\n",
       "      <td>289</td>\n",
       "      <td>49</td>\n",
       "      <td>151</td>\n",
       "      <td>455</td>\n",
       "      <td>1259</td>\n",
       "      <td>83</td>\n",
       "      <td>803</td>\n",
       "      <td>746</td>\n",
       "      <td>4.64</td>\n",
       "      <td>7</td>\n",
       "      <td>12</td>\n",
       "      <td>35</td>\n",
       "      <td>86</td>\n",
       "    </tr>\n",
       "  </tbody>\n",
       "</table>\n",
       "</div>"
      ],
      "text/plain": [
       "    W    R    AB     H   2B  3B   HR   BB    SO   SB   RA   ER   ERA  CG  SHO  \\\n",
       "0  95  724  5575  1497  300  42  139  383   973  104  641  601  3.73   2    8   \n",
       "1  83  696  5467  1349  277  44  156  439  1264   70  700  653  4.07   2   12   \n",
       "2  81  669  5439  1395  303  29  141  533  1157   86  640  584  3.67  11   10   \n",
       "3  76  622  5533  1381  260  27  136  404  1231   68  701  643  3.98   7    9   \n",
       "4  74  689  5605  1515  289  49  151  455  1259   83  803  746  4.64   7   12   \n",
       "\n",
       "   SV    E  \n",
       "0  56   88  \n",
       "1  45   86  \n",
       "2  38   79  \n",
       "3  37  101  \n",
       "4  35   86  "
      ]
     },
     "execution_count": 195,
     "metadata": {},
     "output_type": "execute_result"
    }
   ],
   "source": [
    "df=pd.read_csv('baseball.csv')\n",
    "df.head()"
   ]
  },
  {
   "cell_type": "markdown",
   "metadata": {},
   "source": [
    "First we will convert column names to more understandable names"
   ]
  },
  {
   "cell_type": "code",
   "execution_count": 196,
   "metadata": {},
   "outputs": [],
   "source": [
    "df.columns=['Win','Runs','At Runs','Hits','Doubles','Triples','Homeruns','Walks','StrikeOut','Stolen Bases','Runs Allowed','Earned Runs','Earned Runs Average','Complete Games','Shutouts','Saves','Errors']"
   ]
  },
  {
   "cell_type": "code",
   "execution_count": 197,
   "metadata": {},
   "outputs": [
    {
     "data": {
      "text/html": [
       "<div>\n",
       "<style scoped>\n",
       "    .dataframe tbody tr th:only-of-type {\n",
       "        vertical-align: middle;\n",
       "    }\n",
       "\n",
       "    .dataframe tbody tr th {\n",
       "        vertical-align: top;\n",
       "    }\n",
       "\n",
       "    .dataframe thead th {\n",
       "        text-align: right;\n",
       "    }\n",
       "</style>\n",
       "<table border=\"1\" class=\"dataframe\">\n",
       "  <thead>\n",
       "    <tr style=\"text-align: right;\">\n",
       "      <th></th>\n",
       "      <th>Win</th>\n",
       "      <th>Runs</th>\n",
       "      <th>At Runs</th>\n",
       "      <th>Hits</th>\n",
       "      <th>Doubles</th>\n",
       "      <th>Triples</th>\n",
       "      <th>Homeruns</th>\n",
       "      <th>Walks</th>\n",
       "      <th>StrikeOut</th>\n",
       "      <th>Stolen Bases</th>\n",
       "      <th>Runs Allowed</th>\n",
       "      <th>Earned Runs</th>\n",
       "      <th>Earned Runs Average</th>\n",
       "      <th>Complete Games</th>\n",
       "      <th>Shutouts</th>\n",
       "      <th>Saves</th>\n",
       "      <th>Errors</th>\n",
       "    </tr>\n",
       "  </thead>\n",
       "  <tbody>\n",
       "    <tr>\n",
       "      <th>0</th>\n",
       "      <td>95</td>\n",
       "      <td>724</td>\n",
       "      <td>5575</td>\n",
       "      <td>1497</td>\n",
       "      <td>300</td>\n",
       "      <td>42</td>\n",
       "      <td>139</td>\n",
       "      <td>383</td>\n",
       "      <td>973</td>\n",
       "      <td>104</td>\n",
       "      <td>641</td>\n",
       "      <td>601</td>\n",
       "      <td>3.73</td>\n",
       "      <td>2</td>\n",
       "      <td>8</td>\n",
       "      <td>56</td>\n",
       "      <td>88</td>\n",
       "    </tr>\n",
       "    <tr>\n",
       "      <th>1</th>\n",
       "      <td>83</td>\n",
       "      <td>696</td>\n",
       "      <td>5467</td>\n",
       "      <td>1349</td>\n",
       "      <td>277</td>\n",
       "      <td>44</td>\n",
       "      <td>156</td>\n",
       "      <td>439</td>\n",
       "      <td>1264</td>\n",
       "      <td>70</td>\n",
       "      <td>700</td>\n",
       "      <td>653</td>\n",
       "      <td>4.07</td>\n",
       "      <td>2</td>\n",
       "      <td>12</td>\n",
       "      <td>45</td>\n",
       "      <td>86</td>\n",
       "    </tr>\n",
       "    <tr>\n",
       "      <th>2</th>\n",
       "      <td>81</td>\n",
       "      <td>669</td>\n",
       "      <td>5439</td>\n",
       "      <td>1395</td>\n",
       "      <td>303</td>\n",
       "      <td>29</td>\n",
       "      <td>141</td>\n",
       "      <td>533</td>\n",
       "      <td>1157</td>\n",
       "      <td>86</td>\n",
       "      <td>640</td>\n",
       "      <td>584</td>\n",
       "      <td>3.67</td>\n",
       "      <td>11</td>\n",
       "      <td>10</td>\n",
       "      <td>38</td>\n",
       "      <td>79</td>\n",
       "    </tr>\n",
       "    <tr>\n",
       "      <th>3</th>\n",
       "      <td>76</td>\n",
       "      <td>622</td>\n",
       "      <td>5533</td>\n",
       "      <td>1381</td>\n",
       "      <td>260</td>\n",
       "      <td>27</td>\n",
       "      <td>136</td>\n",
       "      <td>404</td>\n",
       "      <td>1231</td>\n",
       "      <td>68</td>\n",
       "      <td>701</td>\n",
       "      <td>643</td>\n",
       "      <td>3.98</td>\n",
       "      <td>7</td>\n",
       "      <td>9</td>\n",
       "      <td>37</td>\n",
       "      <td>101</td>\n",
       "    </tr>\n",
       "    <tr>\n",
       "      <th>4</th>\n",
       "      <td>74</td>\n",
       "      <td>689</td>\n",
       "      <td>5605</td>\n",
       "      <td>1515</td>\n",
       "      <td>289</td>\n",
       "      <td>49</td>\n",
       "      <td>151</td>\n",
       "      <td>455</td>\n",
       "      <td>1259</td>\n",
       "      <td>83</td>\n",
       "      <td>803</td>\n",
       "      <td>746</td>\n",
       "      <td>4.64</td>\n",
       "      <td>7</td>\n",
       "      <td>12</td>\n",
       "      <td>35</td>\n",
       "      <td>86</td>\n",
       "    </tr>\n",
       "  </tbody>\n",
       "</table>\n",
       "</div>"
      ],
      "text/plain": [
       "   Win  Runs  At Runs  Hits  Doubles  Triples  Homeruns  Walks  StrikeOut  \\\n",
       "0   95   724     5575  1497      300       42       139    383        973   \n",
       "1   83   696     5467  1349      277       44       156    439       1264   \n",
       "2   81   669     5439  1395      303       29       141    533       1157   \n",
       "3   76   622     5533  1381      260       27       136    404       1231   \n",
       "4   74   689     5605  1515      289       49       151    455       1259   \n",
       "\n",
       "   Stolen Bases  Runs Allowed  Earned Runs  Earned Runs Average  \\\n",
       "0           104           641          601                 3.73   \n",
       "1            70           700          653                 4.07   \n",
       "2            86           640          584                 3.67   \n",
       "3            68           701          643                 3.98   \n",
       "4            83           803          746                 4.64   \n",
       "\n",
       "   Complete Games  Shutouts  Saves  Errors  \n",
       "0               2         8     56      88  \n",
       "1               2        12     45      86  \n",
       "2              11        10     38      79  \n",
       "3               7         9     37     101  \n",
       "4               7        12     35      86  "
      ]
     },
     "execution_count": 197,
     "metadata": {},
     "output_type": "execute_result"
    }
   ],
   "source": [
    "df.head()"
   ]
  },
  {
   "cell_type": "code",
   "execution_count": 198,
   "metadata": {},
   "outputs": [
    {
     "data": {
      "text/plain": [
       "(30, 17)"
      ]
     },
     "execution_count": 198,
     "metadata": {},
     "output_type": "execute_result"
    }
   ],
   "source": [
    "df.shape"
   ]
  },
  {
   "cell_type": "markdown",
   "metadata": {},
   "source": [
    "There are 30 rows and 17 columns in our data. But looking at the columns, there are many redundant columns, So multicollinearity might exists between the features"
   ]
  },
  {
   "cell_type": "code",
   "execution_count": 199,
   "metadata": {},
   "outputs": [
    {
     "data": {
      "text/plain": [
       "Win                    0\n",
       "Runs                   0\n",
       "At Runs                0\n",
       "Hits                   0\n",
       "Doubles                0\n",
       "Triples                0\n",
       "Homeruns               0\n",
       "Walks                  0\n",
       "StrikeOut              0\n",
       "Stolen Bases           0\n",
       "Runs Allowed           0\n",
       "Earned Runs            0\n",
       "Earned Runs Average    0\n",
       "Complete Games         0\n",
       "Shutouts               0\n",
       "Saves                  0\n",
       "Errors                 0\n",
       "dtype: int64"
      ]
     },
     "execution_count": 199,
     "metadata": {},
     "output_type": "execute_result"
    }
   ],
   "source": [
    "df.isnull().sum()"
   ]
  },
  {
   "cell_type": "markdown",
   "metadata": {},
   "source": [
    "There are no null values inour dataset."
   ]
  },
  {
   "cell_type": "code",
   "execution_count": 13,
   "metadata": {},
   "outputs": [
    {
     "name": "stdout",
     "output_type": "stream",
     "text": [
      "Win <bound method Series.unique of 0      95\n",
      "1      83\n",
      "2      81\n",
      "3      76\n",
      "4      74\n",
      "5      93\n",
      "6      87\n",
      "7      81\n",
      "8      80\n",
      "9      78\n",
      "10     88\n",
      "11     86\n",
      "12     85\n",
      "13     76\n",
      "14     68\n",
      "15    100\n",
      "16     98\n",
      "17     97\n",
      "18     68\n",
      "19     64\n",
      "20     90\n",
      "21     83\n",
      "22     71\n",
      "23     67\n",
      "24     63\n",
      "25     92\n",
      "26     84\n",
      "27     79\n",
      "28     74\n",
      "29     68\n",
      "Name: Win, dtype: int64>\n",
      "Runs <bound method Series.unique of 0     724\n",
      "1     696\n",
      "2     669\n",
      "3     622\n",
      "4     689\n",
      "5     891\n",
      "6     764\n",
      "7     713\n",
      "8     644\n",
      "9     748\n",
      "10    751\n",
      "11    729\n",
      "12    661\n",
      "13    656\n",
      "14    694\n",
      "15    647\n",
      "16    697\n",
      "17    689\n",
      "18    655\n",
      "19    640\n",
      "20    683\n",
      "21    703\n",
      "22    613\n",
      "23    573\n",
      "24    626\n",
      "25    667\n",
      "26    696\n",
      "27    720\n",
      "28    650\n",
      "29    737\n",
      "Name: Runs, dtype: int64>\n",
      "At Runs <bound method Series.unique of 0     5575\n",
      "1     5467\n",
      "2     5439\n",
      "3     5533\n",
      "4     5605\n",
      "5     5509\n",
      "6     5567\n",
      "7     5485\n",
      "8     5485\n",
      "9     5640\n",
      "10    5511\n",
      "11    5459\n",
      "12    5417\n",
      "13    5544\n",
      "14    5600\n",
      "15    5484\n",
      "16    5631\n",
      "17    5491\n",
      "18    5480\n",
      "19    5571\n",
      "20    5527\n",
      "21    5428\n",
      "22    5463\n",
      "23    5420\n",
      "24    5529\n",
      "25    5385\n",
      "26    5565\n",
      "27    5649\n",
      "28    5457\n",
      "29    5572\n",
      "Name: At Runs, dtype: int64>\n",
      "Hits <bound method Series.unique of 0     1497\n",
      "1     1349\n",
      "2     1395\n",
      "3     1381\n",
      "4     1515\n",
      "5     1480\n",
      "6     1397\n",
      "7     1370\n",
      "8     1383\n",
      "9     1495\n",
      "10    1419\n",
      "11    1363\n",
      "12    1331\n",
      "13    1379\n",
      "14    1405\n",
      "15    1386\n",
      "16    1462\n",
      "17    1341\n",
      "18    1378\n",
      "19    1382\n",
      "20    1351\n",
      "21    1363\n",
      "22    1420\n",
      "23    1361\n",
      "24    1374\n",
      "25    1346\n",
      "26    1486\n",
      "27    1494\n",
      "28    1324\n",
      "29    1479\n",
      "Name: Hits, dtype: int64>\n",
      "Doubles <bound method Series.unique of 0     300\n",
      "1     277\n",
      "2     303\n",
      "3     260\n",
      "4     289\n",
      "5     308\n",
      "6     272\n",
      "7     246\n",
      "8     278\n",
      "9     294\n",
      "10    279\n",
      "11    278\n",
      "12    243\n",
      "13    262\n",
      "14    277\n",
      "15    288\n",
      "16    292\n",
      "17    272\n",
      "18    274\n",
      "19    257\n",
      "20    295\n",
      "21    265\n",
      "22    236\n",
      "23    251\n",
      "24    272\n",
      "25    263\n",
      "26    288\n",
      "27    289\n",
      "28    260\n",
      "29    274\n",
      "Name: Doubles, dtype: int64>\n",
      "Triples <bound method Series.unique of 0     42\n",
      "1     44\n",
      "2     29\n",
      "3     27\n",
      "4     49\n",
      "5     17\n",
      "6     19\n",
      "7     20\n",
      "8     32\n",
      "9     33\n",
      "10    32\n",
      "11    26\n",
      "12    21\n",
      "13    22\n",
      "14    46\n",
      "15    39\n",
      "16    27\n",
      "17    30\n",
      "18    34\n",
      "19    27\n",
      "20    17\n",
      "21    13\n",
      "22    40\n",
      "23    18\n",
      "24    37\n",
      "25    26\n",
      "26    39\n",
      "27    48\n",
      "28    36\n",
      "29    49\n",
      "Name: Triples, dtype: int64>\n",
      "Homeruns <bound method Series.unique of 0     139\n",
      "1     156\n",
      "2     141\n",
      "3     136\n",
      "4     151\n",
      "5     232\n",
      "6     212\n",
      "7     217\n",
      "8     167\n",
      "9     161\n",
      "10    172\n",
      "11    230\n",
      "12    176\n",
      "13    198\n",
      "14    146\n",
      "15    137\n",
      "16    140\n",
      "17    171\n",
      "18    145\n",
      "19    167\n",
      "20    177\n",
      "21    177\n",
      "22    120\n",
      "23    100\n",
      "24    130\n",
      "25    187\n",
      "26    136\n",
      "27    154\n",
      "28    148\n",
      "29    186\n",
      "Name: Homeruns, dtype: int64>\n",
      "Walks <bound method Series.unique of 0     383\n",
      "1     439\n",
      "2     533\n",
      "3     404\n",
      "4     455\n",
      "5     570\n",
      "6     554\n",
      "7     418\n",
      "8     436\n",
      "9     478\n",
      "10    503\n",
      "11    486\n",
      "12    435\n",
      "13    478\n",
      "14    475\n",
      "15    506\n",
      "16    461\n",
      "17    567\n",
      "18    412\n",
      "19    496\n",
      "20    488\n",
      "21    539\n",
      "22    375\n",
      "23    471\n",
      "24    387\n",
      "25    563\n",
      "26    457\n",
      "27    490\n",
      "28    426\n",
      "29    388\n",
      "Name: Walks, dtype: int64>\n",
      "StrikeOut <bound method Series.unique of 0      973\n",
      "1     1264\n",
      "2     1157\n",
      "3     1231\n",
      "4     1259\n",
      "5     1151\n",
      "6     1227\n",
      "7     1331\n",
      "8     1310\n",
      "9     1148\n",
      "10    1233\n",
      "11    1392\n",
      "12    1150\n",
      "13    1336\n",
      "14    1119\n",
      "15    1267\n",
      "16    1322\n",
      "17    1518\n",
      "18    1299\n",
      "19    1255\n",
      "20    1290\n",
      "21    1344\n",
      "22    1150\n",
      "23    1107\n",
      "24    1274\n",
      "25    1258\n",
      "26    1159\n",
      "27    1312\n",
      "28    1327\n",
      "29    1283\n",
      "Name: StrikeOut, dtype: int64>\n",
      "Stolen Bases <bound method Series.unique of 0     104\n",
      "1      70\n",
      "2      86\n",
      "3      68\n",
      "4      83\n",
      "5      88\n",
      "6      63\n",
      "7      44\n",
      "8      87\n",
      "9      71\n",
      "10    101\n",
      "11    121\n",
      "12     52\n",
      "13     69\n",
      "14     78\n",
      "15     69\n",
      "16     98\n",
      "17     95\n",
      "18     84\n",
      "19    134\n",
      "20     51\n",
      "21     57\n",
      "22    112\n",
      "23     69\n",
      "24     88\n",
      "25     59\n",
      "26     93\n",
      "27    132\n",
      "28     82\n",
      "29     97\n",
      "Name: Stolen Bases, dtype: int64>\n",
      "Runs Allowed <bound method Series.unique of 0     641\n",
      "1     700\n",
      "2     640\n",
      "3     701\n",
      "4     803\n",
      "5     670\n",
      "6     698\n",
      "7     693\n",
      "8     642\n",
      "9     753\n",
      "10    733\n",
      "11    618\n",
      "12    675\n",
      "13    726\n",
      "14    729\n",
      "15    525\n",
      "16    596\n",
      "17    608\n",
      "18    737\n",
      "19    754\n",
      "20    613\n",
      "21    635\n",
      "22    678\n",
      "23    760\n",
      "24    809\n",
      "25    595\n",
      "26    627\n",
      "27    713\n",
      "28    731\n",
      "29    844\n",
      "Name: Runs Allowed, dtype: int64>\n",
      "Earned Runs <bound method Series.unique of 0     601\n",
      "1     653\n",
      "2     584\n",
      "3     643\n",
      "4     746\n",
      "5     609\n",
      "6     652\n",
      "7     646\n",
      "8     604\n",
      "9     694\n",
      "10    680\n",
      "11    572\n",
      "12    630\n",
      "13    677\n",
      "14    664\n",
      "15    478\n",
      "16    532\n",
      "17    546\n",
      "18    682\n",
      "19    700\n",
      "20    557\n",
      "21    577\n",
      "22    638\n",
      "23    698\n",
      "24    749\n",
      "25    553\n",
      "26    597\n",
      "27    659\n",
      "28    655\n",
      "29    799\n",
      "Name: Earned Runs, dtype: int64>\n",
      "Earned Runs Average <bound method Series.unique of 0     3.73\n",
      "1     4.07\n",
      "2     3.67\n",
      "3     3.98\n",
      "4     4.64\n",
      "5     3.80\n",
      "6     4.03\n",
      "7     4.05\n",
      "8     3.74\n",
      "9     4.31\n",
      "10    4.24\n",
      "11    3.57\n",
      "12    3.94\n",
      "13    4.16\n",
      "14    4.14\n",
      "15    2.94\n",
      "16    3.21\n",
      "17    3.36\n",
      "18    4.28\n",
      "19    4.33\n",
      "20    3.43\n",
      "21    3.62\n",
      "22    4.02\n",
      "23    4.41\n",
      "24    4.69\n",
      "25    3.44\n",
      "26    3.72\n",
      "27    4.04\n",
      "28    4.09\n",
      "29    5.04\n",
      "Name: Earned Runs Average, dtype: float64>\n",
      "Complete Games <bound method Series.unique of 0      2\n",
      "1      2\n",
      "2     11\n",
      "3      7\n",
      "4      7\n",
      "5      7\n",
      "6      3\n",
      "7      0\n",
      "8      1\n",
      "9      3\n",
      "10     5\n",
      "11     5\n",
      "12     2\n",
      "13     6\n",
      "14     5\n",
      "15     1\n",
      "16     0\n",
      "17     6\n",
      "18     1\n",
      "19     2\n",
      "20     1\n",
      "21     4\n",
      "22     0\n",
      "23     3\n",
      "24     1\n",
      "25     6\n",
      "26     7\n",
      "27     1\n",
      "28     1\n",
      "29     4\n",
      "Name: Complete Games, dtype: int64>\n",
      "Shutouts <bound method Series.unique of 0      8\n",
      "1     12\n",
      "2     10\n",
      "3      9\n",
      "4     12\n",
      "5     10\n",
      "6      4\n",
      "7     10\n",
      "8     12\n",
      "9     10\n",
      "10     9\n",
      "11    13\n",
      "12    12\n",
      "13    12\n",
      "14    15\n",
      "15    15\n",
      "16    13\n",
      "17    21\n",
      "18     7\n",
      "19     8\n",
      "20    14\n",
      "21    13\n",
      "22    12\n",
      "23    10\n",
      "24     7\n",
      "25    21\n",
      "26    18\n",
      "27    12\n",
      "28     6\n",
      "29     4\n",
      "Name: Shutouts, dtype: int64>\n",
      "Saves <bound method Series.unique of 0     56\n",
      "1     45\n",
      "2     38\n",
      "3     37\n",
      "4     35\n",
      "5     34\n",
      "6     48\n",
      "7     43\n",
      "8     60\n",
      "9     40\n",
      "10    45\n",
      "11    39\n",
      "12    46\n",
      "13    45\n",
      "14    28\n",
      "15    62\n",
      "16    54\n",
      "17    48\n",
      "18    40\n",
      "19    35\n",
      "20    50\n",
      "21    41\n",
      "22    35\n",
      "23    44\n",
      "24    35\n",
      "25    47\n",
      "26    41\n",
      "27    44\n",
      "28    41\n",
      "29    36\n",
      "Name: Saves, dtype: int64>\n",
      "Errors <bound method Series.unique of 0      88\n",
      "1      86\n",
      "2      79\n",
      "3     101\n",
      "4      86\n",
      "5      88\n",
      "6      93\n",
      "7      77\n",
      "8      95\n",
      "9      97\n",
      "10    119\n",
      "11     85\n",
      "12     93\n",
      "13     94\n",
      "14    126\n",
      "15     96\n",
      "16    122\n",
      "17    111\n",
      "18    116\n",
      "19     90\n",
      "20     88\n",
      "21     90\n",
      "22     77\n",
      "23     90\n",
      "24    117\n",
      "25     75\n",
      "26     78\n",
      "27     86\n",
      "28     92\n",
      "29     95\n",
      "Name: Errors, dtype: int64>\n"
     ]
    }
   ],
   "source": [
    "for col in df.columns:\n",
    "    print(col,df[col].unique)"
   ]
  },
  {
   "cell_type": "code",
   "execution_count": 15,
   "metadata": {},
   "outputs": [
    {
     "data": {
      "text/plain": [
       "Win                      int64\n",
       "Runs                     int64\n",
       "At Runs                  int64\n",
       "Hits                     int64\n",
       "Doubles                  int64\n",
       "Triples                  int64\n",
       "Homeruns                 int64\n",
       "Walks                    int64\n",
       "StrikeOut                int64\n",
       "Stolen Bases             int64\n",
       "Runs Allowed             int64\n",
       "Earned Runs              int64\n",
       "Earned Runs Average    float64\n",
       "Complete Games           int64\n",
       "Shutouts                 int64\n",
       "Saves                    int64\n",
       "Errors                   int64\n",
       "dtype: object"
      ]
     },
     "execution_count": 15,
     "metadata": {},
     "output_type": "execute_result"
    }
   ],
   "source": [
    "df.dtypes"
   ]
  },
  {
   "cell_type": "markdown",
   "metadata": {},
   "source": [
    "All the columns are of numeric type. Our target variable 'Win' is also discrete numeric type. So, this is Regression type of problem"
   ]
  },
  {
   "cell_type": "code",
   "execution_count": 27,
   "metadata": {
    "scrolled": true
   },
   "outputs": [
    {
     "data": {
      "text/plain": [
       "<AxesSubplot:>"
      ]
     },
     "execution_count": 27,
     "metadata": {},
     "output_type": "execute_result"
    },
    {
     "data": {
      "image/png": "[encoded data removed]",
      "text/plain": [
       "<Figure size 1080x720 with 2 Axes>"
      ]
     },
     "metadata": {
      "needs_background": "light"
     },
     "output_type": "display_data"
    }
   ],
   "source": [
    "plt.figure(figsize=(15,10))\n",
    "sns.heatmap(df.corr(),annot=True)"
   ]
  },
  {
   "cell_type": "markdown",
   "metadata": {},
   "source": [
    "Hits,At runs,Complete games and errors are least correlated with our target variable."
   ]
  },
  {
   "cell_type": "markdown",
   "metadata": {},
   "source": [
    "We can see Runs Allowed, Earned Runs and Earned Runs Average are highly correlated with each other. So, multicollinearity exists. We will need to treat it"
   ]
  },
  {
   "cell_type": "code",
   "execution_count": 16,
   "metadata": {},
   "outputs": [
    {
     "data": {
      "text/html": [
       "<div>\n",
       "<style scoped>\n",
       "    .dataframe tbody tr th:only-of-type {\n",
       "        vertical-align: middle;\n",
       "    }\n",
       "\n",
       "    .dataframe tbody tr th {\n",
       "        vertical-align: top;\n",
       "    }\n",
       "\n",
       "    .dataframe thead th {\n",
       "        text-align: right;\n",
       "    }\n",
       "</style>\n",
       "<table border=\"1\" class=\"dataframe\">\n",
       "  <thead>\n",
       "    <tr style=\"text-align: right;\">\n",
       "      <th></th>\n",
       "      <th>Win</th>\n",
       "      <th>Runs</th>\n",
       "      <th>At Runs</th>\n",
       "      <th>Hits</th>\n",
       "      <th>Doubles</th>\n",
       "      <th>Triples</th>\n",
       "      <th>Homeruns</th>\n",
       "      <th>Walks</th>\n",
       "      <th>StrikeOut</th>\n",
       "      <th>Stolen Bases</th>\n",
       "      <th>Runs Allowed</th>\n",
       "      <th>Earned Runs</th>\n",
       "      <th>Earned Runs Average</th>\n",
       "      <th>Complete Games</th>\n",
       "      <th>Shutouts</th>\n",
       "      <th>Saves</th>\n",
       "      <th>Errors</th>\n",
       "    </tr>\n",
       "  </thead>\n",
       "  <tbody>\n",
       "    <tr>\n",
       "      <th>count</th>\n",
       "      <td>30.000000</td>\n",
       "      <td>30.000000</td>\n",
       "      <td>30.000000</td>\n",
       "      <td>30.000000</td>\n",
       "      <td>30.000000</td>\n",
       "      <td>30.000000</td>\n",
       "      <td>30.000000</td>\n",
       "      <td>30.000000</td>\n",
       "      <td>30.00000</td>\n",
       "      <td>30.000000</td>\n",
       "      <td>30.000000</td>\n",
       "      <td>30.000000</td>\n",
       "      <td>30.000000</td>\n",
       "      <td>30.000000</td>\n",
       "      <td>30.000000</td>\n",
       "      <td>30.000000</td>\n",
       "      <td>30.000000</td>\n",
       "    </tr>\n",
       "    <tr>\n",
       "      <th>mean</th>\n",
       "      <td>80.966667</td>\n",
       "      <td>688.233333</td>\n",
       "      <td>5516.266667</td>\n",
       "      <td>1403.533333</td>\n",
       "      <td>274.733333</td>\n",
       "      <td>31.300000</td>\n",
       "      <td>163.633333</td>\n",
       "      <td>469.100000</td>\n",
       "      <td>1248.20000</td>\n",
       "      <td>83.500000</td>\n",
       "      <td>688.233333</td>\n",
       "      <td>635.833333</td>\n",
       "      <td>3.956333</td>\n",
       "      <td>3.466667</td>\n",
       "      <td>11.300000</td>\n",
       "      <td>43.066667</td>\n",
       "      <td>94.333333</td>\n",
       "    </tr>\n",
       "    <tr>\n",
       "      <th>std</th>\n",
       "      <td>10.453455</td>\n",
       "      <td>58.761754</td>\n",
       "      <td>70.467372</td>\n",
       "      <td>57.140923</td>\n",
       "      <td>18.095405</td>\n",
       "      <td>10.452355</td>\n",
       "      <td>31.823309</td>\n",
       "      <td>57.053725</td>\n",
       "      <td>103.75947</td>\n",
       "      <td>22.815225</td>\n",
       "      <td>72.108005</td>\n",
       "      <td>70.140786</td>\n",
       "      <td>0.454089</td>\n",
       "      <td>2.763473</td>\n",
       "      <td>4.120177</td>\n",
       "      <td>7.869335</td>\n",
       "      <td>13.958889</td>\n",
       "    </tr>\n",
       "    <tr>\n",
       "      <th>min</th>\n",
       "      <td>63.000000</td>\n",
       "      <td>573.000000</td>\n",
       "      <td>5385.000000</td>\n",
       "      <td>1324.000000</td>\n",
       "      <td>236.000000</td>\n",
       "      <td>13.000000</td>\n",
       "      <td>100.000000</td>\n",
       "      <td>375.000000</td>\n",
       "      <td>973.00000</td>\n",
       "      <td>44.000000</td>\n",
       "      <td>525.000000</td>\n",
       "      <td>478.000000</td>\n",
       "      <td>2.940000</td>\n",
       "      <td>0.000000</td>\n",
       "      <td>4.000000</td>\n",
       "      <td>28.000000</td>\n",
       "      <td>75.000000</td>\n",
       "    </tr>\n",
       "    <tr>\n",
       "      <th>25%</th>\n",
       "      <td>74.000000</td>\n",
       "      <td>651.250000</td>\n",
       "      <td>5464.000000</td>\n",
       "      <td>1363.000000</td>\n",
       "      <td>262.250000</td>\n",
       "      <td>23.000000</td>\n",
       "      <td>140.250000</td>\n",
       "      <td>428.250000</td>\n",
       "      <td>1157.50000</td>\n",
       "      <td>69.000000</td>\n",
       "      <td>636.250000</td>\n",
       "      <td>587.250000</td>\n",
       "      <td>3.682500</td>\n",
       "      <td>1.000000</td>\n",
       "      <td>9.000000</td>\n",
       "      <td>37.250000</td>\n",
       "      <td>86.000000</td>\n",
       "    </tr>\n",
       "    <tr>\n",
       "      <th>50%</th>\n",
       "      <td>81.000000</td>\n",
       "      <td>689.000000</td>\n",
       "      <td>5510.000000</td>\n",
       "      <td>1382.500000</td>\n",
       "      <td>275.500000</td>\n",
       "      <td>31.000000</td>\n",
       "      <td>158.500000</td>\n",
       "      <td>473.000000</td>\n",
       "      <td>1261.50000</td>\n",
       "      <td>83.500000</td>\n",
       "      <td>695.500000</td>\n",
       "      <td>644.500000</td>\n",
       "      <td>4.025000</td>\n",
       "      <td>3.000000</td>\n",
       "      <td>12.000000</td>\n",
       "      <td>42.000000</td>\n",
       "      <td>91.000000</td>\n",
       "    </tr>\n",
       "    <tr>\n",
       "      <th>75%</th>\n",
       "      <td>87.750000</td>\n",
       "      <td>718.250000</td>\n",
       "      <td>5570.000000</td>\n",
       "      <td>1451.500000</td>\n",
       "      <td>288.750000</td>\n",
       "      <td>39.000000</td>\n",
       "      <td>177.000000</td>\n",
       "      <td>501.250000</td>\n",
       "      <td>1311.50000</td>\n",
       "      <td>96.500000</td>\n",
       "      <td>732.500000</td>\n",
       "      <td>679.250000</td>\n",
       "      <td>4.220000</td>\n",
       "      <td>5.750000</td>\n",
       "      <td>13.000000</td>\n",
       "      <td>46.750000</td>\n",
       "      <td>96.750000</td>\n",
       "    </tr>\n",
       "    <tr>\n",
       "      <th>max</th>\n",
       "      <td>100.000000</td>\n",
       "      <td>891.000000</td>\n",
       "      <td>5649.000000</td>\n",
       "      <td>1515.000000</td>\n",
       "      <td>308.000000</td>\n",
       "      <td>49.000000</td>\n",
       "      <td>232.000000</td>\n",
       "      <td>570.000000</td>\n",
       "      <td>1518.00000</td>\n",
       "      <td>134.000000</td>\n",
       "      <td>844.000000</td>\n",
       "      <td>799.000000</td>\n",
       "      <td>5.040000</td>\n",
       "      <td>11.000000</td>\n",
       "      <td>21.000000</td>\n",
       "      <td>62.000000</td>\n",
       "      <td>126.000000</td>\n",
       "    </tr>\n",
       "  </tbody>\n",
       "</table>\n",
       "</div>"
      ],
      "text/plain": [
       "              Win        Runs      At Runs         Hits     Doubles  \\\n",
       "count   30.000000   30.000000    30.000000    30.000000   30.000000   \n",
       "mean    80.966667  688.233333  5516.266667  1403.533333  274.733333   \n",
       "std     10.453455   58.761754    70.467372    57.140923   18.095405   \n",
       "min     63.000000  573.000000  5385.000000  1324.000000  236.000000   \n",
       "25%     74.000000  651.250000  5464.000000  1363.000000  262.250000   \n",
       "50%     81.000000  689.000000  5510.000000  1382.500000  275.500000   \n",
       "75%     87.750000  718.250000  5570.000000  1451.500000  288.750000   \n",
       "max    100.000000  891.000000  5649.000000  1515.000000  308.000000   \n",
       "\n",
       "         Triples    Homeruns       Walks   StrikeOut  Stolen Bases  \\\n",
       "count  30.000000   30.000000   30.000000    30.00000     30.000000   \n",
       "mean   31.300000  163.633333  469.100000  1248.20000     83.500000   \n",
       "std    10.452355   31.823309   57.053725   103.75947     22.815225   \n",
       "min    13.000000  100.000000  375.000000   973.00000     44.000000   \n",
       "25%    23.000000  140.250000  428.250000  1157.50000     69.000000   \n",
       "50%    31.000000  158.500000  473.000000  1261.50000     83.500000   \n",
       "75%    39.000000  177.000000  501.250000  1311.50000     96.500000   \n",
       "max    49.000000  232.000000  570.000000  1518.00000    134.000000   \n",
       "\n",
       "       Runs Allowed  Earned Runs  Earned Runs Average  Complete Games  \\\n",
       "count     30.000000    30.000000            30.000000       30.000000   \n",
       "mean     688.233333   635.833333             3.956333        3.466667   \n",
       "std       72.108005    70.140786             0.454089        2.763473   \n",
       "min      525.000000   478.000000             2.940000        0.000000   \n",
       "25%      636.250000   587.250000             3.682500        1.000000   \n",
       "50%      695.500000   644.500000             4.025000        3.000000   \n",
       "75%      732.500000   679.250000             4.220000        5.750000   \n",
       "max      844.000000   799.000000             5.040000       11.000000   \n",
       "\n",
       "        Shutouts      Saves      Errors  \n",
       "count  30.000000  30.000000   30.000000  \n",
       "mean   11.300000  43.066667   94.333333  \n",
       "std     4.120177   7.869335   13.958889  \n",
       "min     4.000000  28.000000   75.000000  \n",
       "25%     9.000000  37.250000   86.000000  \n",
       "50%    12.000000  42.000000   91.000000  \n",
       "75%    13.000000  46.750000   96.750000  \n",
       "max    21.000000  62.000000  126.000000  "
      ]
     },
     "execution_count": 16,
     "metadata": {},
     "output_type": "execute_result"
    }
   ],
   "source": [
    "df.describe()"
   ]
  },
  {
   "cell_type": "markdown",
   "metadata": {},
   "source": [
    "We can predict some outliers are present in Runs,Earned runs,shutouts and errors. Also, there is some skewness in some columns"
   ]
  },
  {
   "cell_type": "code",
   "execution_count": 30,
   "metadata": {},
   "outputs": [
    {
     "data": {
      "text/plain": [
       "<AxesSubplot:ylabel='Frequency'>"
      ]
     },
     "execution_count": 30,
     "metadata": {},
     "output_type": "execute_result"
    },
    {
     "data": {
      "image/png": "[encoded data removed]",
      "text/plain": [
       "<Figure size 432x288 with 1 Axes>"
      ]
     },
     "metadata": {
      "needs_background": "light"
     },
     "output_type": "display_data"
    }
   ],
   "source": [
    "df['Runs'].plot.hist()"
   ]
  },
  {
   "cell_type": "markdown",
   "metadata": {},
   "source": [
    "We can clearly see an outlier. Rest of the data is normally distributed."
   ]
  },
  {
   "cell_type": "code",
   "execution_count": 35,
   "metadata": {},
   "outputs": [
    {
     "data": {
      "text/plain": [
       "<AxesSubplot:ylabel='Frequency'>"
      ]
     },
     "execution_count": 35,
     "metadata": {},
     "output_type": "execute_result"
    },
    {
     "data": {
      "image/png": "[encoded data removed]",
      "text/plain": [
       "<Figure size 432x288 with 1 Axes>"
      ]
     },
     "metadata": {
      "needs_background": "light"
     },
     "output_type": "display_data"
    }
   ],
   "source": [
    "df['Homeruns'].plot.hist()"
   ]
  },
  {
   "cell_type": "markdown",
   "metadata": {},
   "source": [
    "Majority of the homeruns lies between 130 to 180."
   ]
  },
  {
   "cell_type": "code",
   "execution_count": 36,
   "metadata": {},
   "outputs": [
    {
     "data": {
      "text/plain": [
       "<AxesSubplot:ylabel='Frequency'>"
      ]
     },
     "execution_count": 36,
     "metadata": {},
     "output_type": "execute_result"
    },
    {
     "data": {
      "image/png": "[encoded data removed]",
      "text/plain": [
       "<Figure size 432x288 with 1 Axes>"
      ]
     },
     "metadata": {
      "needs_background": "light"
     },
     "output_type": "display_data"
    }
   ],
   "source": [
    "df['Walks'].plot.hist()"
   ]
  },
  {
   "cell_type": "markdown",
   "metadata": {},
   "source": [
    "The data is quite high at 475 while there are no walks between 500-525"
   ]
  },
  {
   "cell_type": "code",
   "execution_count": 33,
   "metadata": {},
   "outputs": [
    {
     "data": {
      "text/plain": [
       "<AxesSubplot:ylabel='Frequency'>"
      ]
     },
     "execution_count": 33,
     "metadata": {},
     "output_type": "execute_result"
    },
    {
     "data": {
      "image/png": "[encoded data removed]",
      "text/plain": [
       "<Figure size 432x288 with 1 Axes>"
      ]
     },
     "metadata": {
      "needs_background": "light"
     },
     "output_type": "display_data"
    }
   ],
   "source": [
    "df['Doubles'].plot.hist()"
   ]
  },
  {
   "cell_type": "markdown",
   "metadata": {},
   "source": [
    "HIghest number of doubles lies between 270 to 280 while the least is 250."
   ]
  },
  {
   "cell_type": "code",
   "execution_count": 34,
   "metadata": {},
   "outputs": [
    {
     "data": {
      "text/plain": [
       "<AxesSubplot:ylabel='Frequency'>"
      ]
     },
     "execution_count": 34,
     "metadata": {},
     "output_type": "execute_result"
    },
    {
     "data": {
      "image/png": "[encoded data removed]",
      "text/plain": [
       "<Figure size 432x288 with 1 Axes>"
      ]
     },
     "metadata": {
      "needs_background": "light"
     },
     "output_type": "display_data"
    }
   ],
   "source": [
    "df['Triples'].plot.hist()"
   ]
  },
  {
   "cell_type": "markdown",
   "metadata": {},
   "source": [
    "We can see 5 major spikes in data rest all the data s equally distributed."
   ]
  },
  {
   "cell_type": "code",
   "execution_count": 239,
   "metadata": {},
   "outputs": [
    {
     "data": {
      "text/plain": [
       "<AxesSubplot:ylabel='Frequency'>"
      ]
     },
     "execution_count": 239,
     "metadata": {},
     "output_type": "execute_result"
    },
    {
     "data": {
      "image/png": "[encoded data removed]",
      "text/plain": [
       "<Figure size 432x288 with 1 Axes>"
      ]
     },
     "metadata": {
      "needs_background": "light"
     },
     "output_type": "display_data"
    }
   ],
   "source": [
    "df['Runs Allowed'].plot.hist(bins=5)"
   ]
  },
  {
   "cell_type": "markdown",
   "metadata": {},
   "source": [
    "The data is present between 600 amd 750. With very few data point at 500-550"
   ]
  },
  {
   "cell_type": "code",
   "execution_count": 233,
   "metadata": {},
   "outputs": [
    {
     "data": {
      "text/plain": [
       "<AxesSubplot:ylabel='Frequency'>"
      ]
     },
     "execution_count": 233,
     "metadata": {},
     "output_type": "execute_result"
    },
    {
     "data": {
      "image/png": "[encoded data removed]",
      "text/plain": [
       "<Figure size 432x288 with 1 Axes>"
      ]
     },
     "metadata": {
      "needs_background": "light"
     },
     "output_type": "display_data"
    }
   ],
   "source": [
    "df['Saves'].plot.hist()"
   ]
  },
  {
   "cell_type": "markdown",
   "metadata": {},
   "source": [
    "Most of the saves lies between 35 and 50"
   ]
  },
  {
   "cell_type": "code",
   "execution_count": 49,
   "metadata": {},
   "outputs": [
    {
     "data": {
      "text/plain": [
       "<AxesSubplot:xlabel='Earned Runs', ylabel='Win'>"
      ]
     },
     "execution_count": 49,
     "metadata": {},
     "output_type": "execute_result"
    },
    {
     "data": {
      "image/png": "[encoded data removed]",
      "text/plain": [
       "<Figure size 432x288 with 1 Axes>"
      ]
     },
     "metadata": {
      "needs_background": "light"
     },
     "output_type": "display_data"
    }
   ],
   "source": [
    "sns.scatterplot(x=\"Earned Runs\", y=\"Win\", data=df)"
   ]
  },
  {
   "cell_type": "markdown",
   "metadata": {},
   "source": [
    "We can see our target variable and earned runs are highly negatively correlated with each other"
   ]
  },
  {
   "cell_type": "code",
   "execution_count": 51,
   "metadata": {},
   "outputs": [
    {
     "data": {
      "text/plain": [
       "<AxesSubplot:xlabel='Shutouts', ylabel='Win'>"
      ]
     },
     "execution_count": 51,
     "metadata": {},
     "output_type": "execute_result"
    },
    {
     "data": {
      "image/png": "[encoded data removed]",
      "text/plain": [
       "<Figure size 432x288 with 1 Axes>"
      ]
     },
     "metadata": {
      "needs_background": "light"
     },
     "output_type": "display_data"
    }
   ],
   "source": [
    "sns.scatterplot(x=\"Shutouts\", y=\"Win\", data=df)"
   ]
  },
  {
   "cell_type": "markdown",
   "metadata": {},
   "source": [
    "The data is highly spreaded and shows positive correlation with target."
   ]
  },
  {
   "cell_type": "code",
   "execution_count": 50,
   "metadata": {},
   "outputs": [
    {
     "data": {
      "text/plain": [
       "<AxesSubplot:xlabel='Saves', ylabel='Win'>"
      ]
     },
     "execution_count": 50,
     "metadata": {},
     "output_type": "execute_result"
    },
    {
     "data": {
      "image/png": "[encoded data removed]",
      "text/plain": [
       "<Figure size 432x288 with 1 Axes>"
      ]
     },
     "metadata": {
      "needs_background": "light"
     },
     "output_type": "display_data"
    }
   ],
   "source": [
    "sns.scatterplot(x=\"Saves\", y=\"Win\", data=df)"
   ]
  },
  {
   "cell_type": "markdown",
   "metadata": {},
   "source": [
    "the data is highly spreaded and shows positive correlation with target variable and the trend is similar to shutouts"
   ]
  },
  {
   "cell_type": "code",
   "execution_count": 52,
   "metadata": {},
   "outputs": [
    {
     "data": {
      "text/plain": [
       "<AxesSubplot:xlabel='Runs Allowed', ylabel='Win'>"
      ]
     },
     "execution_count": 52,
     "metadata": {},
     "output_type": "execute_result"
    },
    {
     "data": {
      "image/png": "[encoded data removed]",
      "text/plain": [
       "<Figure size 432x288 with 1 Axes>"
      ]
     },
     "metadata": {
      "needs_background": "light"
     },
     "output_type": "display_data"
    }
   ],
   "source": [
    "sns.scatterplot(x=\"Runs Allowed\", y=\"Win\", data=df)"
   ]
  },
  {
   "cell_type": "markdown",
   "metadata": {},
   "source": [
    "Runs Allowed is negatively correlated with win and shows a linear relationship"
   ]
  },
  {
   "cell_type": "code",
   "execution_count": 53,
   "metadata": {},
   "outputs": [
    {
     "data": {
      "text/plain": [
       "<AxesSubplot:xlabel='Earned Runs Average', ylabel='Win'>"
      ]
     },
     "execution_count": 53,
     "metadata": {},
     "output_type": "execute_result"
    },
    {
     "data": {
      "image/png": "[encoded data removed]",
      "text/plain": [
       "<Figure size 432x288 with 1 Axes>"
      ]
     },
     "metadata": {
      "needs_background": "light"
     },
     "output_type": "display_data"
    }
   ],
   "source": [
    "sns.scatterplot(x=\"Earned Runs Average\", y=\"Win\", data=df)"
   ]
  },
  {
   "cell_type": "markdown",
   "metadata": {},
   "source": [
    "Earned runs average trend is similar to earned runs which clearly shows there is multicollinearity"
   ]
  },
  {
   "cell_type": "code",
   "execution_count": 57,
   "metadata": {},
   "outputs": [
    {
     "data": {
      "image/png": "[encoded data removed]",
      "text/plain": [
       "<Figure size 720x720 with 17 Axes>"
      ]
     },
     "metadata": {},
     "output_type": "display_data"
    }
   ],
   "source": [
    "#Univariate Analysis\n",
    "plt.figure(figsize=(10,10),facecolor='white')\n",
    "plotnumber=1\n",
    "for column in df:\n",
    "    if plotnumber<=17:\n",
    "        ax=plt.subplot(5,4,plotnumber)\n",
    "        sns.boxplot(df[column])\n",
    "        plt.xlabel(column,fontsize=20)\n",
    "    plotnumber+=1\n",
    "plt.tight_layout() "
   ]
  },
  {
   "cell_type": "markdown",
   "metadata": {},
   "source": [
    "We can see outliers are present in Runs,Earned Runs Average, Shutouts, Saves and errors."
   ]
  },
  {
   "cell_type": "code",
   "execution_count": 56,
   "metadata": {},
   "outputs": [
    {
     "data": {
      "image/png": "[encoded data removed]",
      "text/plain": [
       "<Figure size 720x720 with 17 Axes>"
      ]
     },
     "metadata": {},
     "output_type": "display_data"
    }
   ],
   "source": [
    "#Bivariate Analysis\n",
    "plt.figure(figsize=(10,10),facecolor='white')\n",
    "plotnumber=1\n",
    "for column in df:\n",
    "    if plotnumber<=17:\n",
    "        ax=plt.subplot(5,4,plotnumber)\n",
    "        sns.distplot(df[column])\n",
    "        plt.xlabel(column,fontsize=20)\n",
    "    plotnumber+=1\n",
    "plt.tight_layout() "
   ]
  },
  {
   "cell_type": "markdown",
   "metadata": {},
   "source": [
    "The distribution is positively skewed in runs,Shutouts, complete games, saves and error"
   ]
  },
  {
   "cell_type": "code",
   "execution_count": 200,
   "metadata": {},
   "outputs": [],
   "source": [
    "#Removing outliers using z-score\n",
    "from scipy.stats import zscore\n",
    "z=np.abs(zscore(df))"
   ]
  },
  {
   "cell_type": "code",
   "execution_count": 201,
   "metadata": {},
   "outputs": [
    {
     "data": {
      "text/plain": [
       "(29, 17)"
      ]
     },
     "execution_count": 201,
     "metadata": {},
     "output_type": "execute_result"
    }
   ],
   "source": [
    "df=df[(z<3).all(axis=1)]\n",
    "df.shape"
   ]
  },
  {
   "cell_type": "markdown",
   "metadata": {},
   "source": [
    "After outlier removal, there are 29 rows and 17 columns in our data"
   ]
  },
  {
   "cell_type": "code",
   "execution_count": 202,
   "metadata": {},
   "outputs": [],
   "source": [
    "#Separting x and y for model evaluation\n",
    "x=df.drop('Win',axis=1)\n",
    "y=df[['Win']]"
   ]
  },
  {
   "cell_type": "code",
   "execution_count": 203,
   "metadata": {},
   "outputs": [
    {
     "data": {
      "text/plain": [
       "Runs                  -0.215364\n",
       "At Runs                0.169573\n",
       "Hits                   0.783772\n",
       "Doubles               -0.335304\n",
       "Triples                0.090124\n",
       "Homeruns               0.450862\n",
       "Walks                  0.151193\n",
       "StrikeOut             -0.233815\n",
       "Stolen Bases           0.494966\n",
       "Runs Allowed           0.018155\n",
       "Earned Runs            0.018461\n",
       "Earned Runs Average    0.016693\n",
       "Complete Games         0.854980\n",
       "Shutouts               0.526943\n",
       "Saves                  0.627480\n",
       "Errors                 0.840271\n",
       "dtype: float64"
      ]
     },
     "execution_count": 203,
     "metadata": {},
     "output_type": "execute_result"
    }
   ],
   "source": [
    "#Checking for skewness\n",
    "x.skew()"
   ]
  },
  {
   "cell_type": "code",
   "execution_count": 204,
   "metadata": {},
   "outputs": [
    {
     "data": {
      "text/plain": [
       "Runs                  -0.215364\n",
       "At Runs                0.169573\n",
       "Hits                   0.753696\n",
       "Doubles               -0.335304\n",
       "Triples                0.090124\n",
       "Homeruns               0.450862\n",
       "Walks                  0.151193\n",
       "StrikeOut             -0.233815\n",
       "Stolen Bases           0.494966\n",
       "Runs Allowed           0.018155\n",
       "Earned Runs            0.018461\n",
       "Earned Runs Average    0.016693\n",
       "Complete Games         0.219277\n",
       "Shutouts              -0.298136\n",
       "Saves                  0.280963\n",
       "Errors                 0.671748\n",
       "dtype: float64"
      ]
     },
     "execution_count": 204,
     "metadata": {},
     "output_type": "execute_result"
    }
   ],
   "source": [
    "for i in x.columns:\n",
    "    if x[i].skew()>0.5:\n",
    "        x[i]=np.cbrt(x[i])\n",
    "    if x[i].skew()<-0.5:\n",
    "         x[i]=np.square(x[i])\n",
    "\n",
    "x.skew() "
   ]
  },
  {
   "cell_type": "code",
   "execution_count": 205,
   "metadata": {},
   "outputs": [
    {
     "data": {
      "text/html": [
       "<div>\n",
       "<style scoped>\n",
       "    .dataframe tbody tr th:only-of-type {\n",
       "        vertical-align: middle;\n",
       "    }\n",
       "\n",
       "    .dataframe tbody tr th {\n",
       "        vertical-align: top;\n",
       "    }\n",
       "\n",
       "    .dataframe thead th {\n",
       "        text-align: right;\n",
       "    }\n",
       "</style>\n",
       "<table border=\"1\" class=\"dataframe\">\n",
       "  <thead>\n",
       "    <tr style=\"text-align: right;\">\n",
       "      <th></th>\n",
       "      <th>Runs</th>\n",
       "      <th>At Runs</th>\n",
       "      <th>Hits</th>\n",
       "      <th>Doubles</th>\n",
       "      <th>Triples</th>\n",
       "      <th>Homeruns</th>\n",
       "      <th>Walks</th>\n",
       "      <th>StrikeOut</th>\n",
       "      <th>Stolen Bases</th>\n",
       "      <th>Runs Allowed</th>\n",
       "      <th>Earned Runs</th>\n",
       "      <th>Earned Runs Average</th>\n",
       "      <th>Complete Games</th>\n",
       "      <th>Shutouts</th>\n",
       "      <th>Saves</th>\n",
       "      <th>Errors</th>\n",
       "    </tr>\n",
       "  </thead>\n",
       "  <tbody>\n",
       "    <tr>\n",
       "      <th>0</th>\n",
       "      <td>0.790576</td>\n",
       "      <td>0.719697</td>\n",
       "      <td>0.909479</td>\n",
       "      <td>0.955224</td>\n",
       "      <td>0.805556</td>\n",
       "      <td>0.300000</td>\n",
       "      <td>0.041667</td>\n",
       "      <td>0.000000</td>\n",
       "      <td>0.666667</td>\n",
       "      <td>0.363636</td>\n",
       "      <td>0.383178</td>\n",
       "      <td>0.376190</td>\n",
       "      <td>0.320941</td>\n",
       "      <td>0.352190</td>\n",
       "      <td>0.856693</td>\n",
       "      <td>0.289897</td>\n",
       "    </tr>\n",
       "    <tr>\n",
       "      <th>1</th>\n",
       "      <td>0.643979</td>\n",
       "      <td>0.310606</td>\n",
       "      <td>0.136142</td>\n",
       "      <td>0.611940</td>\n",
       "      <td>0.861111</td>\n",
       "      <td>0.430769</td>\n",
       "      <td>0.333333</td>\n",
       "      <td>0.533945</td>\n",
       "      <td>0.288889</td>\n",
       "      <td>0.548589</td>\n",
       "      <td>0.545171</td>\n",
       "      <td>0.538095</td>\n",
       "      <td>0.320941</td>\n",
       "      <td>0.599243</td>\n",
       "      <td>0.564749</td>\n",
       "      <td>0.247247</td>\n",
       "    </tr>\n",
       "    <tr>\n",
       "      <th>2</th>\n",
       "      <td>0.502618</td>\n",
       "      <td>0.204545</td>\n",
       "      <td>0.382313</td>\n",
       "      <td>1.000000</td>\n",
       "      <td>0.444444</td>\n",
       "      <td>0.315385</td>\n",
       "      <td>0.822917</td>\n",
       "      <td>0.337615</td>\n",
       "      <td>0.466667</td>\n",
       "      <td>0.360502</td>\n",
       "      <td>0.330218</td>\n",
       "      <td>0.347619</td>\n",
       "      <td>1.000000</td>\n",
       "      <td>0.484014</td>\n",
       "      <td>0.353181</td>\n",
       "      <td>0.092544</td>\n",
       "    </tr>\n",
       "    <tr>\n",
       "      <th>3</th>\n",
       "      <td>0.256545</td>\n",
       "      <td>0.560606</td>\n",
       "      <td>0.307972</td>\n",
       "      <td>0.358209</td>\n",
       "      <td>0.388889</td>\n",
       "      <td>0.276923</td>\n",
       "      <td>0.151042</td>\n",
       "      <td>0.473394</td>\n",
       "      <td>0.266667</td>\n",
       "      <td>0.551724</td>\n",
       "      <td>0.514019</td>\n",
       "      <td>0.495238</td>\n",
       "      <td>0.739838</td>\n",
       "      <td>0.420549</td>\n",
       "      <td>0.320886</td>\n",
       "      <td>0.552477</td>\n",
       "    </tr>\n",
       "    <tr>\n",
       "      <th>4</th>\n",
       "      <td>0.607330</td>\n",
       "      <td>0.833333</td>\n",
       "      <td>1.000000</td>\n",
       "      <td>0.791045</td>\n",
       "      <td>1.000000</td>\n",
       "      <td>0.392308</td>\n",
       "      <td>0.416667</td>\n",
       "      <td>0.524771</td>\n",
       "      <td>0.433333</td>\n",
       "      <td>0.871473</td>\n",
       "      <td>0.834891</td>\n",
       "      <td>0.809524</td>\n",
       "      <td>0.739838</td>\n",
       "      <td>0.599243</td>\n",
       "      <td>0.254506</td>\n",
       "      <td>0.247247</td>\n",
       "    </tr>\n",
       "    <tr>\n",
       "      <th>5</th>\n",
       "      <td>1.000000</td>\n",
       "      <td>0.689394</td>\n",
       "      <td>0.392893</td>\n",
       "      <td>0.537313</td>\n",
       "      <td>0.166667</td>\n",
       "      <td>0.861538</td>\n",
       "      <td>0.932292</td>\n",
       "      <td>0.466055</td>\n",
       "      <td>0.211111</td>\n",
       "      <td>0.542320</td>\n",
       "      <td>0.542056</td>\n",
       "      <td>0.519048</td>\n",
       "      <td>0.420551</td>\n",
       "      <td>0.000000</td>\n",
       "      <td>0.648703</td>\n",
       "      <td>0.393767</td>\n",
       "    </tr>\n",
       "    <tr>\n",
       "      <th>6</th>\n",
       "      <td>0.732984</td>\n",
       "      <td>0.378788</td>\n",
       "      <td>0.249208</td>\n",
       "      <td>0.149254</td>\n",
       "      <td>0.194444</td>\n",
       "      <td>0.900000</td>\n",
       "      <td>0.223958</td>\n",
       "      <td>0.656881</td>\n",
       "      <td>0.000000</td>\n",
       "      <td>0.526646</td>\n",
       "      <td>0.523364</td>\n",
       "      <td>0.528571</td>\n",
       "      <td>0.000000</td>\n",
       "      <td>0.484014</td>\n",
       "      <td>0.506684</td>\n",
       "      <td>0.046672</td>\n",
       "    </tr>\n",
       "    <tr>\n",
       "      <th>7</th>\n",
       "      <td>0.371728</td>\n",
       "      <td>0.378788</td>\n",
       "      <td>0.318623</td>\n",
       "      <td>0.626866</td>\n",
       "      <td>0.527778</td>\n",
       "      <td>0.515385</td>\n",
       "      <td>0.317708</td>\n",
       "      <td>0.618349</td>\n",
       "      <td>0.477778</td>\n",
       "      <td>0.366771</td>\n",
       "      <td>0.392523</td>\n",
       "      <td>0.380952</td>\n",
       "      <td>0.202180</td>\n",
       "      <td>0.599243</td>\n",
       "      <td>0.953301</td>\n",
       "      <td>0.434272</td>\n",
       "    </tr>\n",
       "    <tr>\n",
       "      <th>8</th>\n",
       "      <td>0.916230</td>\n",
       "      <td>0.965909</td>\n",
       "      <td>0.899376</td>\n",
       "      <td>0.865672</td>\n",
       "      <td>0.555556</td>\n",
       "      <td>0.469231</td>\n",
       "      <td>0.536458</td>\n",
       "      <td>0.321101</td>\n",
       "      <td>0.300000</td>\n",
       "      <td>0.714734</td>\n",
       "      <td>0.672897</td>\n",
       "      <td>0.652381</td>\n",
       "      <td>0.420551</td>\n",
       "      <td>0.484014</td>\n",
       "      <td>0.416110</td>\n",
       "      <td>0.474213</td>\n",
       "    </tr>\n",
       "    <tr>\n",
       "      <th>9</th>\n",
       "      <td>0.931937</td>\n",
       "      <td>0.477273</td>\n",
       "      <td>0.508606</td>\n",
       "      <td>0.641791</td>\n",
       "      <td>0.527778</td>\n",
       "      <td>0.553846</td>\n",
       "      <td>0.666667</td>\n",
       "      <td>0.477064</td>\n",
       "      <td>0.633333</td>\n",
       "      <td>0.652038</td>\n",
       "      <td>0.629283</td>\n",
       "      <td>0.619048</td>\n",
       "      <td>0.591178</td>\n",
       "      <td>0.420549</td>\n",
       "      <td>0.564749</td>\n",
       "      <td>0.881159</td>\n",
       "    </tr>\n",
       "    <tr>\n",
       "      <th>10</th>\n",
       "      <td>0.816754</td>\n",
       "      <td>0.280303</td>\n",
       "      <td>0.211649</td>\n",
       "      <td>0.626866</td>\n",
       "      <td>0.361111</td>\n",
       "      <td>1.000000</td>\n",
       "      <td>0.578125</td>\n",
       "      <td>0.768807</td>\n",
       "      <td>0.855556</td>\n",
       "      <td>0.291536</td>\n",
       "      <td>0.292835</td>\n",
       "      <td>0.300000</td>\n",
       "      <td>0.591178</td>\n",
       "      <td>0.652086</td>\n",
       "      <td>0.384914</td>\n",
       "      <td>0.225673</td>\n",
       "    </tr>\n",
       "    <tr>\n",
       "      <th>11</th>\n",
       "      <td>0.460733</td>\n",
       "      <td>0.121212</td>\n",
       "      <td>0.038291</td>\n",
       "      <td>0.104478</td>\n",
       "      <td>0.222222</td>\n",
       "      <td>0.584615</td>\n",
       "      <td>0.312500</td>\n",
       "      <td>0.324771</td>\n",
       "      <td>0.088889</td>\n",
       "      <td>0.470219</td>\n",
       "      <td>0.473520</td>\n",
       "      <td>0.476190</td>\n",
       "      <td>0.320941</td>\n",
       "      <td>0.599243</td>\n",
       "      <td>0.593137</td>\n",
       "      <td>0.393767</td>\n",
       "    </tr>\n",
       "    <tr>\n",
       "      <th>12</th>\n",
       "      <td>0.434555</td>\n",
       "      <td>0.602273</td>\n",
       "      <td>0.297311</td>\n",
       "      <td>0.388060</td>\n",
       "      <td>0.250000</td>\n",
       "      <td>0.753846</td>\n",
       "      <td>0.536458</td>\n",
       "      <td>0.666055</td>\n",
       "      <td>0.277778</td>\n",
       "      <td>0.630094</td>\n",
       "      <td>0.619938</td>\n",
       "      <td>0.580952</td>\n",
       "      <td>0.667584</td>\n",
       "      <td>0.599243</td>\n",
       "      <td>0.564749</td>\n",
       "      <td>0.414092</td>\n",
       "    </tr>\n",
       "    <tr>\n",
       "      <th>13</th>\n",
       "      <td>0.633508</td>\n",
       "      <td>0.814394</td>\n",
       "      <td>0.435110</td>\n",
       "      <td>0.611940</td>\n",
       "      <td>0.916667</td>\n",
       "      <td>0.353846</td>\n",
       "      <td>0.520833</td>\n",
       "      <td>0.267890</td>\n",
       "      <td>0.377778</td>\n",
       "      <td>0.639498</td>\n",
       "      <td>0.579439</td>\n",
       "      <td>0.571429</td>\n",
       "      <td>0.591178</td>\n",
       "      <td>0.750144</td>\n",
       "      <td>0.000000</td>\n",
       "      <td>1.000000</td>\n",
       "    </tr>\n",
       "    <tr>\n",
       "      <th>14</th>\n",
       "      <td>0.387435</td>\n",
       "      <td>0.375000</td>\n",
       "      <td>0.334580</td>\n",
       "      <td>0.776119</td>\n",
       "      <td>0.722222</td>\n",
       "      <td>0.284615</td>\n",
       "      <td>0.682292</td>\n",
       "      <td>0.539450</td>\n",
       "      <td>0.277778</td>\n",
       "      <td>0.000000</td>\n",
       "      <td>0.000000</td>\n",
       "      <td>0.000000</td>\n",
       "      <td>0.202180</td>\n",
       "      <td>0.750144</td>\n",
       "      <td>1.000000</td>\n",
       "      <td>0.454312</td>\n",
       "    </tr>\n",
       "    <tr>\n",
       "      <th>15</th>\n",
       "      <td>0.649215</td>\n",
       "      <td>0.931818</td>\n",
       "      <td>0.731366</td>\n",
       "      <td>0.835821</td>\n",
       "      <td>0.388889</td>\n",
       "      <td>0.307692</td>\n",
       "      <td>0.447917</td>\n",
       "      <td>0.640367</td>\n",
       "      <td>0.600000</td>\n",
       "      <td>0.222571</td>\n",
       "      <td>0.168224</td>\n",
       "      <td>0.128571</td>\n",
       "      <td>0.000000</td>\n",
       "      <td>0.652086</td>\n",
       "      <td>0.806656</td>\n",
       "      <td>0.932647</td>\n",
       "    </tr>\n",
       "    <tr>\n",
       "      <th>16</th>\n",
       "      <td>0.607330</td>\n",
       "      <td>0.401515</td>\n",
       "      <td>0.092761</td>\n",
       "      <td>0.537313</td>\n",
       "      <td>0.472222</td>\n",
       "      <td>0.546154</td>\n",
       "      <td>1.000000</td>\n",
       "      <td>1.000000</td>\n",
       "      <td>0.566667</td>\n",
       "      <td>0.260188</td>\n",
       "      <td>0.211838</td>\n",
       "      <td>0.200000</td>\n",
       "      <td>0.667584</td>\n",
       "      <td>1.000000</td>\n",
       "      <td>0.648703</td>\n",
       "      <td>0.739488</td>\n",
       "    </tr>\n",
       "    <tr>\n",
       "      <th>17</th>\n",
       "      <td>0.429319</td>\n",
       "      <td>0.359848</td>\n",
       "      <td>0.291976</td>\n",
       "      <td>0.567164</td>\n",
       "      <td>0.583333</td>\n",
       "      <td>0.346154</td>\n",
       "      <td>0.192708</td>\n",
       "      <td>0.598165</td>\n",
       "      <td>0.444444</td>\n",
       "      <td>0.664577</td>\n",
       "      <td>0.635514</td>\n",
       "      <td>0.638095</td>\n",
       "      <td>0.202180</td>\n",
       "      <td>0.277869</td>\n",
       "      <td>0.416110</td>\n",
       "      <td>0.828799</td>\n",
       "    </tr>\n",
       "    <tr>\n",
       "      <th>18</th>\n",
       "      <td>0.350785</td>\n",
       "      <td>0.704545</td>\n",
       "      <td>0.313299</td>\n",
       "      <td>0.313433</td>\n",
       "      <td>0.388889</td>\n",
       "      <td>0.515385</td>\n",
       "      <td>0.630208</td>\n",
       "      <td>0.517431</td>\n",
       "      <td>1.000000</td>\n",
       "      <td>0.717868</td>\n",
       "      <td>0.691589</td>\n",
       "      <td>0.661905</td>\n",
       "      <td>0.320941</td>\n",
       "      <td>0.352190</td>\n",
       "      <td>0.254506</td>\n",
       "      <td>0.331905</td>\n",
       "    </tr>\n",
       "    <tr>\n",
       "      <th>19</th>\n",
       "      <td>0.575916</td>\n",
       "      <td>0.537879</td>\n",
       "      <td>0.146961</td>\n",
       "      <td>0.880597</td>\n",
       "      <td>0.111111</td>\n",
       "      <td>0.592308</td>\n",
       "      <td>0.588542</td>\n",
       "      <td>0.581651</td>\n",
       "      <td>0.077778</td>\n",
       "      <td>0.275862</td>\n",
       "      <td>0.246106</td>\n",
       "      <td>0.233333</td>\n",
       "      <td>0.202180</td>\n",
       "      <td>0.702283</td>\n",
       "      <td>0.702747</td>\n",
       "      <td>0.289897</td>\n",
       "    </tr>\n",
       "    <tr>\n",
       "      <th>20</th>\n",
       "      <td>0.680628</td>\n",
       "      <td>0.162879</td>\n",
       "      <td>0.211649</td>\n",
       "      <td>0.432836</td>\n",
       "      <td>0.000000</td>\n",
       "      <td>0.592308</td>\n",
       "      <td>0.854167</td>\n",
       "      <td>0.680734</td>\n",
       "      <td>0.144444</td>\n",
       "      <td>0.344828</td>\n",
       "      <td>0.308411</td>\n",
       "      <td>0.323810</td>\n",
       "      <td>0.509462</td>\n",
       "      <td>0.652086</td>\n",
       "      <td>0.446789</td>\n",
       "      <td>0.331905</td>\n",
       "    </tr>\n",
       "    <tr>\n",
       "      <th>21</th>\n",
       "      <td>0.209424</td>\n",
       "      <td>0.295455</td>\n",
       "      <td>0.513838</td>\n",
       "      <td>0.000000</td>\n",
       "      <td>0.750000</td>\n",
       "      <td>0.153846</td>\n",
       "      <td>0.000000</td>\n",
       "      <td>0.324771</td>\n",
       "      <td>0.755556</td>\n",
       "      <td>0.479624</td>\n",
       "      <td>0.498442</td>\n",
       "      <td>0.514286</td>\n",
       "      <td>0.000000</td>\n",
       "      <td>0.599243</td>\n",
       "      <td>0.254506</td>\n",
       "      <td>0.046672</td>\n",
       "    </tr>\n",
       "    <tr>\n",
       "      <th>22</th>\n",
       "      <td>0.000000</td>\n",
       "      <td>0.132576</td>\n",
       "      <td>0.200894</td>\n",
       "      <td>0.223881</td>\n",
       "      <td>0.138889</td>\n",
       "      <td>0.000000</td>\n",
       "      <td>0.500000</td>\n",
       "      <td>0.245872</td>\n",
       "      <td>0.277778</td>\n",
       "      <td>0.736677</td>\n",
       "      <td>0.685358</td>\n",
       "      <td>0.700000</td>\n",
       "      <td>0.420551</td>\n",
       "      <td>0.484014</td>\n",
       "      <td>0.535936</td>\n",
       "      <td>0.331905</td>\n",
       "    </tr>\n",
       "    <tr>\n",
       "      <th>23</th>\n",
       "      <td>0.277487</td>\n",
       "      <td>0.545455</td>\n",
       "      <td>0.270613</td>\n",
       "      <td>0.537313</td>\n",
       "      <td>0.666667</td>\n",
       "      <td>0.230769</td>\n",
       "      <td>0.062500</td>\n",
       "      <td>0.552294</td>\n",
       "      <td>0.488889</td>\n",
       "      <td>0.890282</td>\n",
       "      <td>0.844237</td>\n",
       "      <td>0.833333</td>\n",
       "      <td>0.202180</td>\n",
       "      <td>0.277869</td>\n",
       "      <td>0.254506</td>\n",
       "      <td>0.846352</td>\n",
       "    </tr>\n",
       "    <tr>\n",
       "      <th>24</th>\n",
       "      <td>0.492147</td>\n",
       "      <td>0.000000</td>\n",
       "      <td>0.119895</td>\n",
       "      <td>0.402985</td>\n",
       "      <td>0.361111</td>\n",
       "      <td>0.669231</td>\n",
       "      <td>0.979167</td>\n",
       "      <td>0.522936</td>\n",
       "      <td>0.166667</td>\n",
       "      <td>0.219436</td>\n",
       "      <td>0.233645</td>\n",
       "      <td>0.238095</td>\n",
       "      <td>0.667584</td>\n",
       "      <td>1.000000</td>\n",
       "      <td>0.621117</td>\n",
       "      <td>0.000000</td>\n",
       "    </tr>\n",
       "    <tr>\n",
       "      <th>25</th>\n",
       "      <td>0.643979</td>\n",
       "      <td>0.681818</td>\n",
       "      <td>0.853802</td>\n",
       "      <td>0.776119</td>\n",
       "      <td>0.722222</td>\n",
       "      <td>0.276923</td>\n",
       "      <td>0.427083</td>\n",
       "      <td>0.341284</td>\n",
       "      <td>0.544444</td>\n",
       "      <td>0.319749</td>\n",
       "      <td>0.370717</td>\n",
       "      <td>0.371429</td>\n",
       "      <td>0.739838</td>\n",
       "      <td>0.882049</td>\n",
       "      <td>0.446789</td>\n",
       "      <td>0.069706</td>\n",
       "    </tr>\n",
       "    <tr>\n",
       "      <th>26</th>\n",
       "      <td>0.769634</td>\n",
       "      <td>1.000000</td>\n",
       "      <td>0.894321</td>\n",
       "      <td>0.791045</td>\n",
       "      <td>0.972222</td>\n",
       "      <td>0.415385</td>\n",
       "      <td>0.598958</td>\n",
       "      <td>0.622018</td>\n",
       "      <td>0.977778</td>\n",
       "      <td>0.589342</td>\n",
       "      <td>0.563863</td>\n",
       "      <td>0.523810</td>\n",
       "      <td>0.202180</td>\n",
       "      <td>0.599243</td>\n",
       "      <td>0.535936</td>\n",
       "      <td>0.247247</td>\n",
       "    </tr>\n",
       "    <tr>\n",
       "      <th>27</th>\n",
       "      <td>0.403141</td>\n",
       "      <td>0.272727</td>\n",
       "      <td>0.000000</td>\n",
       "      <td>0.358209</td>\n",
       "      <td>0.638889</td>\n",
       "      <td>0.369231</td>\n",
       "      <td>0.265625</td>\n",
       "      <td>0.649541</td>\n",
       "      <td>0.422222</td>\n",
       "      <td>0.645768</td>\n",
       "      <td>0.551402</td>\n",
       "      <td>0.547619</td>\n",
       "      <td>0.202180</td>\n",
       "      <td>0.196086</td>\n",
       "      <td>0.446789</td>\n",
       "      <td>0.373296</td>\n",
       "    </tr>\n",
       "    <tr>\n",
       "      <th>28</th>\n",
       "      <td>0.858639</td>\n",
       "      <td>0.708333</td>\n",
       "      <td>0.818229</td>\n",
       "      <td>0.567164</td>\n",
       "      <td>1.000000</td>\n",
       "      <td>0.661538</td>\n",
       "      <td>0.067708</td>\n",
       "      <td>0.568807</td>\n",
       "      <td>0.588889</td>\n",
       "      <td>1.000000</td>\n",
       "      <td>1.000000</td>\n",
       "      <td>1.000000</td>\n",
       "      <td>0.509462</td>\n",
       "      <td>0.000000</td>\n",
       "      <td>0.288003</td>\n",
       "      <td>0.434272</td>\n",
       "    </tr>\n",
       "  </tbody>\n",
       "</table>\n",
       "</div>"
      ],
      "text/plain": [
       "        Runs   At Runs      Hits   Doubles   Triples  Homeruns     Walks  \\\n",
       "0   0.790576  0.719697  0.909479  0.955224  0.805556  0.300000  0.041667   \n",
       "1   0.643979  0.310606  0.136142  0.611940  0.861111  0.430769  0.333333   \n",
       "2   0.502618  0.204545  0.382313  1.000000  0.444444  0.315385  0.822917   \n",
       "3   0.256545  0.560606  0.307972  0.358209  0.388889  0.276923  0.151042   \n",
       "4   0.607330  0.833333  1.000000  0.791045  1.000000  0.392308  0.416667   \n",
       "5   1.000000  0.689394  0.392893  0.537313  0.166667  0.861538  0.932292   \n",
       "6   0.732984  0.378788  0.249208  0.149254  0.194444  0.900000  0.223958   \n",
       "7   0.371728  0.378788  0.318623  0.626866  0.527778  0.515385  0.317708   \n",
       "8   0.916230  0.965909  0.899376  0.865672  0.555556  0.469231  0.536458   \n",
       "9   0.931937  0.477273  0.508606  0.641791  0.527778  0.553846  0.666667   \n",
       "10  0.816754  0.280303  0.211649  0.626866  0.361111  1.000000  0.578125   \n",
       "11  0.460733  0.121212  0.038291  0.104478  0.222222  0.584615  0.312500   \n",
       "12  0.434555  0.602273  0.297311  0.388060  0.250000  0.753846  0.536458   \n",
       "13  0.633508  0.814394  0.435110  0.611940  0.916667  0.353846  0.520833   \n",
       "14  0.387435  0.375000  0.334580  0.776119  0.722222  0.284615  0.682292   \n",
       "15  0.649215  0.931818  0.731366  0.835821  0.388889  0.307692  0.447917   \n",
       "16  0.607330  0.401515  0.092761  0.537313  0.472222  0.546154  1.000000   \n",
       "17  0.429319  0.359848  0.291976  0.567164  0.583333  0.346154  0.192708   \n",
       "18  0.350785  0.704545  0.313299  0.313433  0.388889  0.515385  0.630208   \n",
       "19  0.575916  0.537879  0.146961  0.880597  0.111111  0.592308  0.588542   \n",
       "20  0.680628  0.162879  0.211649  0.432836  0.000000  0.592308  0.854167   \n",
       "21  0.209424  0.295455  0.513838  0.000000  0.750000  0.153846  0.000000   \n",
       "22  0.000000  0.132576  0.200894  0.223881  0.138889  0.000000  0.500000   \n",
       "23  0.277487  0.545455  0.270613  0.537313  0.666667  0.230769  0.062500   \n",
       "24  0.492147  0.000000  0.119895  0.402985  0.361111  0.669231  0.979167   \n",
       "25  0.643979  0.681818  0.853802  0.776119  0.722222  0.276923  0.427083   \n",
       "26  0.769634  1.000000  0.894321  0.791045  0.972222  0.415385  0.598958   \n",
       "27  0.403141  0.272727  0.000000  0.358209  0.638889  0.369231  0.265625   \n",
       "28  0.858639  0.708333  0.818229  0.567164  1.000000  0.661538  0.067708   \n",
       "\n",
       "    StrikeOut  Stolen Bases  Runs Allowed  Earned Runs  Earned Runs Average  \\\n",
       "0    0.000000      0.666667      0.363636     0.383178             0.376190   \n",
       "1    0.533945      0.288889      0.548589     0.545171             0.538095   \n",
       "2    0.337615      0.466667      0.360502     0.330218             0.347619   \n",
       "3    0.473394      0.266667      0.551724     0.514019             0.495238   \n",
       "4    0.524771      0.433333      0.871473     0.834891             0.809524   \n",
       "5    0.466055      0.211111      0.542320     0.542056             0.519048   \n",
       "6    0.656881      0.000000      0.526646     0.523364             0.528571   \n",
       "7    0.618349      0.477778      0.366771     0.392523             0.380952   \n",
       "8    0.321101      0.300000      0.714734     0.672897             0.652381   \n",
       "9    0.477064      0.633333      0.652038     0.629283             0.619048   \n",
       "10   0.768807      0.855556      0.291536     0.292835             0.300000   \n",
       "11   0.324771      0.088889      0.470219     0.473520             0.476190   \n",
       "12   0.666055      0.277778      0.630094     0.619938             0.580952   \n",
       "13   0.267890      0.377778      0.639498     0.579439             0.571429   \n",
       "14   0.539450      0.277778      0.000000     0.000000             0.000000   \n",
       "15   0.640367      0.600000      0.222571     0.168224             0.128571   \n",
       "16   1.000000      0.566667      0.260188     0.211838             0.200000   \n",
       "17   0.598165      0.444444      0.664577     0.635514             0.638095   \n",
       "18   0.517431      1.000000      0.717868     0.691589             0.661905   \n",
       "19   0.581651      0.077778      0.275862     0.246106             0.233333   \n",
       "20   0.680734      0.144444      0.344828     0.308411             0.323810   \n",
       "21   0.324771      0.755556      0.479624     0.498442             0.514286   \n",
       "22   0.245872      0.277778      0.736677     0.685358             0.700000   \n",
       "23   0.552294      0.488889      0.890282     0.844237             0.833333   \n",
       "24   0.522936      0.166667      0.219436     0.233645             0.238095   \n",
       "25   0.341284      0.544444      0.319749     0.370717             0.371429   \n",
       "26   0.622018      0.977778      0.589342     0.563863             0.523810   \n",
       "27   0.649541      0.422222      0.645768     0.551402             0.547619   \n",
       "28   0.568807      0.588889      1.000000     1.000000             1.000000   \n",
       "\n",
       "    Complete Games  Shutouts     Saves    Errors  \n",
       "0         0.320941  0.352190  0.856693  0.289897  \n",
       "1         0.320941  0.599243  0.564749  0.247247  \n",
       "2         1.000000  0.484014  0.353181  0.092544  \n",
       "3         0.739838  0.420549  0.320886  0.552477  \n",
       "4         0.739838  0.599243  0.254506  0.247247  \n",
       "5         0.420551  0.000000  0.648703  0.393767  \n",
       "6         0.000000  0.484014  0.506684  0.046672  \n",
       "7         0.202180  0.599243  0.953301  0.434272  \n",
       "8         0.420551  0.484014  0.416110  0.474213  \n",
       "9         0.591178  0.420549  0.564749  0.881159  \n",
       "10        0.591178  0.652086  0.384914  0.225673  \n",
       "11        0.320941  0.599243  0.593137  0.393767  \n",
       "12        0.667584  0.599243  0.564749  0.414092  \n",
       "13        0.591178  0.750144  0.000000  1.000000  \n",
       "14        0.202180  0.750144  1.000000  0.454312  \n",
       "15        0.000000  0.652086  0.806656  0.932647  \n",
       "16        0.667584  1.000000  0.648703  0.739488  \n",
       "17        0.202180  0.277869  0.416110  0.828799  \n",
       "18        0.320941  0.352190  0.254506  0.331905  \n",
       "19        0.202180  0.702283  0.702747  0.289897  \n",
       "20        0.509462  0.652086  0.446789  0.331905  \n",
       "21        0.000000  0.599243  0.254506  0.046672  \n",
       "22        0.420551  0.484014  0.535936  0.331905  \n",
       "23        0.202180  0.277869  0.254506  0.846352  \n",
       "24        0.667584  1.000000  0.621117  0.000000  \n",
       "25        0.739838  0.882049  0.446789  0.069706  \n",
       "26        0.202180  0.599243  0.535936  0.247247  \n",
       "27        0.202180  0.196086  0.446789  0.373296  \n",
       "28        0.509462  0.000000  0.288003  0.434272  "
      ]
     },
     "execution_count": 205,
     "metadata": {},
     "output_type": "execute_result"
    }
   ],
   "source": [
    "#lets bring all features to a common scale\n",
    "from sklearn.preprocessing import MinMaxScaler\n",
    "mm=MinMaxScaler()\n",
    "x_=mm.fit_transform(x)\n",
    "x_=pd.DataFrame(x_,columns=x.columns)\n",
    "x_"
   ]
  },
  {
   "cell_type": "code",
   "execution_count": 206,
   "metadata": {},
   "outputs": [
    {
     "data": {
      "text/html": [
       "<div>\n",
       "<style scoped>\n",
       "    .dataframe tbody tr th:only-of-type {\n",
       "        vertical-align: middle;\n",
       "    }\n",
       "\n",
       "    .dataframe tbody tr th {\n",
       "        vertical-align: top;\n",
       "    }\n",
       "\n",
       "    .dataframe thead th {\n",
       "        text-align: right;\n",
       "    }\n",
       "</style>\n",
       "<table border=\"1\" class=\"dataframe\">\n",
       "  <thead>\n",
       "    <tr style=\"text-align: right;\">\n",
       "      <th></th>\n",
       "      <th>variables</th>\n",
       "      <th>VIF</th>\n",
       "    </tr>\n",
       "  </thead>\n",
       "  <tbody>\n",
       "    <tr>\n",
       "      <th>0</th>\n",
       "      <td>Runs</td>\n",
       "      <td>48.498060</td>\n",
       "    </tr>\n",
       "    <tr>\n",
       "      <th>1</th>\n",
       "      <td>At Runs</td>\n",
       "      <td>56.004698</td>\n",
       "    </tr>\n",
       "    <tr>\n",
       "      <th>2</th>\n",
       "      <td>Hits</td>\n",
       "      <td>26.794065</td>\n",
       "    </tr>\n",
       "    <tr>\n",
       "      <th>3</th>\n",
       "      <td>Doubles</td>\n",
       "      <td>21.213371</td>\n",
       "    </tr>\n",
       "    <tr>\n",
       "      <th>4</th>\n",
       "      <td>Triples</td>\n",
       "      <td>13.822916</td>\n",
       "    </tr>\n",
       "    <tr>\n",
       "      <th>5</th>\n",
       "      <td>Homeruns</td>\n",
       "      <td>44.025355</td>\n",
       "    </tr>\n",
       "    <tr>\n",
       "      <th>6</th>\n",
       "      <td>Walks</td>\n",
       "      <td>12.394493</td>\n",
       "    </tr>\n",
       "    <tr>\n",
       "      <th>7</th>\n",
       "      <td>StrikeOut</td>\n",
       "      <td>22.735894</td>\n",
       "    </tr>\n",
       "    <tr>\n",
       "      <th>8</th>\n",
       "      <td>Stolen Bases</td>\n",
       "      <td>6.404263</td>\n",
       "    </tr>\n",
       "    <tr>\n",
       "      <th>9</th>\n",
       "      <td>Runs Allowed</td>\n",
       "      <td>1022.157246</td>\n",
       "    </tr>\n",
       "    <tr>\n",
       "      <th>10</th>\n",
       "      <td>Earned Runs</td>\n",
       "      <td>5811.001348</td>\n",
       "    </tr>\n",
       "    <tr>\n",
       "      <th>11</th>\n",
       "      <td>Earned Runs Average</td>\n",
       "      <td>4549.239739</td>\n",
       "    </tr>\n",
       "    <tr>\n",
       "      <th>12</th>\n",
       "      <td>Complete Games</td>\n",
       "      <td>9.641552</td>\n",
       "    </tr>\n",
       "    <tr>\n",
       "      <th>13</th>\n",
       "      <td>Shutouts</td>\n",
       "      <td>11.897250</td>\n",
       "    </tr>\n",
       "    <tr>\n",
       "      <th>14</th>\n",
       "      <td>Saves</td>\n",
       "      <td>11.436688</td>\n",
       "    </tr>\n",
       "    <tr>\n",
       "      <th>15</th>\n",
       "      <td>Errors</td>\n",
       "      <td>6.914395</td>\n",
       "    </tr>\n",
       "  </tbody>\n",
       "</table>\n",
       "</div>"
      ],
      "text/plain": [
       "              variables          VIF\n",
       "0                  Runs    48.498060\n",
       "1               At Runs    56.004698\n",
       "2                  Hits    26.794065\n",
       "3               Doubles    21.213371\n",
       "4               Triples    13.822916\n",
       "5              Homeruns    44.025355\n",
       "6                 Walks    12.394493\n",
       "7             StrikeOut    22.735894\n",
       "8          Stolen Bases     6.404263\n",
       "9          Runs Allowed  1022.157246\n",
       "10          Earned Runs  5811.001348\n",
       "11  Earned Runs Average  4549.239739\n",
       "12       Complete Games     9.641552\n",
       "13             Shutouts    11.897250\n",
       "14                Saves    11.436688\n",
       "15               Errors     6.914395"
      ]
     },
     "execution_count": 206,
     "metadata": {},
     "output_type": "execute_result"
    }
   ],
   "source": [
    "#Checking for multicollinearity using VIF\n",
    "from statsmodels.stats.outliers_influence import variance_inflation_factor\n",
    "vif = pd.DataFrame()\n",
    "vif[\"variables\"] = x_.columns\n",
    "vif[\"VIF\"] = [variance_inflation_factor(x_.values, i) for i in range(x_.shape[1])]\n",
    "\n",
    "vif"
   ]
  },
  {
   "cell_type": "markdown",
   "metadata": {},
   "source": [
    "We can see Runs Allowed, Earned Runs and Earned Runs Average have very high VIF, Similarly,Runs At Runs and Homeruns also havehigh VIF. Most of the features have VIF greater than 10 which is not desirable, so we will drop the high Multicollinar column"
   ]
  },
  {
   "cell_type": "code",
   "execution_count": 207,
   "metadata": {},
   "outputs": [],
   "source": [
    "x_.drop(['Runs','At Runs','Doubles','Triples','Runs Allowed','StrikeOut','Earned Runs','Errors','Shutouts','Complete Games'],axis=1,inplace=True)"
   ]
  },
  {
   "cell_type": "code",
   "execution_count": 209,
   "metadata": {},
   "outputs": [],
   "source": [
    "from sklearn.model_selection import train_test_split"
   ]
  },
  {
   "cell_type": "markdown",
   "metadata": {},
   "source": [
    "### Finding the best Random State"
   ]
  },
  {
   "cell_type": "code",
   "execution_count": 210,
   "metadata": {},
   "outputs": [
    {
     "name": "stdout",
     "output_type": "stream",
     "text": [
      "Best accuracy is  0.9731221133172842  on Random_state  108\n"
     ]
    }
   ],
   "source": [
    "from sklearn.linear_model import LinearRegression\n",
    "from sklearn.metrics import r2_score,mean_squared_error,mean_absolute_error\n",
    "maxAccu=0\n",
    "maxRS=0\n",
    "for i in range(1,200):\n",
    "    x_train,x_test,y_train,y_test=train_test_split(x_,y,test_size=.20,random_state=i)\n",
    "    lg=LinearRegression()\n",
    "    lg.fit(x_train,y_train)\n",
    "    predrf=lg.predict(x_test)\n",
    "    acc=r2_score(y_test,predrf)\n",
    "    if acc>maxAccu:\n",
    "        maxAccu=acc\n",
    "        maxRS=i\n",
    "print(\"Best accuracy is \",maxAccu,\" on Random_state \",maxRS)"
   ]
  },
  {
   "cell_type": "markdown",
   "metadata": {},
   "source": [
    "### Model Evaluation"
   ]
  },
  {
   "cell_type": "code",
   "execution_count": 211,
   "metadata": {},
   "outputs": [],
   "source": [
    "#splitting data into training and testing datasets\n",
    "x_train,x_test,y_train,y_test=train_test_split(x_,y,test_size=.20,random_state=maxRS)"
   ]
  },
  {
   "cell_type": "code",
   "execution_count": 212,
   "metadata": {},
   "outputs": [],
   "source": [
    "from sklearn.svm import SVR \n",
    "from sklearn.tree import DecisionTreeRegressor \n",
    "from sklearn.neighbors import KNeighborsRegressor \n",
    "from sklearn.ensemble import RandomForestRegressor "
   ]
  },
  {
   "cell_type": "code",
   "execution_count": 221,
   "metadata": {},
   "outputs": [
    {
     "name": "stdout",
     "output_type": "stream",
     "text": [
      "KNeighborsRegressor()\n",
      "0.5508844349001831\n",
      "error: \n",
      "Mean absolute error:  5.0\n",
      "Mean squared error:  34.946666666666665\n",
      "Root mean squared error:  5.911570575292717\n",
      "r2_score 0.7314663820704376\n",
      "\n",
      "\n",
      "\n",
      "RandomForestRegressor()\n",
      "0.9200109739123519\n",
      "error: \n",
      "Mean absolute error:  4.188333333333335\n",
      "Mean squared error:  20.47215000000001\n",
      "Root mean squared error:  4.524616005806461\n",
      "r2_score 0.8426899893276414\n",
      "\n",
      "\n",
      "\n",
      "LinearRegression()\n",
      "0.8155173454173121\n",
      "error: \n",
      "Mean absolute error:  1.628348546722189\n",
      "Mean squared error:  3.497858308570097\n",
      "Root mean squared error:  1.8702562146855968\n",
      "r2_score 0.9731221133172842\n",
      "\n",
      "\n",
      "\n"
     ]
    }
   ],
   "source": [
    "model=[KNeighborsRegressor(),RandomForestRegressor(),LinearRegression()]\n",
    "\n",
    "for m in model:\n",
    "    m.fit(x_train,y_train)\n",
    "    m.score(x_train,y_train)\n",
    "    predm=m.predict(x_test)\n",
    "    print(m)\n",
    "    print(m.score(x_train,y_train))\n",
    "    print(\"error: \")\n",
    "    print(\"Mean absolute error: \",mean_absolute_error(y_test,predm))\n",
    "    print(\"Mean squared error: \",mean_squared_error(y_test,predm))\n",
    "    print(\"Root mean squared error: \",np.sqrt(mean_squared_error(y_test,predm)))\n",
    "    print(\"r2_score\",r2_score(y_test,predm))\n",
    "    print(\"\\n\\n\")"
   ]
  },
  {
   "cell_type": "code",
   "execution_count": 218,
   "metadata": {},
   "outputs": [
    {
     "name": "stdout",
     "output_type": "stream",
     "text": [
      "0.33560145312159806\n"
     ]
    }
   ],
   "source": [
    "from sklearn.model_selection import cross_val_score\n",
    "cv_score=cross_val_score(KNeighborsRegressor(),x_,y,cv=2,scoring='r2')\n",
    "cv_mean=cv_score.mean()\n",
    "print(cv_mean)"
   ]
  },
  {
   "cell_type": "code",
   "execution_count": 219,
   "metadata": {},
   "outputs": [
    {
     "name": "stdout",
     "output_type": "stream",
     "text": [
      "0.4802973902478662\n"
     ]
    }
   ],
   "source": [
    "from sklearn.model_selection import cross_val_score\n",
    "cv_score=cross_val_score(RandomForestRegressor(),x_,y,cv=4,scoring='r2')\n",
    "cv_mean=cv_score.mean()\n",
    "print(cv_mean)"
   ]
  },
  {
   "cell_type": "code",
   "execution_count": 220,
   "metadata": {},
   "outputs": [
    {
     "name": "stdout",
     "output_type": "stream",
     "text": [
      "0.7009268462754588\n"
     ]
    }
   ],
   "source": [
    "from sklearn.model_selection import cross_val_score\n",
    "cv_score=cross_val_score(LinearRegression(),x_,y,cv=4,scoring='r2')\n",
    "cv_mean=cv_score.mean()\n",
    "print(cv_mean)"
   ]
  },
  {
   "cell_type": "markdown",
   "metadata": {},
   "source": [
    "### Regularization"
   ]
  },
  {
   "cell_type": "code",
   "execution_count": 222,
   "metadata": {},
   "outputs": [
    {
     "name": "stdout",
     "output_type": "stream",
     "text": [
      "{'alpha': 0.1, 'random_state': 0}\n"
     ]
    }
   ],
   "source": [
    "from sklearn.model_selection import GridSearchCV\n",
    "from sklearn.linear_model import Lasso\n",
    "parameters={'alpha':[.0001,.001,.01,.1,1,10],'random_state':list(range(0,10))}\n",
    "ls=Lasso()\n",
    "clf=GridSearchCV(ls,parameters)\n",
    "clf.fit(x_train,y_train)\n",
    "print(clf.best_params_)"
   ]
  },
  {
   "cell_type": "code",
   "execution_count": 223,
   "metadata": {},
   "outputs": [
    {
     "name": "stdout",
     "output_type": "stream",
     "text": [
      "r2_score: 0.9548166173770487\n",
      "error: \n",
      "Mean absolute error:  2.377807060491712\n",
      "Mean squared error:  5.880115210792415\n",
      "Root mean squared error:  2.4248948865450672\n"
     ]
    }
   ],
   "source": [
    "ls=Lasso(alpha=0.1,random_state=0)\n",
    "ls.fit(x_train,y_train)\n",
    "ls.score(x_train,y_train)\n",
    "predls=ls.predict(x_test)\n",
    "lss=r2_score(y_test,predls)\n",
    "print('r2_score:', lss)\n",
    "print(\"error: \")\n",
    "print(\"Mean absolute error: \",mean_absolute_error(y_test,predls))\n",
    "print(\"Mean squared error: \",mean_squared_error(y_test,predls))\n",
    "print(\"Root mean squared error: \",np.sqrt(mean_squared_error(y_test,predls)))"
   ]
  },
  {
   "cell_type": "markdown",
   "metadata": {},
   "source": [
    "### Hyper-Parameter Tuning"
   ]
  },
  {
   "cell_type": "code",
   "execution_count": 226,
   "metadata": {},
   "outputs": [
    {
     "name": "stdout",
     "output_type": "stream",
     "text": [
      "{'criterion': 'mse', 'max_depth': 6, 'max_features': 'log2', 'n_estimators': 500}\n"
     ]
    }
   ],
   "source": [
    "parameters={'criterion':['mse','mae'],'max_features':[\"auto\",\"sqrt\",\"log2\"],'n_estimators':[100,500],'max_depth': [4,5,6,7,8]}\n",
    "rf=RandomForestRegressor()\n",
    "clf=GridSearchCV(rf,parameters)\n",
    "clf.fit(x_train,y_train)\n",
    "print(clf.best_params_)"
   ]
  },
  {
   "cell_type": "code",
   "execution_count": 232,
   "metadata": {},
   "outputs": [
    {
     "name": "stdout",
     "output_type": "stream",
     "text": [
      "R2 Score: 80.92583013667503\n",
      "error: \n",
      "Mean absolute error:  4.3640911375661275\n",
      "Mean squared error:  24.8229127249104\n",
      "Root mean squared error:  4.982259801025073\n"
     ]
    }
   ],
   "source": [
    "rf=RandomForestRegressor(criterion=\"mse\",max_features=\"log2\",n_estimators=500,max_depth=6)\n",
    "rf.fit(x_train,y_train)\n",
    "rf.score(x_train,y_train)\n",
    "pred_decision=rf.predict(x_test)\n",
    "rfs=r2_score(y_test,pred_decision)\n",
    "print('R2 Score:',rfs*100)\n",
    "print(\"error: \")\n",
    "print(\"Mean absolute error: \",mean_absolute_error(y_test,pred_decision))\n",
    "print(\"Mean squared error: \",mean_squared_error(y_test,pred_decision))\n",
    "print(\"Root mean squared error: \",np.sqrt(mean_squared_error(y_test,pred_decision)))\n"
   ]
  },
  {
   "cell_type": "markdown",
   "metadata": {},
   "source": [
    "After doing all the posiible evaluation, we can see we have high r2 score in Linear and lasso regression. But aftr checking the cross val score and in terms of MSE, linear regression have least MAE,MSE and RMSE. So, We will select linear regression as our best model."
   ]
  },
  {
   "cell_type": "markdown",
   "metadata": {},
   "source": [
    "### Saving the Model"
   ]
  },
  {
   "cell_type": "code",
   "execution_count": 242,
   "metadata": {},
   "outputs": [
    {
     "data": {
      "text/plain": [
       "['baseball.pkl']"
      ]
     },
     "execution_count": 242,
     "metadata": {},
     "output_type": "execute_result"
    }
   ],
   "source": [
    "import joblib\n",
    "joblib.dump(LinearRegression(),'baseball.pkl')"
   ]
  },
  {
   "cell_type": "code",
   "execution_count": null,
   "metadata": {},
   "outputs": [],
   "source": []
  }
 ],
 "metadata": {
  "kernelspec": {
   "display_name": "Python 3",
   "language": "python",
   "name": "python3"
  },
  "language_info": {
   "codemirror_mode": {
    "name": "ipython",
    "version": 3
   },
   "file_extension": ".py",
   "mimetype": "text/x-python",
   "name": "python",
   "nbconvert_exporter": "python",
   "pygments_lexer": "ipython3",
   "version": "3.8.5"
  }
 },
 "nbformat": 4,
 "nbformat_minor": 4
}
