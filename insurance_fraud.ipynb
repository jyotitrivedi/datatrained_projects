{
 "cells": [
  {
   "cell_type": "code",
   "execution_count": 3,
   "metadata": {},
   "outputs": [],
   "source": [
    "import pandas as pd\n",
    "import numpy as np\n",
    "import seaborn as sns\n",
    "import matplotlib.pyplot as plt\n",
    "import warnings\n",
    "warnings.filterwarnings('ignore')"
   ]
  },
  {
   "cell_type": "code",
   "execution_count": 4,
   "metadata": {},
   "outputs": [],
   "source": [
    "df=pd.read_csv('insurace_fraud.csv')"
   ]
  },
  {
   "cell_type": "code",
   "execution_count": 83,
   "metadata": {},
   "outputs": [
    {
     "data": {
      "text/html": [
       "<div>\n",
       "<style scoped>\n",
       "    .dataframe tbody tr th:only-of-type {\n",
       "        vertical-align: middle;\n",
       "    }\n",
       "\n",
       "    .dataframe tbody tr th {\n",
       "        vertical-align: top;\n",
       "    }\n",
       "\n",
       "    .dataframe thead th {\n",
       "        text-align: right;\n",
       "    }\n",
       "</style>\n",
       "<table border=\"1\" class=\"dataframe\">\n",
       "  <thead>\n",
       "    <tr style=\"text-align: right;\">\n",
       "      <th></th>\n",
       "      <th>months_as_customer</th>\n",
       "      <th>age</th>\n",
       "      <th>policy_number</th>\n",
       "      <th>policy_bind_date</th>\n",
       "      <th>policy_state</th>\n",
       "      <th>policy_csl</th>\n",
       "      <th>policy_deductable</th>\n",
       "      <th>policy_annual_premium</th>\n",
       "      <th>umbrella_limit</th>\n",
       "      <th>insured_zip</th>\n",
       "      <th>...</th>\n",
       "      <th>police_report_available</th>\n",
       "      <th>total_claim_amount</th>\n",
       "      <th>injury_claim</th>\n",
       "      <th>property_claim</th>\n",
       "      <th>vehicle_claim</th>\n",
       "      <th>auto_make</th>\n",
       "      <th>auto_model</th>\n",
       "      <th>auto_year</th>\n",
       "      <th>fraud_reported</th>\n",
       "      <th>_c39</th>\n",
       "    </tr>\n",
       "  </thead>\n",
       "  <tbody>\n",
       "    <tr>\n",
       "      <th>0</th>\n",
       "      <td>328</td>\n",
       "      <td>48</td>\n",
       "      <td>521585</td>\n",
       "      <td>17-10-2014</td>\n",
       "      <td>OH</td>\n",
       "      <td>250/500</td>\n",
       "      <td>1000</td>\n",
       "      <td>1406.91</td>\n",
       "      <td>0</td>\n",
       "      <td>466132</td>\n",
       "      <td>...</td>\n",
       "      <td>YES</td>\n",
       "      <td>71610</td>\n",
       "      <td>6510</td>\n",
       "      <td>13020</td>\n",
       "      <td>52080</td>\n",
       "      <td>Saab</td>\n",
       "      <td>92x</td>\n",
       "      <td>2004</td>\n",
       "      <td>Y</td>\n",
       "      <td>NaN</td>\n",
       "    </tr>\n",
       "    <tr>\n",
       "      <th>1</th>\n",
       "      <td>228</td>\n",
       "      <td>42</td>\n",
       "      <td>342868</td>\n",
       "      <td>27-06-2006</td>\n",
       "      <td>IN</td>\n",
       "      <td>250/500</td>\n",
       "      <td>2000</td>\n",
       "      <td>1197.22</td>\n",
       "      <td>5000000</td>\n",
       "      <td>468176</td>\n",
       "      <td>...</td>\n",
       "      <td>?</td>\n",
       "      <td>5070</td>\n",
       "      <td>780</td>\n",
       "      <td>780</td>\n",
       "      <td>3510</td>\n",
       "      <td>Mercedes</td>\n",
       "      <td>E400</td>\n",
       "      <td>2007</td>\n",
       "      <td>Y</td>\n",
       "      <td>NaN</td>\n",
       "    </tr>\n",
       "    <tr>\n",
       "      <th>2</th>\n",
       "      <td>134</td>\n",
       "      <td>29</td>\n",
       "      <td>687698</td>\n",
       "      <td>06-09-2000</td>\n",
       "      <td>OH</td>\n",
       "      <td>100/300</td>\n",
       "      <td>2000</td>\n",
       "      <td>1413.14</td>\n",
       "      <td>5000000</td>\n",
       "      <td>430632</td>\n",
       "      <td>...</td>\n",
       "      <td>NO</td>\n",
       "      <td>34650</td>\n",
       "      <td>7700</td>\n",
       "      <td>3850</td>\n",
       "      <td>23100</td>\n",
       "      <td>Dodge</td>\n",
       "      <td>RAM</td>\n",
       "      <td>2007</td>\n",
       "      <td>N</td>\n",
       "      <td>NaN</td>\n",
       "    </tr>\n",
       "    <tr>\n",
       "      <th>3</th>\n",
       "      <td>256</td>\n",
       "      <td>41</td>\n",
       "      <td>227811</td>\n",
       "      <td>25-05-1990</td>\n",
       "      <td>IL</td>\n",
       "      <td>250/500</td>\n",
       "      <td>2000</td>\n",
       "      <td>1415.74</td>\n",
       "      <td>6000000</td>\n",
       "      <td>608117</td>\n",
       "      <td>...</td>\n",
       "      <td>NO</td>\n",
       "      <td>63400</td>\n",
       "      <td>6340</td>\n",
       "      <td>6340</td>\n",
       "      <td>50720</td>\n",
       "      <td>Chevrolet</td>\n",
       "      <td>Tahoe</td>\n",
       "      <td>2014</td>\n",
       "      <td>Y</td>\n",
       "      <td>NaN</td>\n",
       "    </tr>\n",
       "    <tr>\n",
       "      <th>4</th>\n",
       "      <td>228</td>\n",
       "      <td>44</td>\n",
       "      <td>367455</td>\n",
       "      <td>06-06-2014</td>\n",
       "      <td>IL</td>\n",
       "      <td>500/1000</td>\n",
       "      <td>1000</td>\n",
       "      <td>1583.91</td>\n",
       "      <td>6000000</td>\n",
       "      <td>610706</td>\n",
       "      <td>...</td>\n",
       "      <td>NO</td>\n",
       "      <td>6500</td>\n",
       "      <td>1300</td>\n",
       "      <td>650</td>\n",
       "      <td>4550</td>\n",
       "      <td>Accura</td>\n",
       "      <td>RSX</td>\n",
       "      <td>2009</td>\n",
       "      <td>N</td>\n",
       "      <td>NaN</td>\n",
       "    </tr>\n",
       "  </tbody>\n",
       "</table>\n",
       "<p>5 rows × 40 columns</p>\n",
       "</div>"
      ],
      "text/plain": [
       "   months_as_customer  age  policy_number policy_bind_date policy_state  \\\n",
       "0                 328   48         521585       17-10-2014           OH   \n",
       "1                 228   42         342868       27-06-2006           IN   \n",
       "2                 134   29         687698       06-09-2000           OH   \n",
       "3                 256   41         227811       25-05-1990           IL   \n",
       "4                 228   44         367455       06-06-2014           IL   \n",
       "\n",
       "  policy_csl  policy_deductable  policy_annual_premium  umbrella_limit  \\\n",
       "0    250/500               1000                1406.91               0   \n",
       "1    250/500               2000                1197.22         5000000   \n",
       "2    100/300               2000                1413.14         5000000   \n",
       "3    250/500               2000                1415.74         6000000   \n",
       "4   500/1000               1000                1583.91         6000000   \n",
       "\n",
       "   insured_zip  ... police_report_available total_claim_amount injury_claim  \\\n",
       "0       466132  ...                     YES              71610         6510   \n",
       "1       468176  ...                       ?               5070          780   \n",
       "2       430632  ...                      NO              34650         7700   \n",
       "3       608117  ...                      NO              63400         6340   \n",
       "4       610706  ...                      NO               6500         1300   \n",
       "\n",
       "  property_claim vehicle_claim  auto_make  auto_model auto_year  \\\n",
       "0          13020         52080       Saab         92x      2004   \n",
       "1            780          3510   Mercedes        E400      2007   \n",
       "2           3850         23100      Dodge         RAM      2007   \n",
       "3           6340         50720  Chevrolet       Tahoe      2014   \n",
       "4            650          4550     Accura         RSX      2009   \n",
       "\n",
       "  fraud_reported _c39  \n",
       "0              Y  NaN  \n",
       "1              Y  NaN  \n",
       "2              N  NaN  \n",
       "3              Y  NaN  \n",
       "4              N  NaN  \n",
       "\n",
       "[5 rows x 40 columns]"
      ]
     },
     "execution_count": 83,
     "metadata": {},
     "output_type": "execute_result"
    }
   ],
   "source": [
    "df.head()"
   ]
  },
  {
   "cell_type": "code",
   "execution_count": 84,
   "metadata": {},
   "outputs": [
    {
     "data": {
      "text/plain": [
       "(1000, 40)"
      ]
     },
     "execution_count": 84,
     "metadata": {},
     "output_type": "execute_result"
    }
   ],
   "source": [
    "df.shape"
   ]
  },
  {
   "cell_type": "markdown",
   "metadata": {},
   "source": [
    "We have 1000 rows and 40 columns in our dataset."
   ]
  },
  {
   "cell_type": "code",
   "execution_count": 85,
   "metadata": {},
   "outputs": [
    {
     "data": {
      "text/plain": [
       "months_as_customer                0\n",
       "age                               0\n",
       "policy_number                     0\n",
       "policy_bind_date                  0\n",
       "policy_state                      0\n",
       "policy_csl                        0\n",
       "policy_deductable                 0\n",
       "policy_annual_premium             0\n",
       "umbrella_limit                    0\n",
       "insured_zip                       0\n",
       "insured_sex                       0\n",
       "insured_education_level           0\n",
       "insured_occupation                0\n",
       "insured_hobbies                   0\n",
       "insured_relationship              0\n",
       "capital-gains                     0\n",
       "capital-loss                      0\n",
       "incident_date                     0\n",
       "incident_type                     0\n",
       "collision_type                    0\n",
       "incident_severity                 0\n",
       "authorities_contacted             0\n",
       "incident_state                    0\n",
       "incident_city                     0\n",
       "incident_location                 0\n",
       "incident_hour_of_the_day          0\n",
       "number_of_vehicles_involved       0\n",
       "property_damage                   0\n",
       "bodily_injuries                   0\n",
       "witnesses                         0\n",
       "police_report_available           0\n",
       "total_claim_amount                0\n",
       "injury_claim                      0\n",
       "property_claim                    0\n",
       "vehicle_claim                     0\n",
       "auto_make                         0\n",
       "auto_model                        0\n",
       "auto_year                         0\n",
       "fraud_reported                    0\n",
       "_c39                           1000\n",
       "dtype: int64"
      ]
     },
     "execution_count": 85,
     "metadata": {},
     "output_type": "execute_result"
    }
   ],
   "source": [
    "df.isnull().sum()"
   ]
  },
  {
   "cell_type": "markdown",
   "metadata": {},
   "source": [
    "_c39 column contains only null values, so we will drop it."
   ]
  },
  {
   "cell_type": "code",
   "execution_count": 65,
   "metadata": {},
   "outputs": [
    {
     "data": {
      "text/plain": [
       "months_as_customer               int64\n",
       "age                              int64\n",
       "policy_number                    int64\n",
       "policy_bind_date                object\n",
       "policy_state                    object\n",
       "policy_csl                      object\n",
       "policy_deductable                int64\n",
       "policy_annual_premium          float64\n",
       "umbrella_limit                   int64\n",
       "insured_zip                      int64\n",
       "insured_sex                     object\n",
       "insured_education_level         object\n",
       "insured_occupation              object\n",
       "insured_hobbies                 object\n",
       "insured_relationship            object\n",
       "capital-gains                    int64\n",
       "capital-loss                     int64\n",
       "incident_date                   object\n",
       "incident_type                   object\n",
       "collision_type                  object\n",
       "incident_severity               object\n",
       "authorities_contacted           object\n",
       "incident_state                  object\n",
       "incident_city                   object\n",
       "incident_location               object\n",
       "incident_hour_of_the_day         int64\n",
       "number_of_vehicles_involved      int64\n",
       "property_damage                 object\n",
       "bodily_injuries                  int64\n",
       "witnesses                        int64\n",
       "police_report_available         object\n",
       "total_claim_amount               int64\n",
       "injury_claim                     int64\n",
       "property_claim                   int64\n",
       "vehicle_claim                    int64\n",
       "auto_make                       object\n",
       "auto_model                      object\n",
       "auto_year                        int64\n",
       "fraud_reported                  object\n",
       "_c39                           float64\n",
       "dtype: object"
      ]
     },
     "execution_count": 65,
     "metadata": {},
     "output_type": "execute_result"
    }
   ],
   "source": [
    "df.dtypes"
   ]
  },
  {
   "cell_type": "code",
   "execution_count": 66,
   "metadata": {},
   "outputs": [
    {
     "data": {
      "text/html": [
       "<div>\n",
       "<style scoped>\n",
       "    .dataframe tbody tr th:only-of-type {\n",
       "        vertical-align: middle;\n",
       "    }\n",
       "\n",
       "    .dataframe tbody tr th {\n",
       "        vertical-align: top;\n",
       "    }\n",
       "\n",
       "    .dataframe thead th {\n",
       "        text-align: right;\n",
       "    }\n",
       "</style>\n",
       "<table border=\"1\" class=\"dataframe\">\n",
       "  <thead>\n",
       "    <tr style=\"text-align: right;\">\n",
       "      <th></th>\n",
       "      <th>months_as_customer</th>\n",
       "      <th>age</th>\n",
       "      <th>policy_number</th>\n",
       "      <th>policy_deductable</th>\n",
       "      <th>policy_annual_premium</th>\n",
       "      <th>umbrella_limit</th>\n",
       "      <th>insured_zip</th>\n",
       "      <th>capital-gains</th>\n",
       "      <th>capital-loss</th>\n",
       "      <th>incident_hour_of_the_day</th>\n",
       "      <th>number_of_vehicles_involved</th>\n",
       "      <th>bodily_injuries</th>\n",
       "      <th>witnesses</th>\n",
       "      <th>total_claim_amount</th>\n",
       "      <th>injury_claim</th>\n",
       "      <th>property_claim</th>\n",
       "      <th>vehicle_claim</th>\n",
       "      <th>auto_year</th>\n",
       "      <th>_c39</th>\n",
       "    </tr>\n",
       "  </thead>\n",
       "  <tbody>\n",
       "    <tr>\n",
       "      <th>count</th>\n",
       "      <td>1000.000000</td>\n",
       "      <td>1000.000000</td>\n",
       "      <td>1000.000000</td>\n",
       "      <td>1000.000000</td>\n",
       "      <td>1000.000000</td>\n",
       "      <td>1.000000e+03</td>\n",
       "      <td>1000.000000</td>\n",
       "      <td>1000.000000</td>\n",
       "      <td>1000.000000</td>\n",
       "      <td>1000.000000</td>\n",
       "      <td>1000.00000</td>\n",
       "      <td>1000.000000</td>\n",
       "      <td>1000.000000</td>\n",
       "      <td>1000.00000</td>\n",
       "      <td>1000.000000</td>\n",
       "      <td>1000.000000</td>\n",
       "      <td>1000.000000</td>\n",
       "      <td>1000.000000</td>\n",
       "      <td>0.0</td>\n",
       "    </tr>\n",
       "    <tr>\n",
       "      <th>mean</th>\n",
       "      <td>203.954000</td>\n",
       "      <td>38.948000</td>\n",
       "      <td>546238.648000</td>\n",
       "      <td>1136.000000</td>\n",
       "      <td>1256.406150</td>\n",
       "      <td>1.101000e+06</td>\n",
       "      <td>501214.488000</td>\n",
       "      <td>25126.100000</td>\n",
       "      <td>-26793.700000</td>\n",
       "      <td>11.644000</td>\n",
       "      <td>1.83900</td>\n",
       "      <td>0.992000</td>\n",
       "      <td>1.487000</td>\n",
       "      <td>52761.94000</td>\n",
       "      <td>7433.420000</td>\n",
       "      <td>7399.570000</td>\n",
       "      <td>37928.950000</td>\n",
       "      <td>2005.103000</td>\n",
       "      <td>NaN</td>\n",
       "    </tr>\n",
       "    <tr>\n",
       "      <th>std</th>\n",
       "      <td>115.113174</td>\n",
       "      <td>9.140287</td>\n",
       "      <td>257063.005276</td>\n",
       "      <td>611.864673</td>\n",
       "      <td>244.167395</td>\n",
       "      <td>2.297407e+06</td>\n",
       "      <td>71701.610941</td>\n",
       "      <td>27872.187708</td>\n",
       "      <td>28104.096686</td>\n",
       "      <td>6.951373</td>\n",
       "      <td>1.01888</td>\n",
       "      <td>0.820127</td>\n",
       "      <td>1.111335</td>\n",
       "      <td>26401.53319</td>\n",
       "      <td>4880.951853</td>\n",
       "      <td>4824.726179</td>\n",
       "      <td>18886.252893</td>\n",
       "      <td>6.015861</td>\n",
       "      <td>NaN</td>\n",
       "    </tr>\n",
       "    <tr>\n",
       "      <th>min</th>\n",
       "      <td>0.000000</td>\n",
       "      <td>19.000000</td>\n",
       "      <td>100804.000000</td>\n",
       "      <td>500.000000</td>\n",
       "      <td>433.330000</td>\n",
       "      <td>-1.000000e+06</td>\n",
       "      <td>430104.000000</td>\n",
       "      <td>0.000000</td>\n",
       "      <td>-111100.000000</td>\n",
       "      <td>0.000000</td>\n",
       "      <td>1.00000</td>\n",
       "      <td>0.000000</td>\n",
       "      <td>0.000000</td>\n",
       "      <td>100.00000</td>\n",
       "      <td>0.000000</td>\n",
       "      <td>0.000000</td>\n",
       "      <td>70.000000</td>\n",
       "      <td>1995.000000</td>\n",
       "      <td>NaN</td>\n",
       "    </tr>\n",
       "    <tr>\n",
       "      <th>25%</th>\n",
       "      <td>115.750000</td>\n",
       "      <td>32.000000</td>\n",
       "      <td>335980.250000</td>\n",
       "      <td>500.000000</td>\n",
       "      <td>1089.607500</td>\n",
       "      <td>0.000000e+00</td>\n",
       "      <td>448404.500000</td>\n",
       "      <td>0.000000</td>\n",
       "      <td>-51500.000000</td>\n",
       "      <td>6.000000</td>\n",
       "      <td>1.00000</td>\n",
       "      <td>0.000000</td>\n",
       "      <td>1.000000</td>\n",
       "      <td>41812.50000</td>\n",
       "      <td>4295.000000</td>\n",
       "      <td>4445.000000</td>\n",
       "      <td>30292.500000</td>\n",
       "      <td>2000.000000</td>\n",
       "      <td>NaN</td>\n",
       "    </tr>\n",
       "    <tr>\n",
       "      <th>50%</th>\n",
       "      <td>199.500000</td>\n",
       "      <td>38.000000</td>\n",
       "      <td>533135.000000</td>\n",
       "      <td>1000.000000</td>\n",
       "      <td>1257.200000</td>\n",
       "      <td>0.000000e+00</td>\n",
       "      <td>466445.500000</td>\n",
       "      <td>0.000000</td>\n",
       "      <td>-23250.000000</td>\n",
       "      <td>12.000000</td>\n",
       "      <td>1.00000</td>\n",
       "      <td>1.000000</td>\n",
       "      <td>1.000000</td>\n",
       "      <td>58055.00000</td>\n",
       "      <td>6775.000000</td>\n",
       "      <td>6750.000000</td>\n",
       "      <td>42100.000000</td>\n",
       "      <td>2005.000000</td>\n",
       "      <td>NaN</td>\n",
       "    </tr>\n",
       "    <tr>\n",
       "      <th>75%</th>\n",
       "      <td>276.250000</td>\n",
       "      <td>44.000000</td>\n",
       "      <td>759099.750000</td>\n",
       "      <td>2000.000000</td>\n",
       "      <td>1415.695000</td>\n",
       "      <td>0.000000e+00</td>\n",
       "      <td>603251.000000</td>\n",
       "      <td>51025.000000</td>\n",
       "      <td>0.000000</td>\n",
       "      <td>17.000000</td>\n",
       "      <td>3.00000</td>\n",
       "      <td>2.000000</td>\n",
       "      <td>2.000000</td>\n",
       "      <td>70592.50000</td>\n",
       "      <td>11305.000000</td>\n",
       "      <td>10885.000000</td>\n",
       "      <td>50822.500000</td>\n",
       "      <td>2010.000000</td>\n",
       "      <td>NaN</td>\n",
       "    </tr>\n",
       "    <tr>\n",
       "      <th>max</th>\n",
       "      <td>479.000000</td>\n",
       "      <td>64.000000</td>\n",
       "      <td>999435.000000</td>\n",
       "      <td>2000.000000</td>\n",
       "      <td>2047.590000</td>\n",
       "      <td>1.000000e+07</td>\n",
       "      <td>620962.000000</td>\n",
       "      <td>100500.000000</td>\n",
       "      <td>0.000000</td>\n",
       "      <td>23.000000</td>\n",
       "      <td>4.00000</td>\n",
       "      <td>2.000000</td>\n",
       "      <td>3.000000</td>\n",
       "      <td>114920.00000</td>\n",
       "      <td>21450.000000</td>\n",
       "      <td>23670.000000</td>\n",
       "      <td>79560.000000</td>\n",
       "      <td>2015.000000</td>\n",
       "      <td>NaN</td>\n",
       "    </tr>\n",
       "  </tbody>\n",
       "</table>\n",
       "</div>"
      ],
      "text/plain": [
       "       months_as_customer          age  policy_number  policy_deductable  \\\n",
       "count         1000.000000  1000.000000    1000.000000        1000.000000   \n",
       "mean           203.954000    38.948000  546238.648000        1136.000000   \n",
       "std            115.113174     9.140287  257063.005276         611.864673   \n",
       "min              0.000000    19.000000  100804.000000         500.000000   \n",
       "25%            115.750000    32.000000  335980.250000         500.000000   \n",
       "50%            199.500000    38.000000  533135.000000        1000.000000   \n",
       "75%            276.250000    44.000000  759099.750000        2000.000000   \n",
       "max            479.000000    64.000000  999435.000000        2000.000000   \n",
       "\n",
       "       policy_annual_premium  umbrella_limit    insured_zip  capital-gains  \\\n",
       "count            1000.000000    1.000000e+03    1000.000000    1000.000000   \n",
       "mean             1256.406150    1.101000e+06  501214.488000   25126.100000   \n",
       "std               244.167395    2.297407e+06   71701.610941   27872.187708   \n",
       "min               433.330000   -1.000000e+06  430104.000000       0.000000   \n",
       "25%              1089.607500    0.000000e+00  448404.500000       0.000000   \n",
       "50%              1257.200000    0.000000e+00  466445.500000       0.000000   \n",
       "75%              1415.695000    0.000000e+00  603251.000000   51025.000000   \n",
       "max              2047.590000    1.000000e+07  620962.000000  100500.000000   \n",
       "\n",
       "        capital-loss  incident_hour_of_the_day  number_of_vehicles_involved  \\\n",
       "count    1000.000000               1000.000000                   1000.00000   \n",
       "mean   -26793.700000                 11.644000                      1.83900   \n",
       "std     28104.096686                  6.951373                      1.01888   \n",
       "min   -111100.000000                  0.000000                      1.00000   \n",
       "25%    -51500.000000                  6.000000                      1.00000   \n",
       "50%    -23250.000000                 12.000000                      1.00000   \n",
       "75%         0.000000                 17.000000                      3.00000   \n",
       "max         0.000000                 23.000000                      4.00000   \n",
       "\n",
       "       bodily_injuries    witnesses  total_claim_amount  injury_claim  \\\n",
       "count      1000.000000  1000.000000          1000.00000   1000.000000   \n",
       "mean          0.992000     1.487000         52761.94000   7433.420000   \n",
       "std           0.820127     1.111335         26401.53319   4880.951853   \n",
       "min           0.000000     0.000000           100.00000      0.000000   \n",
       "25%           0.000000     1.000000         41812.50000   4295.000000   \n",
       "50%           1.000000     1.000000         58055.00000   6775.000000   \n",
       "75%           2.000000     2.000000         70592.50000  11305.000000   \n",
       "max           2.000000     3.000000        114920.00000  21450.000000   \n",
       "\n",
       "       property_claim  vehicle_claim    auto_year  _c39  \n",
       "count     1000.000000    1000.000000  1000.000000   0.0  \n",
       "mean      7399.570000   37928.950000  2005.103000   NaN  \n",
       "std       4824.726179   18886.252893     6.015861   NaN  \n",
       "min          0.000000      70.000000  1995.000000   NaN  \n",
       "25%       4445.000000   30292.500000  2000.000000   NaN  \n",
       "50%       6750.000000   42100.000000  2005.000000   NaN  \n",
       "75%      10885.000000   50822.500000  2010.000000   NaN  \n",
       "max      23670.000000   79560.000000  2015.000000   NaN  "
      ]
     },
     "execution_count": 66,
     "metadata": {},
     "output_type": "execute_result"
    }
   ],
   "source": [
    "df.describe()"
   ]
  },
  {
   "cell_type": "markdown",
   "metadata": {},
   "source": [
    "Data is skewed in months_as_customer,policy_deductable,umbrella_limit,insured_zip,capital-gains,total_claim_amount,injury_claim,property_claim ,vehicle_claim"
   ]
  },
  {
   "cell_type": "code",
   "execution_count": 5,
   "metadata": {},
   "outputs": [],
   "source": [
    "df.drop('_c39',axis=1,inplace=True)"
   ]
  },
  {
   "cell_type": "code",
   "execution_count": 6,
   "metadata": {},
   "outputs": [
    {
     "data": {
      "text/html": [
       "<div>\n",
       "<style scoped>\n",
       "    .dataframe tbody tr th:only-of-type {\n",
       "        vertical-align: middle;\n",
       "    }\n",
       "\n",
       "    .dataframe tbody tr th {\n",
       "        vertical-align: top;\n",
       "    }\n",
       "\n",
       "    .dataframe thead th {\n",
       "        text-align: right;\n",
       "    }\n",
       "</style>\n",
       "<table border=\"1\" class=\"dataframe\">\n",
       "  <thead>\n",
       "    <tr style=\"text-align: right;\">\n",
       "      <th></th>\n",
       "      <th>policy_bind_date</th>\n",
       "      <th>policy_state</th>\n",
       "      <th>policy_csl</th>\n",
       "      <th>insured_sex</th>\n",
       "      <th>insured_education_level</th>\n",
       "      <th>insured_occupation</th>\n",
       "      <th>insured_hobbies</th>\n",
       "      <th>insured_relationship</th>\n",
       "      <th>incident_date</th>\n",
       "      <th>incident_type</th>\n",
       "      <th>...</th>\n",
       "      <th>incident_severity</th>\n",
       "      <th>authorities_contacted</th>\n",
       "      <th>incident_state</th>\n",
       "      <th>incident_city</th>\n",
       "      <th>incident_location</th>\n",
       "      <th>property_damage</th>\n",
       "      <th>police_report_available</th>\n",
       "      <th>auto_make</th>\n",
       "      <th>auto_model</th>\n",
       "      <th>fraud_reported</th>\n",
       "    </tr>\n",
       "  </thead>\n",
       "  <tbody>\n",
       "    <tr>\n",
       "      <th>0</th>\n",
       "      <td>17-10-2014</td>\n",
       "      <td>OH</td>\n",
       "      <td>250/500</td>\n",
       "      <td>MALE</td>\n",
       "      <td>MD</td>\n",
       "      <td>craft-repair</td>\n",
       "      <td>sleeping</td>\n",
       "      <td>husband</td>\n",
       "      <td>25-01-2015</td>\n",
       "      <td>Single Vehicle Collision</td>\n",
       "      <td>...</td>\n",
       "      <td>Major Damage</td>\n",
       "      <td>Police</td>\n",
       "      <td>SC</td>\n",
       "      <td>Columbus</td>\n",
       "      <td>9935 4th Drive</td>\n",
       "      <td>YES</td>\n",
       "      <td>YES</td>\n",
       "      <td>Saab</td>\n",
       "      <td>92x</td>\n",
       "      <td>Y</td>\n",
       "    </tr>\n",
       "    <tr>\n",
       "      <th>1</th>\n",
       "      <td>27-06-2006</td>\n",
       "      <td>IN</td>\n",
       "      <td>250/500</td>\n",
       "      <td>MALE</td>\n",
       "      <td>MD</td>\n",
       "      <td>machine-op-inspct</td>\n",
       "      <td>reading</td>\n",
       "      <td>other-relative</td>\n",
       "      <td>21-01-2015</td>\n",
       "      <td>Vehicle Theft</td>\n",
       "      <td>...</td>\n",
       "      <td>Minor Damage</td>\n",
       "      <td>Police</td>\n",
       "      <td>VA</td>\n",
       "      <td>Riverwood</td>\n",
       "      <td>6608 MLK Hwy</td>\n",
       "      <td>?</td>\n",
       "      <td>?</td>\n",
       "      <td>Mercedes</td>\n",
       "      <td>E400</td>\n",
       "      <td>Y</td>\n",
       "    </tr>\n",
       "    <tr>\n",
       "      <th>2</th>\n",
       "      <td>06-09-2000</td>\n",
       "      <td>OH</td>\n",
       "      <td>100/300</td>\n",
       "      <td>FEMALE</td>\n",
       "      <td>PhD</td>\n",
       "      <td>sales</td>\n",
       "      <td>board-games</td>\n",
       "      <td>own-child</td>\n",
       "      <td>22-02-2015</td>\n",
       "      <td>Multi-vehicle Collision</td>\n",
       "      <td>...</td>\n",
       "      <td>Minor Damage</td>\n",
       "      <td>Police</td>\n",
       "      <td>NY</td>\n",
       "      <td>Columbus</td>\n",
       "      <td>7121 Francis Lane</td>\n",
       "      <td>NO</td>\n",
       "      <td>NO</td>\n",
       "      <td>Dodge</td>\n",
       "      <td>RAM</td>\n",
       "      <td>N</td>\n",
       "    </tr>\n",
       "    <tr>\n",
       "      <th>3</th>\n",
       "      <td>25-05-1990</td>\n",
       "      <td>IL</td>\n",
       "      <td>250/500</td>\n",
       "      <td>FEMALE</td>\n",
       "      <td>PhD</td>\n",
       "      <td>armed-forces</td>\n",
       "      <td>board-games</td>\n",
       "      <td>unmarried</td>\n",
       "      <td>10-01-2015</td>\n",
       "      <td>Single Vehicle Collision</td>\n",
       "      <td>...</td>\n",
       "      <td>Major Damage</td>\n",
       "      <td>Police</td>\n",
       "      <td>OH</td>\n",
       "      <td>Arlington</td>\n",
       "      <td>6956 Maple Drive</td>\n",
       "      <td>?</td>\n",
       "      <td>NO</td>\n",
       "      <td>Chevrolet</td>\n",
       "      <td>Tahoe</td>\n",
       "      <td>Y</td>\n",
       "    </tr>\n",
       "    <tr>\n",
       "      <th>4</th>\n",
       "      <td>06-06-2014</td>\n",
       "      <td>IL</td>\n",
       "      <td>500/1000</td>\n",
       "      <td>MALE</td>\n",
       "      <td>Associate</td>\n",
       "      <td>sales</td>\n",
       "      <td>board-games</td>\n",
       "      <td>unmarried</td>\n",
       "      <td>17-02-2015</td>\n",
       "      <td>Vehicle Theft</td>\n",
       "      <td>...</td>\n",
       "      <td>Minor Damage</td>\n",
       "      <td>None</td>\n",
       "      <td>NY</td>\n",
       "      <td>Arlington</td>\n",
       "      <td>3041 3rd Ave</td>\n",
       "      <td>NO</td>\n",
       "      <td>NO</td>\n",
       "      <td>Accura</td>\n",
       "      <td>RSX</td>\n",
       "      <td>N</td>\n",
       "    </tr>\n",
       "  </tbody>\n",
       "</table>\n",
       "<p>5 rows × 21 columns</p>\n",
       "</div>"
      ],
      "text/plain": [
       "  policy_bind_date policy_state policy_csl insured_sex  \\\n",
       "0       17-10-2014           OH    250/500        MALE   \n",
       "1       27-06-2006           IN    250/500        MALE   \n",
       "2       06-09-2000           OH    100/300      FEMALE   \n",
       "3       25-05-1990           IL    250/500      FEMALE   \n",
       "4       06-06-2014           IL   500/1000        MALE   \n",
       "\n",
       "  insured_education_level insured_occupation insured_hobbies  \\\n",
       "0                      MD       craft-repair        sleeping   \n",
       "1                      MD  machine-op-inspct         reading   \n",
       "2                     PhD              sales     board-games   \n",
       "3                     PhD       armed-forces     board-games   \n",
       "4               Associate              sales     board-games   \n",
       "\n",
       "  insured_relationship incident_date             incident_type  ...  \\\n",
       "0              husband    25-01-2015  Single Vehicle Collision  ...   \n",
       "1       other-relative    21-01-2015             Vehicle Theft  ...   \n",
       "2            own-child    22-02-2015   Multi-vehicle Collision  ...   \n",
       "3            unmarried    10-01-2015  Single Vehicle Collision  ...   \n",
       "4            unmarried    17-02-2015             Vehicle Theft  ...   \n",
       "\n",
       "  incident_severity authorities_contacted incident_state incident_city  \\\n",
       "0      Major Damage                Police             SC      Columbus   \n",
       "1      Minor Damage                Police             VA     Riverwood   \n",
       "2      Minor Damage                Police             NY      Columbus   \n",
       "3      Major Damage                Police             OH     Arlington   \n",
       "4      Minor Damage                  None             NY     Arlington   \n",
       "\n",
       "   incident_location property_damage police_report_available  auto_make  \\\n",
       "0     9935 4th Drive             YES                     YES       Saab   \n",
       "1       6608 MLK Hwy               ?                       ?   Mercedes   \n",
       "2  7121 Francis Lane              NO                      NO      Dodge   \n",
       "3   6956 Maple Drive               ?                      NO  Chevrolet   \n",
       "4       3041 3rd Ave              NO                      NO     Accura   \n",
       "\n",
       "  auto_model fraud_reported  \n",
       "0        92x              Y  \n",
       "1       E400              Y  \n",
       "2        RAM              N  \n",
       "3      Tahoe              Y  \n",
       "4        RSX              N  \n",
       "\n",
       "[5 rows x 21 columns]"
      ]
     },
     "execution_count": 6,
     "metadata": {},
     "output_type": "execute_result"
    }
   ],
   "source": [
    "cat_features=df.select_dtypes(include=[np.object])\n",
    "cat_features.head()"
   ]
  },
  {
   "cell_type": "code",
   "execution_count": 11,
   "metadata": {},
   "outputs": [
    {
     "name": "stdout",
     "output_type": "stream",
     "text": [
      "policy_bind_date ['17-10-2014' '27-06-2006' '06-09-2000' '25-05-1990' '06-06-2014'\n",
      " '12-10-2006' '04-06-2000' '03-02-1990' '05-02-1997' '25-07-2011'\n",
      " '26-05-2002' '29-05-1999' '20-11-1997' '26-10-2012' '28-12-1998'\n",
      " '19-10-1992' '08-06-2005' '15-11-2004' '28-12-2014' '02-08-1992'\n",
      " '25-06-2002' '27-11-2005' '27-05-1994' '08-02-1991' '02-02-1996'\n",
      " '05-12-2013' '20-09-1990' '18-07-2002' '08-02-1990' '04-03-2014'\n",
      " '18-02-2000' '19-06-2008' '01-08-2003' '04-04-1992' '13-01-1991'\n",
      " '08-08-2010' '09-03-2003' '03-02-1993' '25-11-2002' '27-07-1997'\n",
      " '08-05-1995' '30-08-2012' '30-04-2006' '13-04-2003' '05-12-2007'\n",
      " '21-08-2006' '08-01-1990' '18-03-1990' '07-01-2008' '10-03-1997'\n",
      " '10-01-2004' '20-08-1994' '02-06-2002' '28-04-1994' '17-08-2014'\n",
      " '11-08-2007' '20-11-2008' '18-10-1995' '19-05-1993' '26-02-2005'\n",
      " '14-02-1990' '30-09-1993' '10-06-2014' '28-10-2008' '24-04-2007'\n",
      " '13-12-1993' '17-08-2011' '20-08-1990' '11-02-1994' '22-02-1994'\n",
      " '15-08-2011' '11-11-1998' '04-12-1995' '28-12-2002' '15-04-2004'\n",
      " '02-02-2001' '12-01-2010' '14-04-1992' '21-05-2010' '27-10-2013'\n",
      " '12-10-1994' '04-07-1997' '15-02-2011' '21-08-1994' '15-05-1997'\n",
      " '26-10-1996' '04-03-2006' '02-01-1991' '15-08-1999' '15-01-1992'\n",
      " '07-12-1999' '06-06-1993' '03-10-2000' '29-12-2010' '17-03-1990'\n",
      " '01-03-2012' '05-02-2006' '01-11-2014' '17-06-2009' '20-09-1999'\n",
      " '19-10-1990' '05-08-1996' '06-06-2001' '25-03-2007' '31-10-2013'\n",
      " '13-06-1992' '07-10-1990' '28-12-1991' '26-06-2009' '11-01-2009'\n",
      " '18-03-2003' '02-11-2012' '04-05-2000' '29-09-1999' '09-03-1999'\n",
      " '13-02-1991' '05-08-1993' '31-10-1997' '21-04-2001' '08-01-2013'\n",
      " '23-07-2009' '20-02-1998' '13-03-2008' '20-08-1996' '27-07-2014'\n",
      " '09-11-1992' '04-06-2012' '13-05-2001' '17-09-2011' '15-07-2011'\n",
      " '27-07-2005' '18-10-2005' '19-01-1996' '29-09-2005' '18-02-1997'\n",
      " '11-05-2010' '06-02-2009' '09-07-2013' '06-06-1992' '08-03-1998'\n",
      " '29-03-2004' '01-06-2006' '08-06-1994' '12-02-1998' '16-11-2000'\n",
      " '24-10-2004' '08-11-2009' '21-09-1996' '16-07-1995' '09-06-2001'\n",
      " '06-10-2002' '14-07-1997' '11-11-1994' '23-06-2012' '18-02-2007'\n",
      " '27-06-2005' '14-05-2006' '29-04-2010' '10-11-1992' '24-07-1999'\n",
      " '22-02-1992' '13-09-2002' '09-08-2003' '04-12-2007' '22-07-2002'\n",
      " '03-07-1992' '29-03-2005' '16-03-2008' '23-05-1999' '22-11-2012'\n",
      " '29-01-1993' '11-02-2003' '15-08-1990' '06-03-2010' '27-09-1990'\n",
      " '17-06-2005' '14-09-2001' '07-01-2011' '13-09-2003' '24-10-1997'\n",
      " '04-01-2009' '12-10-1998' '23-02-1993' '07-07-1996' '23-01-2013'\n",
      " '06-12-2006' '23-02-2014' '16-11-2007' '17-04-1999' '06-02-2006'\n",
      " '20-10-1993' '01-01-2006' '04-04-2003' '05-07-2014' '16-01-1996'\n",
      " '19-04-2002' '10-12-2005' '07-11-1994' '02-06-2012' '07-04-1998'\n",
      " '25-04-2007' '30-06-2000' '04-06-1996' '09-05-2009' '08-07-2001'\n",
      " '20-09-1993' '03-11-2009' '10-12-2014' '08-01-1994' '05-08-2006'\n",
      " '07-02-2007' '09-04-2001' '17-02-1995' '25-07-1995' '24-03-2006'\n",
      " '28-03-1995' '19-06-1996' '16-06-1993' '11-07-2001' '22-11-2008'\n",
      " '19-05-1990' '26-08-2013' '12-10-1997' '21-01-2002' '02-09-1996'\n",
      " '28-01-2010' '03-10-2014' '02-05-2007' '22-09-1990' '19-09-2004'\n",
      " '28-08-1995' '04-02-2004' '23-07-2014' '21-03-1997' '06-05-1991'\n",
      " '07-08-1992' '03-09-2013' '05-01-2012' '27-01-2007' '14-10-2005'\n",
      " '03-11-1990' '15-10-2005' '22-05-1999' '21-12-2002' '10-02-2007'\n",
      " '01-03-2002' '21-04-2003' '22-09-2002' '10-02-1998' '01-09-1992'\n",
      " '01-05-1999' '19-12-1997' '18-06-2000' '24-04-1995' '16-06-2006'\n",
      " '28-09-2007' '21-11-1991' '16-05-2001' '11-08-1999' '16-06-2003'\n",
      " '30-03-1999' '03-02-1999' '25-08-2011' '28-06-2010' '06-11-2001'\n",
      " '15-04-2013' '07-12-1995' '01-11-1991' '19-05-2014' '15-03-1992'\n",
      " '03-02-2006' '16-03-2003' '16-10-2002' '27-01-1990' '11-03-2010'\n",
      " '19-09-1995' '27-02-2010' '30-04-2002' '28-04-2007' '08-07-1996'\n",
      " '01-04-2002' '29-10-2006' '25-10-2007' '28-03-2001' '04-05-1995'\n",
      " '28-09-2011' '28-01-2003' '01-02-2011' '09-02-1993' '05-08-2005'\n",
      " '17-06-2006' '07-12-1993' '14-03-2012' '05-08-1997' '05-07-2009'\n",
      " '25-11-1994' '03-02-1997' '09-10-2009' '20-11-2002' '29-05-1995'\n",
      " '22-01-2011' '18-10-2012' '13-10-1991' '01-10-2010' '10-04-2013'\n",
      " '11-06-2008' '04-12-2013' '21-08-2010' '18-06-2010' '10-04-1992'\n",
      " '06-12-1991' '29-10-1993' '03-11-1991' '09-07-2002' '01-07-2005'\n",
      " '04-11-1991' '14-04-1993' '23-08-2009' '18-06-1993' '17-07-2012'\n",
      " '25-01-1999' '23-02-1990' '30-08-2000' '03-09-2008' '02-08-1991'\n",
      " '25-09-2001' '11-03-2007' '20-11-2010' '28-08-1998' '16-07-2002'\n",
      " '29-04-1990' '01-02-1998' '20-07-2008' '13-11-1998' '24-05-2001'\n",
      " '03-06-2014' '22-08-1991' '12-12-1998' '18-02-1999' '30-10-1997'\n",
      " '29-11-1999' '07-07-2013' '05-07-2003' '21-09-2005' '18-02-1995'\n",
      " '07-04-1999' '13-12-2014' '01-06-1997' '13-07-2013' '30-12-2002'\n",
      " '28-02-1997' '18-06-1998' '08-02-1996' '17-11-2004' '25-10-2012'\n",
      " '13-04-2006' '21-02-2006' '17-12-2003' '31-07-1999' '05-08-2014'\n",
      " '05-06-2011' '11-10-1992' '17-02-2010' '06-05-2007' '01-05-1997'\n",
      " '28-01-1998' '05-05-1993' '06-08-1994' '14-11-2014' '14-12-1991'\n",
      " '21-10-2009' '29-09-1997' '31-12-2003' '01-01-2008' '31-05-2004'\n",
      " '18-12-2013' '24-08-2000' '14-10-1992' '16-11-1991' '08-10-1995'\n",
      " '28-10-2007' '16-05-2008' '22-06-2009' '10-05-2012' '02-10-2003'\n",
      " '02-08-1990' '16-09-1997' '29-07-1995' '06-09-2005' '05-08-1992'\n",
      " '22-01-1993' '20-05-1995' '24-09-1992' '20-07-2007' '28-04-1992'\n",
      " '19-01-1998' '08-09-2009' '18-12-1994' '23-08-1996' '20-11-1991'\n",
      " '28-10-1998' '09-04-2003' '04-02-1992' '29-06-2006' '21-06-1997'\n",
      " '07-09-2006' '01-10-2001' '20-02-2009' '26-06-2001' '18-01-1997'\n",
      " '24-06-2014' '02-10-1992' '09-10-2012' '10-02-1993' '28-09-1994'\n",
      " '24-05-2003' '25-12-1991' '18-09-1999' '03-02-1994' '18-01-2003'\n",
      " '07-03-2005' '23-08-2003' '11-07-2002' '19-03-2014' '06-12-1993'\n",
      " '29-08-1999' '09-03-2007' '03-01-2004' '25-04-1991' '14-03-1995'\n",
      " '09-12-2005' '25-12-2001' '14-11-1999' '27-10-2001' '31-10-1993'\n",
      " '13-02-2003' '06-03-2004' '12-07-2013' '27-08-2014' '22-06-1990'\n",
      " '07-03-2008' '03-09-1991' '02-09-2011' '06-10-2012' '18-01-2014'\n",
      " '22-03-1992' '03-12-2012' '18-10-1996' '02-10-1997' '18-03-2008'\n",
      " '29-08-2010' '31-03-2005' '25-12-2013' '11-03-2014' '04-08-1997'\n",
      " '14-11-2007' '30-07-1992' '01-12-2000' '10-09-2002' '07-11-1997'\n",
      " '18-05-1993' '11-07-1996' '17-12-1995' '12-04-2013' '13-11-1995'\n",
      " '04-11-2004' '21-03-1998' '22-07-1999' '28-02-2010' '30-01-2005'\n",
      " '29-11-2001' '24-12-2012' '11-05-1997' '26-01-1994' '04-11-2010'\n",
      " '19-06-1992' '02-06-2010' '12-10-2002' '25-02-2008' '05-09-1996'\n",
      " '16-03-1998' '22-04-2010' '25-01-2008' '10-09-2000' '23-04-2008'\n",
      " '18-02-2011' '24-04-2012' '24-05-2006' '30-01-1992' '24-01-2009'\n",
      " '29-08-1995' '31-07-2011' '05-01-2013' '18-11-1994' '30-08-2014'\n",
      " '10-09-1998' '04-01-2003' '24-05-2004' '12-09-1994' '07-07-1997'\n",
      " '01-03-1991' '29-09-2001' '10-01-2012' '05-07-2001' '07-08-1991'\n",
      " '24-07-2012' '08-08-1994' '09-12-2001' '14-03-1990' '28-03-2006'\n",
      " '23-12-2013' '30-09-1991' '27-12-2001' '07-04-2005' '08-04-2003'\n",
      " '14-11-2005' '07-01-2005' '14-02-1994' '23-01-1996' '12-12-1999'\n",
      " '15-07-2004' '07-11-2012' '29-06-2009' '26-06-2000' '09-01-2002'\n",
      " '11-11-2013' '14-01-2008' '04-03-2003' '07-06-1994' '04-07-2013'\n",
      " '30-06-2002' '30-06-2004' '19-12-1998' '31-08-2014' '10-11-2005'\n",
      " '26-11-2001' '06-05-2014' '27-01-1991' '04-03-2000' '12-10-1995'\n",
      " '25-04-2014' '26-01-2011' '26-01-1996' '08-04-1991' '29-06-2002'\n",
      " '09-04-1999' '19-04-2009' '28-11-1991' '27-04-2012' '04-03-2007'\n",
      " '31-12-2012' '21-12-2013' '28-04-2005' '17-09-1994' '16-08-2003'\n",
      " '02-09-2014' '12-12-2011' '17-08-1991' '29-02-2004' '22-02-2015'\n",
      " '13-10-1990' '25-11-1991' '02-10-1990' '17-02-2009' '17-07-2005'\n",
      " '12-03-1994' '03-08-1994' '25-08-2012' '02-12-2011' '25-02-2005'\n",
      " '20-04-2004' '17-11-2009' '19-09-2009' '12-09-2001' '27-11-1992'\n",
      " '07-12-1998' '25-08-1990' '22-10-2011' '01-02-1990' '27-11-1990'\n",
      " '16-07-2004' '10-12-1993' '08-03-1995' '03-08-2009' '03-11-1996'\n",
      " '09-08-2004' '20-07-1991' '14-01-2005' '16-12-2011' '09-10-1990'\n",
      " '27-02-1994' '21-04-2014' '11-02-2010' '05-10-1991' '23-07-1992'\n",
      " '10-10-1993' '14-11-2010' '03-03-1997' '01-03-1997' '18-08-1990'\n",
      " '28-05-2014' '22-07-2004' '02-08-2009' '05-07-2007' '24-01-2010'\n",
      " '15-05-2000' '21-03-2008' '07-05-1990' '05-02-1991' '19-03-1992'\n",
      " '24-04-2013' '10-04-2009' '01-12-2008' '05-07-2000' '11-06-2014'\n",
      " '23-04-1995' '16-09-1990' '11-12-1998' '09-10-1995' '21-12-1999'\n",
      " '28-07-2002' '03-08-1993' '16-12-2007' '10-02-2008' '01-10-2006'\n",
      " '29-05-2003' '06-05-2002' '28-02-2004' '14-01-1999' '23-01-2002'\n",
      " '09-12-1992' '24-06-1998' '06-01-2011' '24-02-2012' '25-06-2011'\n",
      " '21-11-2006' '27-06-2008' '30-08-1993' '21-04-2008' '23-06-2000'\n",
      " '11-01-2010' '28-03-1990' '29-01-1998' '05-12-2014' '27-05-2002'\n",
      " '09-08-2002' '02-12-2012' '22-03-2000' '13-04-2002' '17-06-2008'\n",
      " '07-04-1994' '29-02-1992' '11-05-1996' '03-04-2013' '12-11-2009'\n",
      " '05-11-2008' '15-02-1993' '21-07-2008' '11-09-2010' '22-12-1995'\n",
      " '26-09-1991' '15-07-1990' '10-05-2009' '28-10-1999' '30-03-1995'\n",
      " '31-01-2011' '21-04-2006' '10-03-2004' '05-01-1991' '15-10-1996'\n",
      " '21-06-1994' '13-06-1994' '27-05-2003' '06-07-1996' '08-05-2005'\n",
      " '02-11-2010' '29-07-2012' '06-06-2002' '19-09-1991' '24-06-2009'\n",
      " '29-05-1992' '12-08-2004' '24-12-2006' '24-07-2007' '17-08-1994'\n",
      " '10-04-1996' '11-12-1992' '01-08-2010' '23-03-2009' '29-07-1996'\n",
      " '23-08-1994' '05-01-1992' '11-09-1997' '10-02-2002' '28-01-1993'\n",
      " '23-10-1996' '21-04-1997' '09-11-2008' '20-06-2002' '21-10-2005'\n",
      " '28-08-2005' '16-01-2013' '10-10-2005' '08-02-2009' '06-03-2005'\n",
      " '17-05-1994' '20-07-1990' '17-04-2005' '10-02-1994' '29-03-1995'\n",
      " '30-04-2007' '15-02-2001' '09-07-2001' '06-09-2008' '19-12-2004'\n",
      " '15-11-2000' '14-03-2007' '28-12-2004' '05-07-1999' '15-11-1997'\n",
      " '27-09-2010' '18-08-2007' '09-08-1993' '02-04-1991' '15-03-2007'\n",
      " '01-05-2010' '24-06-2003' '08-07-1990' '24-09-1994' '20-06-2012'\n",
      " '19-04-2006' '07-12-2001' '25-11-2006' '06-12-1996' '10-07-2012'\n",
      " '07-04-2014' '11-10-2003' '17-01-2015' '07-12-1992' '29-11-2004'\n",
      " '02-01-2004' '25-01-2006' '18-04-1993' '09-12-2006' '30-08-1997'\n",
      " '03-06-1991' '06-09-1995' '09-02-2000' '23-07-1996' '30-12-2011'\n",
      " '21-07-1996' '08-04-1996' '04-03-2001' '19-10-2001' '18-08-2006'\n",
      " '28-04-2013' '29-11-2009' '15-02-1990' '12-04-2002' '21-02-1999'\n",
      " '18-06-2011' '26-03-1995' '03-05-1991' '19-12-2001' '05-08-2012'\n",
      " '20-01-2014' '19-12-2011' '28-07-2008' '05-05-1998' '16-04-1995'\n",
      " '14-02-1992' '11-07-2007' '07-04-2010' '10-03-1991' '20-01-1996'\n",
      " '01-03-2010' '15-06-2014' '25-11-2004' '26-08-2000' '23-08-2005'\n",
      " '09-08-1990' '28-03-2003' '23-10-2007' '27-06-1996' '11-12-1994'\n",
      " '05-12-1995' '15-12-1996' '06-06-2011' '13-12-1995' '28-10-1997'\n",
      " '04-01-1996' '09-05-2008' '05-12-2009' '22-12-2012' '19-05-1992'\n",
      " '25-05-2002' '21-04-2010' '26-03-1990' '12-05-2007' '02-01-2001'\n",
      " '10-08-2006' '28-07-2014' '27-09-2011' '20-04-2013' '20-03-1991'\n",
      " '03-12-2005' '25-05-2011' '18-10-2006' '19-07-2006' '08-06-2002'\n",
      " '12-02-2009' '14-05-2001' '16-02-2001' '18-11-1993' '18-02-1990'\n",
      " '21-05-2000' '26-08-2012' '16-11-2004' '23-01-2003' '07-11-2008'\n",
      " '19-10-1999' '20-12-1990' '14-02-1996' '10-06-2001' '17-03-2010'\n",
      " '30-07-2003' '17-09-2014' '03-06-2009' '11-10-1994' '18-07-1991'\n",
      " '24-09-2001' '19-09-2012' '11-07-1991' '29-10-1991' '28-12-1999'\n",
      " '11-10-2012' '19-08-1995' '11-02-1991' '02-07-1991' '10-04-1994'\n",
      " '04-12-2005' '16-07-2014' '17-09-2003' '15-07-2000' '29-07-2009'\n",
      " '13-04-1991' '20-11-2005' '20-05-1990' '28-11-2002' '15-06-2004'\n",
      " '26-09-2010' '15-09-1990' '16-09-2009' '12-08-1999' '08-03-2009'\n",
      " '27-04-2009' '02-08-2006' '06-12-1995' '13-11-2002' '09-11-1991'\n",
      " '14-01-1998' '25-04-2002' '13-08-2004' '24-06-1990' '21-08-1991'\n",
      " '25-02-2011' '04-02-2013' '20-02-2001' '03-03-1992' '21-12-2006'\n",
      " '14-07-2000' '12-12-1991' '01-07-2013' '16-12-1998' '03-01-2015'\n",
      " '01-04-1994' '15-08-2000' '13-11-2014' '04-02-2011' '21-01-2009'\n",
      " '07-11-1992' '20-03-1992' '17-07-1995' '27-12-2000' '06-08-1999'\n",
      " '03-03-2007' '25-12-1997' '06-11-2013' '21-09-1990' '05-10-1999'\n",
      " '07-04-1992' '05-03-2009' '10-02-1997' '28-01-1992' '16-09-2013'\n",
      " '04-01-2002' '02-04-2002' '16-07-1998' '15-08-2002' '07-09-1999'\n",
      " '12-01-2012' '18-08-1996' '11-03-1996' '23-11-1997' '08-08-2013'\n",
      " '30-11-1996' '18-06-1997' '19-04-2007' '19-09-2007' '21-12-1996'\n",
      " '03-02-2008' '16-07-2003' '05-05-1991' '16-06-1991' '03-04-2001'\n",
      " '16-03-2014' '03-08-2010' '25-11-2009' '08-05-2001' '14-06-2004'\n",
      " '07-08-1994' '26-08-2004' '05-11-2000' '03-10-1994' '11-04-2005'\n",
      " '16-05-1990' '11-09-2004' '30-11-1993' '06-03-2003' '18-12-1996'\n",
      " '21-02-1995' '11-12-2009' '18-10-2000' '09-02-2007' '28-10-2006'\n",
      " '27-01-2000' '05-04-2002' '30-04-2013' '01-05-2013' '09-01-1999'\n",
      " '04-07-2007' '05-02-1994' '12-07-2006' '24-10-2007' '08-12-2001'\n",
      " '24-03-2007' '16-07-1991' '05-01-2014' '17-02-2003' '18-11-2011'\n",
      " '11-11-1996']\n",
      "\n",
      "\n",
      "policy_state ['OH' 'IN' 'IL']\n",
      "\n",
      "\n",
      "policy_csl ['250/500' '100/300' '500/1000']\n",
      "\n",
      "\n",
      "insured_sex ['MALE' 'FEMALE']\n",
      "\n",
      "\n",
      "insured_education_level ['MD' 'PhD' 'Associate' 'Masters' 'High School' 'College' 'JD']\n",
      "\n",
      "\n",
      "insured_occupation ['craft-repair' 'machine-op-inspct' 'sales' 'armed-forces' 'tech-support'\n",
      " 'prof-specialty' 'other-service' 'priv-house-serv' 'exec-managerial'\n",
      " 'protective-serv' 'transport-moving' 'handlers-cleaners' 'adm-clerical'\n",
      " 'farming-fishing']\n",
      "\n",
      "\n",
      "insured_hobbies ['sleeping' 'reading' 'board-games' 'bungie-jumping' 'base-jumping' 'golf'\n",
      " 'camping' 'dancing' 'skydiving' 'movies' 'hiking' 'yachting' 'paintball'\n",
      " 'chess' 'kayaking' 'polo' 'basketball' 'video-games' 'cross-fit'\n",
      " 'exercise']\n",
      "\n",
      "\n",
      "insured_relationship ['husband' 'other-relative' 'own-child' 'unmarried' 'wife' 'not-in-family']\n",
      "\n",
      "\n",
      "incident_date ['25-01-2015' '21-01-2015' '22-02-2015' '10-01-2015' '17-02-2015'\n",
      " '02-01-2015' '13-01-2015' '27-02-2015' '30-01-2015' '05-01-2015'\n",
      " '06-01-2015' '15-02-2015' '22-01-2015' '08-01-2015' '15-01-2015'\n",
      " '29-01-2015' '19-01-2015' '01-01-2015' '10-02-2015' '11-01-2015'\n",
      " '24-02-2015' '09-01-2015' '28-01-2015' '07-01-2015' '18-01-2015'\n",
      " '28-02-2015' '12-02-2015' '24-01-2015' '03-01-2015' '16-01-2015'\n",
      " '14-02-2015' '21-02-2015' '18-02-2015' '26-02-2015' '17-01-2015'\n",
      " '27-01-2015' '11-02-2015' '12-01-2015' '06-02-2015' '20-01-2015'\n",
      " '02-02-2015' '20-02-2015' '08-02-2015' '23-02-2015' '01-03-2015'\n",
      " '14-01-2015' '19-02-2015' '09-02-2015' '26-01-2015' '23-01-2015'\n",
      " '31-01-2015' '03-02-2015' '01-02-2015' '05-02-2015' '25-02-2015'\n",
      " '16-02-2015' '13-02-2015' '04-02-2015' '07-02-2015' '04-01-2015']\n",
      "\n",
      "\n",
      "incident_type ['Single Vehicle Collision' 'Vehicle Theft' 'Multi-vehicle Collision'\n",
      " 'Parked Car']\n",
      "\n",
      "\n",
      "collision_type ['Side Collision' '?' 'Rear Collision' 'Front Collision']\n",
      "\n",
      "\n",
      "incident_severity ['Major Damage' 'Minor Damage' 'Total Loss' 'Trivial Damage']\n",
      "\n",
      "\n",
      "authorities_contacted ['Police' 'None' 'Fire' 'Other' 'Ambulance']\n",
      "\n",
      "\n",
      "incident_state ['SC' 'VA' 'NY' 'OH' 'WV' 'NC' 'PA']\n",
      "\n",
      "\n",
      "incident_city ['Columbus' 'Riverwood' 'Arlington' 'Springfield' 'Hillsdale' 'Northbend'\n",
      " 'Northbrook']\n",
      "\n",
      "\n",
      "incident_location ['9935 4th Drive' '6608 MLK Hwy' '7121 Francis Lane' '6956 Maple Drive'\n",
      " '3041 3rd Ave' '8973 Washington St' '5846 Weaver Drive' '3525 3rd Hwy'\n",
      " '4872 Rock Ridge' '3066 Francis Ave' '1558 1st Ridge' '5971 5th Hwy'\n",
      " '6655 5th Drive' '6582 Elm Lane' '6851 3rd Drive' '9573 Weaver Ave'\n",
      " '5074 3rd St' '4546 Tree St' '3842 Solo Ridge' '8101 3rd Ridge'\n",
      " '5380 Pine St' '8957 Weaver Drive' '2526 Embaracadero Ave'\n",
      " '5667 4th Drive' '2502 Apache Hwy' '3418 Texas Lane' '2533 Elm St'\n",
      " '3790 Andromedia Hwy' '3220 Rock Drive' '2100 Francis Drive'\n",
      " '4687 5th Drive' '9038 2nd Lane' '6092 5th Ave' '8353 Britain Ridge'\n",
      " '3540 Maple St' '3104 Sky Drive' '4981 Weaver St' '6676 Tree Lane'\n",
      " '3930 Embaracadero St' '3422 Flute St' '4862 Lincoln Hwy' '5719 2nd Lane'\n",
      " '3221 Solo Ridge' '6660 MLK Drive' '1699 Oak Drive' '4234 Cherokee Lane'\n",
      " '7476 4th St' '8907 Tree Ave' '6619 Flute Ave' '6011 Britain St'\n",
      " '5104 Francis Drive' '2280 4th Ave' '2644 Elm Drive' '7466 MLK Ridge'\n",
      " '5821 2nd St' '6723 Best Drive' '4866 4th Hwy' '5418 Britain Ave'\n",
      " '4296 Pine Hwy' '2299 1st St' '6618 Cherokee Drive' '7459 Flute St'\n",
      " '3567 4th Drive' '2457 Washington Ave' '1269 Flute Drive' '1218 Sky Hwy'\n",
      " '9169 Pine Ridge' '8538 Texas Lane' '5783 Oak Ave'\n",
      " '7721 Washington Ridge' '8006 Maple Hwy' '6751 Pine Ridge'\n",
      " '2324 Texas Ridge' '7923 Elm Ave' '4755 Best Lane' '5053 Tree Drive'\n",
      " '2078 3rd Ave' '2804 Best St' '7877 Sky Lane' '6530 Weaver Ave'\n",
      " '3087 Oak Hwy' '7098 Lincoln Hwy' '5124 Maple St' '2333 Maple Lane'\n",
      " '1012 5th Lane' '7477 MLK Drive' '9489 3rd St' '2087 Apache Ave'\n",
      " '5540 Sky St' '7238 2nd St' '8442 Britain Hwy' '1331 Britain Hwy'\n",
      " '5260 Francis Drive' '1135 Solo Lane' '9737 Solo Hwy'\n",
      " '3289 Britain Drive' '6550 Andromedia St' '1679 2nd Hwy' '3998 Flute St'\n",
      " '2430 MLK Ave' '7717 Britain Hwy' '7773 Tree Hwy' '2199 Texas Drive'\n",
      " '1028 Sky Lane' '4154 Lincoln Hwy' '8085 Andromedia St' '4793 4th Ridge'\n",
      " '7428 Sky Hwy' '2306 5th Lane' '3052 Weaver Ridge' '5211 Weaver Drive'\n",
      " '7253 MLK St' '1454 5th Ridge' '5622 Best Ridge' '4574 Britain Hwy'\n",
      " '4539 Texas St' '8118 Elm Ridge' '3814 Britain Drive' '4614 MLK Ave'\n",
      " '1628 Best Drive' '8381 Solo Hwy' '2100 MLK St' '5071 Flute Ridge'\n",
      " '7551 Britain Lane' '2275 Best Lane' '1598 3rd Drive' '7740 MLK St'\n",
      " '1240 Tree Lane' '8983 Francis Ridge' '7756 Solo Drive'\n",
      " '9034 Weaver Ridge' '1126 Texas Hwy' '2808 Elm St' '5061 Francis Ave'\n",
      " '4965 MLK Drive' '8668 Flute St' '2577 Washington Drive' '7709 Rock Lane'\n",
      " '9358 Texas Ridge' '8080 Oak Lane' '6408 Weaver Ridge'\n",
      " '5532 Weaver Ridge' '9101 2nd Hwy' '8576 Andromedia St' '6315 2nd Lane'\n",
      " '1536 Flute Drive' '4672 MLK St' '2204 Washington Lane' '9484 Pine Drive'\n",
      " '5431 3rd Ridge' '7121 Britain Drive' '8586 1st Ridge' '7582 Pine Drive'\n",
      " '1388 Embaracadero Hwy' '5621 4th Ave' '8150 Washington Ridge'\n",
      " '4268 2nd Ave' '6375 2nd Lane' '3770 Flute Drive' '1562 Britain St'\n",
      " '1681 Cherokee Hwy' '7523 Oak Lane' '1815 Cherokee Drive' '9316 Pine Ave'\n",
      " '2733 Texas Drive' '7684 Francis Ridge' '8991 Embaracadero Ave'\n",
      " '4905 Francis Ave' '7783 Lincoln Hwy' '8749 Tree St' '4985 Sky Lane'\n",
      " '7534 MLK Hwy' '8689 Maple Hwy' '9153 3rd Hwy' '5904 1st Drive'\n",
      " '4519 Embaracadero St' '9706 MLK Lane' '6012 Texas Hwy'\n",
      " '4098 Weaver Ridge' '6193 1st Hwy' '4053 Sky Lane' '8964 Francis St'\n",
      " '9748 Sky Drive' '2293 Washington Ave' '3656 Solo Ave'\n",
      " '8579 Apache Drive' '2003 Maple Hwy' '5445 Tree Hwy' '9730 2nd Hwy'\n",
      " '7819 Oak St' '1845 Best St' '2500 Tree St' '6955 Pine Drive'\n",
      " '6165 Rock Ridge' '3653 Elm Drive' '5812 3rd Hwy' '4939 Best St'\n",
      " '4964 Elm Lane' '9588 Solo St' '8718 Apache Lane' '3590 Best Hwy'\n",
      " '6149 Best Ridge' '4116 Embaracadero Lane' '3486 Flute Ave'\n",
      " '5994 5th Ave' '9138 3rd St' '3743 Andromedia Ridge' '7644 Tree Ridge'\n",
      " '3167 2nd St' '3327 Lincoln Drive' '8621 Best Ridge' '3878 Tree Lane'\n",
      " '9760 Solo Lane' '9138 1st St' '3414 Elm Ave' '3172 Tree Ridge'\n",
      " '6104 Oak Ave' '9742 5th Ridge' '8782 3rd St' '9798 Sky Ridge'\n",
      " '5483 Francis Drive' '2005 Texas Hwy' '6634 Texas Ridge'\n",
      " '8655 Cherokee Lane' '4955 Lincoln Ridge' '7705 Best Ridge'\n",
      " '5838 Pine Lane' '7331 Sky Hwy' '5640 Embaracadero Lane'\n",
      " '9610 Cherokee St' '3550 Washington Ave' '5277 Texas Lane'\n",
      " '3654 Cherokee Ave' '7380 5th Hwy' '2539 Embaracadero Ridge'\n",
      " '4693 Lincoln Hwy' '2376 Sky Ridge' '1273 Rock Lane' '8281 Lincoln Lane'\n",
      " '6429 4th Hwy' '2201 4th Lane' '5506 Best St' '8404 Embaracadero St'\n",
      " '2117 Lincoln Hwy' '6359 MLK Ridge' '9751 Sky Ridge' '9020 Elm Ave'\n",
      " '1830 Sky St' '6067 Weaver Ridge' '1840 Embaracadero Ave'\n",
      " '4058 Tree Drive' '4983 MLK Ridge' '9744 Texas Drive' '8821 Elm St'\n",
      " '2886 Tree Ridge' '5236 Weaver Drive' '5862 Apache Ridge'\n",
      " '7859 4th Ridge' '6259 Weaver St' '9980 Lincoln Ave' '7828 Cherokee Ave'\n",
      " '5812 Oak St' '2318 Washington Hwy' '8809 Flute St' '3184 Oak Ave'\n",
      " '6493 Lincoln Lane' '7162 Maple Ave' '5455 Tree Ridge' '5778 Pine Ridge'\n",
      " '3797 Solo Lane' '9373 Pine Hwy' '1365 Francis Ave'\n",
      " '9239 Washington Ridge' '3416 Washington Drive' '1923 2nd Hwy'\n",
      " '6451 1st Hwy' '1267 Francis Hwy' '4158 Washington Lane'\n",
      " '3796 Cherokee Drive' '7434 Oak Hwy' '5178 Weaver Hwy' '8477 Francis Hwy'\n",
      " '7693 Britain Lane' '3658 Rock Drive' '2617 Andromedia Drive'\n",
      " '9279 Oak Hwy' '3439 Andromedia Hwy' '5901 Elm Drive'\n",
      " '3982 Washington Hwy' '3376 5th Drive' '3936 Tree Drive' '6605 Tree Ave'\n",
      " '3102 Apache St' '7756 Pine Hwy' '7142 5th Lane' '2914 Oak Drive'\n",
      " '6522 Apache Drive' '5279 Pine Ridge' '8078 Britain Hwy' '1133 Apache St'\n",
      " '2873 Flute Ave' '8509 Apache St' '8245 4th Hwy' '3094 Best Lane'\n",
      " '8188 Tree Ave' '5224 5th Lane' '2230 1st St' '6719 Flute St'\n",
      " '8064 4th Ave' '2469 Francis Lane' '4671 5th Ridge' '6985 Maple Lane'\n",
      " '7791 Britain Ridge' '6355 4th Hwy' '3495 Britain Drive' '2980 Sky Ridge'\n",
      " '5914 Oak Ave' '3835 5th Ave' '5925 Tree Hwy' '6250 1st Ridge'\n",
      " '1346 5th Lane' '1128 Maple Lane' '6309 Cherokee Ave' '4618 Flute Ave'\n",
      " '6191 Oak Lane' '1316 Britain Ridge' '5924 Maple Drive' '8917 Tree Ridge'\n",
      " '3966 Francis Ridge' '1507 Solo Ave' '4272 Oak Ridge' '4434 Lincoln Ave'\n",
      " '7529 Solo Ridge' '8096 Apache Hwy' '9417 Tree Hwy' '3809 Texas Lane'\n",
      " '1540 Apache Lane' '2337 Lincoln Hwy' '6770 1st St' '4119 Texas St'\n",
      " '4347 2nd Ridge' '1091 1st Drive' '8203 Lincoln Ave' '9154 MLK Hwy'\n",
      " '5780 4th Ave' '6945 Texas Hwy' '5639 1st Ridge' '3834 Pine St'\n",
      " '1358 Maple St' '7460 Apache Lane' '5771 Sky Ave' '2865 Maple Lane'\n",
      " '8940 Elm Ave' '1215 Pine Hwy' '6874 Maple Ridge' '8834 Elm Drive'\n",
      " '8542 Lincoln Ridge' '9397 Francis St' '4907 Andromedia Drive'\n",
      " '4429 Washington St' '2651 MLK Lane' '2942 1st Lane' '6317 Best St'\n",
      " '1555 Washington Lane' '1919 4th Lane' '5480 3rd Ridge' '8864 Tree Ridge'\n",
      " '2777 Solo Drive' '9929 Rock Drive' '4143 Maple Ridge' '7121 Rock St'\n",
      " '9067 Texas Ave' '9245 Weaver Ridge' '4585 Francis Ave'\n",
      " '6738 Francis Hwy' '7576 Pine Ridge' '9105 Tree Lane'\n",
      " '2299 Britain Drive' '1914 Francis St' '6658 Weaver St' '1985 5th Ave'\n",
      " '1707 Sky Ave' '6456 Andromedia Drive' '5649 Texas Ave' '1220 MLK Ave'\n",
      " '1589 Pine St' '8906 Elm Lane' '2654 Elm Drive' '6681 Texas Ridge'\n",
      " '7782 Rock St' '9286 Oak Ave' '8758 5th St' '7281 Maple Hwy'\n",
      " '7571 Elm Ridge' '6738 Washington Hwy' '4188 Britain Ave'\n",
      " '6934 Lincoln Ave' '6390 Apache St' '7615 Weaver Drive'\n",
      " '6409 Cherokee Drive' '1123 5th Lane' '5168 5th Ave' '3697 Apache Drive'\n",
      " '1910 Sky Ave' '8954 Apache Lane' '3110 Lincoln Lane' '6035 Rock Ave'\n",
      " '2220 1st Lane' '4972 Francis Lane' '6957 Weaver Drive' '1512 Rock Lane'\n",
      " '3693 Pine Ave' '9879 Apache Drive' '2494 Andromedia Drive'\n",
      " '4615 Embaracadero Ave' '1929 Britain Drive' '5051 Elm St'\n",
      " '9910 Maple Ave' '5602 Britain St' '6889 Cherokee St' '3926 Rock Lane'\n",
      " '6717 Best Drive' '6117 4th Ave' '2668 Cherokee St' '6838 Flute Lane'\n",
      " '6583 MLK Ridge' '6492 4th Lane' '7299 Apache St' '2756 Britain Hwy'\n",
      " '9360 3rd Drive' '1655 Francis Hwy' '9720 Lincoln Hwy' '7066 Texas Ave'\n",
      " '9728 Britain Hwy' '4486 Cherokee Ridge' '8021 Flute Ave'\n",
      " '2774 Apache Drive' '2787 MLK St' '9847 Elm St' '4629 Elm Ridge'\n",
      " '5585 Washington Drive' '3925 Sky St' '3903 Oak Ave' '3805 Lincoln Hwy'\n",
      " '4055 2nd Drive' '3707 Oak Ridge' '7327 Lincoln Drive' '9369 Flute Hwy'\n",
      " '4239 Weaver Ave' '6044 Weaver Drive' '8879 1st Drive' '9488 Best Drive'\n",
      " '7500 Texas Ridge' '2048 3rd Ridge' '3419 Apache St' '9875 MLK Ave'\n",
      " '3553 Texas Ave' '4335 1st St' '9070 Tree Ave' '3900 Texas St'\n",
      " '9657 5th Ave' '5765 Washington St' '5997 Embaracadero Drive'\n",
      " '1738 Solo Lane' '2903 Weaver Drive' '8926 Texas Ridge' '4231 3rd Ave'\n",
      " '8049 4th St' '6501 5th Drive' '7909 Andromedia Hwy' '5865 Sky Lane'\n",
      " '1957 Washington Ave' '7649 Texas St' '1992 Britain Drive'\n",
      " '9685 Sky Ridge' '3457 Texas Lane' '7693 Cherokee Lane' '3167 4th Ridge'\n",
      " '1617 Rock Drive' '7877 3rd Ridge' '9325 Lincoln Drive' '5855 Apache St'\n",
      " '1328 Texas Lane' '4567 Pine Ave' '7575 Pine St' '2850 Washington St'\n",
      " '9169 Cherokee Hwy' '6443 Washington Ridge' '6751 5th Hwy'\n",
      " '2289 Weaver Ridge' '8306 1st Drive' '2603 Andromedia Hwy'\n",
      " '6479 Francis Ave' '6428 Andromedia Lane' '9081 Cherokee Hwy'\n",
      " '1532 Washington St' '4625 MLK Drive' '1529 Elm Ridge'\n",
      " '2086 Francis Drive' '9066 Best Ridge' '7178 Best Drive'\n",
      " '9821 Francis Ave' '7061 Cherokee Drive' '1325 1st Lane' '3769 Sky St'\n",
      " '8489 Pine Hwy' '6329 Apache Ave' '9293 Pine Lane' '9224 Sky Drive'\n",
      " '8862 Maple Ridge' '3492 Flute Lane' '6484 Tree Drive' '4554 Sky Ave'\n",
      " '5201 Texas Hwy' '3982 Weaver Lane' '3660 Andromedia Hwy'\n",
      " '7135 Flute Lane' '4414 Solo Drive' '2920 5th Ave' '2986 MLK Drive'\n",
      " '1580 Maple Lane' '3706 Texas Hwy' '9109 Britain Drive' '2290 4th Ave'\n",
      " '4232 Britain Ridge' '6677 Andromedia Drive' '5868 Sky Hwy'\n",
      " '3053 Lincoln Drive' '7041 Tree Ridge' '7223 Embaracadero St'\n",
      " '8081 Flute Ridge' '8618 Texas Lane' '3508 Washington St'\n",
      " '2193 4th Ridge' '8897 Sky St' '9611 Pine Ridge' '7825 1st Ridge'\n",
      " '3039 Oak Hwy' '8204 Pine Lane' '9787 Andromedia Ave' '9633 Rock Hwy'\n",
      " '6303 1st Drive' '2014 Rock Ave' '8983 Tree St' '6260 5th Lane'\n",
      " '2725 Britain Ridge' '3089 Oak Ridge' '6206 3rd Ridge' '7240 5th Ridge'\n",
      " '8100 3rd Ave' '3282 4th Lane' '3227 Maple Ave' '4264 Lincoln Ridge'\n",
      " '2215 Best Ave' '5363 Weaver Lane' '2397 Cherokee Ave'\n",
      " '9794 Embaracadero St' '1810 Elm Hwy' '9603 Texas Lane' '5650 Sky Drive'\n",
      " '9633 MLK Lane' '4981 Flute Hwy' '9078 Francis Ridge' '1381 Francis Ave'\n",
      " '6435 Texas Ave' '1248 MLK Ridge' '3323 1st Lane' '6971 Best Ridge'\n",
      " '7488 Lincoln Lane' '9007 Francis Hwy' '1491 Francis Ridge'\n",
      " '3659 Oak Lane' '4176 Britain Hwy' '5189 Francis Drive' '6515 Oak Lane'\n",
      " '7168 Andromedia Ridge' '7954 Tree Ridge' '1956 Apache St'\n",
      " '9918 Andromedia Drive' '5499 Flute Ridge' '3311 2nd Drive'\n",
      " '7609 Rock St' '4652 Flute Drive' '6853 Sky Hwy' '7780 Flute Lane'\n",
      " '1687 3rd Lane' '6378 Britain Ave' '1306 Andromedia St'\n",
      " '3664 Francis Ridge' '5985 Lincoln Lane' '3706 4th Hwy'\n",
      " '6603 Francis Hwy' '7069 4th Hwy' '5093 Flute Lane' '5894 Flute Drive'\n",
      " '8459 Apache Ave' '7447 Lincoln Ridge' '1821 Andromedia Ridge'\n",
      " '6859 Flute Ridge' '4175 Elm Ridge' '5007 Oak St' '5790 Flute Ridge'\n",
      " '8704 Britain Lane' '7816 MLK Lane' '3618 Maple Lane'\n",
      " '7705 Lincoln Drive' '8602 Washington Ridge' '2832 Andromedia Lane'\n",
      " '9760 4th Hwy' '2509 Rock Drive' '2063 Weaver St' '3818 Texas Ridge'\n",
      " '3929 Elm Ave' '9911 Britain Lane' '3246 Britain Ridge'\n",
      " '2696 Cherokee Ridge' '5249 4th Ave' '4721 Cherokee Hwy'\n",
      " '8212 Flute Ridge' '3592 MLK Ridge' '6494 4th Ave' '6608 Apache Lane'\n",
      " '1553 Lincoln St' '7628 4th Lane' '3028 5th St' '8949 Rock Hwy'\n",
      " '9751 Tree St' '4702 Texas Drive' '2757 4th Hwy' '6678 Weaver Drive'\n",
      " '8667 Weaver Lane' '4931 Maple Drive' '3808 5th Ave' '1725 Solo Lane'\n",
      " '8097 Maple Lane' '3320 5th Hwy' '9573 2nd Ave' '8336 1st Ridge'\n",
      " '3998 4th Hwy' '3966 Oak Hwy' '7601 Andromedia Lane' '5160 2nd Hwy'\n",
      " '3288 Tree Lane' '5874 1st Hwy' '6467 Best Ave' '6309 5th Ave'\n",
      " '8212 Rock Ave' '4107 MLK Ridge' '4558 3rd Hwy' '1762 Maple Hwy'\n",
      " '5532 Francis Lane' '6158 Sky Ridge' '9214 Elm Ridge' '1833 Solo Ave'\n",
      " '1953 Sky Lane' '6834 1st Drive' '9562 4th Ridge' '4835 Britain Ridge'\n",
      " '8548 Cherokee Ridge' '2352 MLK Drive' '9734 2nd Ridge'\n",
      " '3122 Apache Drive' '9816 Britain St' '8214 Flute St' '6259 Lincoln Hwy'\n",
      " '4492 Andromedia Ave' '6179 3rd Ridge' '3799 Embaracadero Drive'\n",
      " '5071 1st Lane' '6574 4th Drive' '2711 Britain Ave' '4214 MLK Ridge'\n",
      " '7976 Britain Drive' '4995 Weaver Ridge' '1515 Embaracadero St'\n",
      " '2968 Andromedia Ave' '9236 2nd Hwy' '9639 Britain Ridge'\n",
      " '9422 Washington Ridge' '1213 4th Lane' '3872 5th Drive' '9397 5th Hwy'\n",
      " '8876 1st St' '3397 5th Ave' '3263 Pine Ridge' '8639 5th Hwy'\n",
      " '5743 4th Ridge' '3555 Francis Ridge' '4939 Oak Lane' '3100 Best St'\n",
      " '3029 5th Ave' '8941 Solo Ridge' '4447 Francis Hwy' '7701 Tree St'\n",
      " '4653 Pine St' '8742 4th St' '7316 Texas Ave' '2950 MLK Ave'\n",
      " '8233 Tree Drive' '4642 Rock Ridge' '7733 Britain Lane'\n",
      " '2753 Cherokee Ave' '3995 Lincoln Hwy' '4095 MLK St' '5782 Rock Drive'\n",
      " '2900 Sky Drive' '1515 Pine Lane' '4876 Washington Drive' '5779 2nd Lane'\n",
      " '6706 Francis Drive' '6384 5th Ridge' '3006 Lincoln Ridge'\n",
      " '5352 Lincoln Drive' '6110 Rock Ridge' '7797 Tree Ridge' '4910 1st Lane'\n",
      " '8766 Lincoln Lane' '6399 Oak Drive' '3127 Flute St' '8920 Best Ave'\n",
      " '7314 Tree Drive' '8872 Oak Ridge' '5022 1st St' '3423 Francis Ave'\n",
      " '9529 4th Drive' '1818 Tree St' '4431 Rock St' '4782 Sky Lane'\n",
      " '7112 Weaver Ave' '4020 Best Drive' '2037 5th Drive' '4699 Texas Ridge'\n",
      " '1832 Elm Hwy' '5226 Maple St' '3771 4th St' '8701 5th Lane'\n",
      " '7574 4th St' '1989 Solo Lane' '6331 MLK Ave' '8453 Elm St'\n",
      " '1422 Flute Ave' '5058 4th Lane' '3098 Oak Lane' '9103 MLK Lane'\n",
      " '8624 Francis Ave' '2905 Embaracadero Drive' '3443 Maple Ridge'\n",
      " '1618 Maple Hwy' '3751 Tree Hwy' '6848 Elm Hwy' '4237 4th St'\n",
      " '6581 Rock Ridge' '7236 Apache Lane' '3846 4th Hwy' '5028 Maple Ridge'\n",
      " '7426 Rock Drive' '5771 Best St' '9818 Cherokee Ave' '7819 2nd Ave'\n",
      " '1331 Elm Ridge' '9240 Britain Ave' '6668 Andromedia Ridge'\n",
      " '5276 2nd Lane' '2889 Weaver St' '1879 4th Lane' '5499 Elm Hwy'\n",
      " '8822 Sky St' '4254 Best Ridge' '5812 Weaver Ave' '7155 Apache Drive'\n",
      " '1376 Pine St' '3340 3rd Hwy' '3097 4th Drive' '1916 Elm St'\n",
      " '8917 Cherokee Lane' '8492 Weaver Hwy' '3753 Francis Lane'\n",
      " '4545 4th Ridge' '2272 Embaracadero Drive' '5341 5th Ave'\n",
      " '7745 Washington Ridge' '1275 4th Ridge' '4857 Weaver St' '8211 Sky Hwy'\n",
      " '8617 Best Ave' '9856 Apache St' '1951 Best Ave' '1824 5th Lane'\n",
      " '7393 Washington St' '1386 Britain St' '7928 Maple Ridge'\n",
      " '1546 Cherokee Ave' '2003 2nd Hwy' '9418 5th Hwy' '8770 1st Lane'\n",
      " '1087 Flute Drive' '2217 Tree Lane' '6741 Oak Ridge' '2123 MLK Ridge'\n",
      " '4390 4th Drive' '1437 3rd Lane' '1186 Rock St' '4394 Oak St'\n",
      " '8368 Cherokee Ave' '4905 Best Lane' '3618 Sky Ave' '5459 MLK Ave'\n",
      " '1371 Texas Lane' '2654 Embaracadero St' '2123 Texas Ave'\n",
      " '4538 Flute Hwy' '4434 Weaver St' '2798 1st Ave' '2809 Francis Lane'\n",
      " '7281 Oak St' '9878 Washington Ave' '2537 5th Ave' '8493 Apache Drive'\n",
      " '2878 Britain Hwy' '2862 Tree Ridge' '4453 Best Ave' '5191 4th St'\n",
      " '1364 Best St' '8946 2nd Drive' '3726 MLK Hwy' '2820 Britain St'\n",
      " '2646 MLK Drive' '6256 Elm St' '9724 Maple St' '7397 4th Drive'\n",
      " '3488 Flute Lane' '9082 3rd Lane' '1941 5th Ridge' '5333 MLK Lane'\n",
      " '4577 Sky Hwy' '4814 Lincoln Lane' '2381 1st Hwy' '6939 3rd Hwy'\n",
      " '5269 Flute Hwy' '7197 2nd Drive' '1741 Best Ridge' '9148 4th Hwy'\n",
      " '4279 Solo Drive' '9177 Texas Ave' '5969 Francis St' '9942 Tree Ave'\n",
      " '5474 Weaver Hwy' '1102 Apache Hwy' '9214 Texas Drive' '8991 Texas Hwy'\n",
      " '9580 MLK Ave' '5868 Best Drive' '5318 5th Ave' '7502 Rock Lane'\n",
      " '4627 Elm Ridge' '5584 Britain Lane' '7002 Oak Hwy' '4780 Best Drive'\n",
      " '8995 1st Ave' '5586 2nd St' '1589 Best Ave' '1880 Weaver Drive'\n",
      " '7295 Tree Hwy' '8832 Pine Drive' '1620 Oak Ave' '3847 Elm Hwy'\n",
      " '3177 MLK Ridge' '3929 Oak Drive' '1469 Lincoln Drive' '9719 4th Lane'\n",
      " '3196 Cherokee St' '8492 Andromedia Ridge' '1353 Washington St'\n",
      " '6731 Andromedia Hwy' '5769 Texas Lane' '2849 Pine Drive'\n",
      " '2577 Texas Ridge' '3841 Washington Lane' '8125 Texas Ridge'\n",
      " '4826 5th St' '1578 5th Lane' '6440 Rock Lane' '5806 Embaracadero St'\n",
      " '1472 4th Drive' '5839 Weaver Lane' '7630 Rock Drive'\n",
      " '7144 Andromedia St' '9988 Rock Ridge' '7544 Washington Ave'\n",
      " '7201 Washington Ave' '8805 Cherokee Drive' '3275 Pine St'\n",
      " '7785 Lincoln Lane' '4994 Lincoln Drive' '1298 Maple Hwy'\n",
      " '2644 MLK Drive' '5630 1st Drive' '6137 MLK St' '5383 Maple Drive'\n",
      " '4460 4th Lane' '8524 Pine Lane' '8456 1st Ave' '3639 Flute Hwy'\n",
      " '7900 Sky Hwy' '7835 Cherokee Hwy' '1030 Pine Lane' '9278 Francis Ridge'\n",
      " '6604 Apache Drive' '2311 4th St' '9523 Solo Hwy' '3171 Andromedia Lane'\n",
      " '2492 Lincoln Lane' '4477 5th Ave' '6724 Andromedia St'\n",
      " '7495 Washington Ave' '4291 Sky Hwy' '5650 Rock Ave' '6888 Elm Ridge'\n",
      " '2352 Sky Drive' '5280 Pine Ave' '6638 Tree Drive' '5678 Lincoln Drive'\n",
      " '4496 Pine Lane' '8845 5th Ave' '9317 Apache Ave' '8638 3rd Ave'\n",
      " '3061 Francis Hwy' '1173 Andromedia Ave' '6068 2nd St'\n",
      " '7937 Weaver Ridge' '2823 Weaver Lane' '1809 Sky St'\n",
      " '9352 Washington Ave' '2697 Oak Drive' '1110 4th Drive' '7535 5th Lane'\n",
      " '9043 Maple Hwy' '3777 Maple Ave' '5608 Solo St' '6981 Weaver St'\n",
      " '4369 Maple Lane' '6931 Elm St' '7583 Washington Ave' '7552 3rd St'\n",
      " '1654 Pine St' '6058 Andromedia Hwy' '6536 MLK Hwy'\n",
      " '8198 Embaracadero Lane' '3447 Solo Ave' '1806 Weaver Ridge'\n",
      " '7930 Texas Ave' '7082 Oak Ridge' '6357 Texas Lane' '9322 Rock Hwy'\n",
      " '6684 Solo Lane' '4885 Oak Lane' '7846 Andromedia Drive'\n",
      " '3915 Embaracadero St' '4242 Rock Lane' '7405 Oak St' '9633 4th St'\n",
      " '3492 Britain St' '7973 4th St' '3952 Andromedia Lane'\n",
      " '6702 Andromedia St' '5455 Oak Hwy' '2253 Maple Ave' '7897 Lincoln St'\n",
      " '8811 Maple Hwy' '8167 Apache Ave' '5475 Rock Lane' '8215 Flute Drive'\n",
      " '1320 Flute Lane' '1229 5th Ave' '3884 Pine Lane' '7108 Tree St'\n",
      " '8014 Embaracadero Drive' '4937 Flute Drive' '2889 Francis St'\n",
      " '7504 Flute Drive' '7570 Cherokee Drive' '4710 Lincoln Hwy'\n",
      " '7511 1st Ave' '7042 Maple Ridge' '4475 Lincoln Ridge' '9439 MLK St'\n",
      " '8269 Sky Hwy' '5663 Oak Lane' '4633 5th Lane' '9682 Cherokee Ridge'\n",
      " '4755 1st St' '5312 Francis Ridge' '1705 Weaver St' '1643 Washington Hwy'\n",
      " '6516 Solo Drive' '6045 Andromedia St' '3092 Texas Drive' '7629 5th St'\n",
      " '6128 Elm Lane' '1416 Cherokee Ridge']\n",
      "\n",
      "\n",
      "property_damage ['YES' '?' 'NO']\n",
      "\n",
      "\n",
      "police_report_available ['YES' '?' 'NO']\n",
      "\n",
      "\n",
      "auto_make ['Saab' 'Mercedes' 'Dodge' 'Chevrolet' 'Accura' 'Nissan' 'Audi' 'Toyota'\n",
      " 'Ford' 'Suburu' 'BMW' 'Jeep' 'Honda' 'Volkswagen']\n",
      "\n",
      "\n",
      "auto_model ['92x' 'E400' 'RAM' 'Tahoe' 'RSX' '95' 'Pathfinder' 'A5' 'Camry' 'F150'\n",
      " 'A3' 'Highlander' 'Neon' 'MDX' 'Maxima' 'Legacy' 'TL' 'Impreza'\n",
      " 'Forrestor' 'Escape' 'Corolla' '3 Series' 'C300' 'Wrangler' 'M5' 'X5'\n",
      " 'Civic' 'Passat' 'Silverado' 'CRV' '93' 'Accord' 'X6' 'Malibu' 'Fusion'\n",
      " 'Jetta' 'ML350' 'Ultima' 'Grand Cherokee']\n",
      "\n",
      "\n",
      "fraud_reported ['Y' 'N']\n",
      "\n",
      "\n"
     ]
    }
   ],
   "source": [
    "for i in cat_features.columns:\n",
    "    print(i ,cat_features[i].unique())\n",
    "    print('\\n')"
   ]
  },
  {
   "cell_type": "markdown",
   "metadata": {},
   "source": [
    "We can see collision_type ,police_report_available  contains '?', so we haveto treat them"
   ]
  },
  {
   "cell_type": "code",
   "execution_count": 12,
   "metadata": {},
   "outputs": [
    {
     "data": {
      "text/plain": [
       "N    753\n",
       "Y    247\n",
       "Name: fraud_reported, dtype: int64"
      ]
     },
     "execution_count": 12,
     "metadata": {},
     "output_type": "execute_result"
    }
   ],
   "source": [
    "df['fraud_reported'].value_counts()"
   ]
  },
  {
   "cell_type": "markdown",
   "metadata": {},
   "source": [
    "There are 753 frauds not reported and 247 reported. Target variable is imbalanced."
   ]
  },
  {
   "cell_type": "code",
   "execution_count": 13,
   "metadata": {},
   "outputs": [
    {
     "data": {
      "text/plain": [
       " 0           798\n",
       " 6000000      57\n",
       " 5000000      46\n",
       " 4000000      39\n",
       " 7000000      29\n",
       " 3000000      12\n",
       " 8000000       8\n",
       " 9000000       5\n",
       " 2000000       3\n",
       " 10000000      2\n",
       "-1000000       1\n",
       "Name: umbrella_limit, dtype: int64"
      ]
     },
     "execution_count": 13,
     "metadata": {},
     "output_type": "execute_result"
    }
   ],
   "source": [
    "df['umbrella_limit'].value_counts()"
   ]
  },
  {
   "cell_type": "markdown",
   "metadata": {},
   "source": [
    "Majorityof the umbrella limit is 0, which does not matter, So, we will see how data will react when given only values greater than 0."
   ]
  },
  {
   "cell_type": "code",
   "execution_count": 8,
   "metadata": {},
   "outputs": [],
   "source": [
    "a=df[df['umbrella_limit'] >0]"
   ]
  },
  {
   "cell_type": "code",
   "execution_count": 9,
   "metadata": {},
   "outputs": [
    {
     "data": {
      "text/plain": [
       "<AxesSubplot:xlabel='umbrella_limit', ylabel='Density'>"
      ]
     },
     "execution_count": 9,
     "metadata": {},
     "output_type": "execute_result"
    },
    {
     "data": {
      "image/png": "[encoded data removed]",
      "text/plain": [
       "<Figure size 432x288 with 1 Axes>"
      ]
     },
     "metadata": {
      "needs_background": "light"
     },
     "output_type": "display_data"
    }
   ],
   "source": [
    "sns.distplot(a['umbrella_limit'])"
   ]
  },
  {
   "cell_type": "markdown",
   "metadata": {},
   "source": [
    "We can see data is normally disributed."
   ]
  },
  {
   "cell_type": "code",
   "execution_count": 17,
   "metadata": {},
   "outputs": [
    {
     "data": {
      "image/png": "[encoded data removed]",
      "text/plain": [
       "<Figure size 576x432 with 1 Axes>"
      ]
     },
     "metadata": {
      "needs_background": "light"
     },
     "output_type": "display_data"
    }
   ],
   "source": [
    "plt.figure(figsize=(8,6))\n",
    "sns.scatterplot(x='age', y='months_as_customer',hue='fraud_reported',data=df)\n",
    "plt.grid(True)\n",
    "plt.show()"
   ]
  },
  {
   "cell_type": "markdown",
   "metadata": {},
   "source": [
    "We do not have any pattern which justifies if customers with more years with the company are claiming fraud insurance."
   ]
  },
  {
   "cell_type": "code",
   "execution_count": 18,
   "metadata": {},
   "outputs": [
    {
     "data": {
      "image/png": "[encoded data removed]",
      "text/plain": [
       "<Figure size 864x720 with 1 Axes>"
      ]
     },
     "metadata": {
      "needs_background": "light"
     },
     "output_type": "display_data"
    }
   ],
   "source": [
    "plt.figure(figsize=(12,10))\n",
    "sns.countplot(x='age',hue='fraud_reported',data=df)\n",
    "plt.xticks(rotation=90)\n",
    "plt.show()"
   ]
  },
  {
   "cell_type": "markdown",
   "metadata": {},
   "source": [
    "We can see youngesters are more likely to report than older people."
   ]
  },
  {
   "cell_type": "markdown",
   "metadata": {},
   "source": [
    "Now, we will see people who have reported fraud belongs to which occupation "
   ]
  },
  {
   "cell_type": "code",
   "execution_count": 13,
   "metadata": {},
   "outputs": [
    {
     "data": {
      "text/plain": [
       "exec-managerial      28\n",
       "craft-repair         22\n",
       "machine-op-inspct    22\n",
       "tech-support         22\n",
       "sales                21\n",
       "transport-moving     21\n",
       "prof-specialty       18\n",
       "armed-forces         17\n",
       "farming-fishing      16\n",
       "protective-serv      14\n",
       "priv-house-serv      12\n",
       "other-service        12\n",
       "adm-clerical         11\n",
       "handlers-cleaners    11\n",
       "Name: insured_occupation, dtype: int64"
      ]
     },
     "execution_count": 13,
     "metadata": {},
     "output_type": "execute_result"
    }
   ],
   "source": [
    "a=df[df['fraud_reported'] == 'Y']\n",
    "a['insured_occupation'].value_counts()"
   ]
  },
  {
   "cell_type": "markdown",
   "metadata": {},
   "source": [
    "People who are working as exec-manager has claimed more fraud transactions"
   ]
  },
  {
   "cell_type": "code",
   "execution_count": 14,
   "metadata": {},
   "outputs": [
    {
     "data": {
      "text/plain": [
       "JD             42\n",
       "MD             38\n",
       "High School    36\n",
       "Associate      34\n",
       "PhD            33\n",
       "Masters        32\n",
       "College        32\n",
       "Name: insured_education_level, dtype: int64"
      ]
     },
     "execution_count": 14,
     "metadata": {},
     "output_type": "execute_result"
    }
   ],
   "source": [
    "a['insured_education_level'].value_counts()"
   ]
  },
  {
   "cell_type": "code",
   "execution_count": 25,
   "metadata": {},
   "outputs": [
    {
     "data": {
      "image/png": "[encoded data removed]",
      "text/plain": [
       "<Figure size 720x360 with 1 Axes>"
      ]
     },
     "metadata": {
      "needs_background": "light"
     },
     "output_type": "display_data"
    }
   ],
   "source": [
    "plt.figure(figsize=(10,5))\n",
    "plt.subplot(1,2,1)\n",
    "plt.title(\"Count plot for Fraud transaction 'Y' wrt Education level\",fontsize=20)\n",
    "sns.countplot('insured_education_level',data=a)\n",
    "plt.xticks(rotation=90)\n",
    "plt.tight_layout()"
   ]
  },
  {
   "cell_type": "markdown",
   "metadata": {},
   "source": [
    " people with JD level of education are also involved in more fraud transactions. "
   ]
  },
  {
   "cell_type": "code",
   "execution_count": 27,
   "metadata": {},
   "outputs": [
    {
     "data": {
      "image/png": "[encoded data removed]",
      "text/plain": [
       "<Figure size 720x360 with 1 Axes>"
      ]
     },
     "metadata": {
      "needs_background": "light"
     },
     "output_type": "display_data"
    }
   ],
   "source": [
    "plt.figure(figsize=(10,5))\n",
    "plt.subplot(1,2,2)\n",
    "plt.title(\"Count plot for Fraud transaction 'Y' wrt Occupation\",fontsize=20)\n",
    "sns.countplot('insured_occupation',data=a)\n",
    "plt.xticks(rotation=90)\n",
    "plt.tight_layout()\n",
    "plt.show()"
   ]
  },
  {
   "cell_type": "markdown",
   "metadata": {},
   "source": [
    "People with occupation as Exec Manager seems to be doing more fraud transactions"
   ]
  },
  {
   "cell_type": "code",
   "execution_count": 29,
   "metadata": {},
   "outputs": [
    {
     "data": {
      "image/png": "[encoded data removed]",
      "text/plain": [
       "<Figure size 720x432 with 1 Axes>"
      ]
     },
     "metadata": {
      "needs_background": "light"
     },
     "output_type": "display_data"
    }
   ],
   "source": [
    "plt.figure(figsize=(10,6))\n",
    "plt.title(\"Count plot for Fraud transaction 'Y' wrt Hobbies\",fontsize=20)\n",
    "sns.countplot('insured_hobbies',data=a)\n",
    "plt.xticks(rotation=90)\n",
    "plt.tight_layout()\n",
    "plt.show()"
   ]
  },
  {
   "cell_type": "markdown",
   "metadata": {},
   "source": [
    "People who play more chess have claimed more fraud followed by cross-fit"
   ]
  },
  {
   "cell_type": "code",
   "execution_count": 31,
   "metadata": {},
   "outputs": [
    {
     "data": {
      "image/png": "[encoded data removed]",
      "text/plain": [
       "<Figure size 360x360 with 1 Axes>"
      ]
     },
     "metadata": {
      "needs_background": "light"
     },
     "output_type": "display_data"
    }
   ],
   "source": [
    "plt.figure(figsize=(5,5))\n",
    "plt.title(\"Bar plot for Fraud transaction wrt Gender\",fontsize=10)\n",
    "sns.barplot(x='insured_sex',y='total_claim_amount',hue='fraud_reported',data=df)\n",
    "plt.tight_layout()\n",
    "plt.show()"
   ]
  },
  {
   "cell_type": "markdown",
   "metadata": {},
   "source": [
    "\n",
    "\n",
    "Both Male and female have caimed same amount which are fraud\n"
   ]
  },
  {
   "cell_type": "code",
   "execution_count": 32,
   "metadata": {},
   "outputs": [
    {
     "data": {
      "text/plain": [
       "other-relative    52\n",
       "not-in-family     45\n",
       "wife              42\n",
       "own-child         39\n",
       "husband           35\n",
       "unmarried         34\n",
       "Name: insured_relationship, dtype: int64"
      ]
     },
     "execution_count": 32,
     "metadata": {},
     "output_type": "execute_result"
    }
   ],
   "source": [
    "a['insured_relationship'].value_counts()"
   ]
  },
  {
   "cell_type": "code",
   "execution_count": 33,
   "metadata": {},
   "outputs": [
    {
     "data": {
      "text/plain": [
       "1    581\n",
       "3    358\n",
       "4     31\n",
       "2     30\n",
       "Name: number_of_vehicles_involved, dtype: int64"
      ]
     },
     "execution_count": 33,
     "metadata": {},
     "output_type": "execute_result"
    }
   ],
   "source": [
    "df['number_of_vehicles_involved'].value_counts()"
   ]
  },
  {
   "cell_type": "markdown",
   "metadata": {},
   "source": [
    "Majority of claims arewith 1 vehicle involved."
   ]
  },
  {
   "cell_type": "code",
   "execution_count": 34,
   "metadata": {},
   "outputs": [
    {
     "data": {
      "text/plain": [
       "Multi-vehicle Collision     419\n",
       "Single Vehicle Collision    403\n",
       "Vehicle Theft                94\n",
       "Parked Car                   84\n",
       "Name: incident_type, dtype: int64"
      ]
     },
     "execution_count": 34,
     "metadata": {},
     "output_type": "execute_result"
    }
   ],
   "source": [
    "df['incident_type'].value_counts()"
   ]
  },
  {
   "cell_type": "markdown",
   "metadata": {},
   "source": [
    "Most of the incidents happen due to multiple vehicle collision."
   ]
  },
  {
   "cell_type": "code",
   "execution_count": 35,
   "metadata": {},
   "outputs": [
    {
     "data": {
      "text/plain": [
       "Rear Collision     292\n",
       "Side Collision     276\n",
       "Front Collision    254\n",
       "?                  178\n",
       "Name: collision_type, dtype: int64"
      ]
     },
     "execution_count": 35,
     "metadata": {},
     "output_type": "execute_result"
    }
   ],
   "source": [
    "df['collision_type'].value_counts()"
   ]
  },
  {
   "cell_type": "markdown",
   "metadata": {},
   "source": [
    "Most of the collision occurs at rear side. There is also '?' in some columns which we will term as 'Not Applicable'"
   ]
  },
  {
   "cell_type": "code",
   "execution_count": 15,
   "metadata": {},
   "outputs": [],
   "source": [
    "df['collision_type']=df['collision_type'].replace(\"?\",\"Not Applicable\")"
   ]
  },
  {
   "cell_type": "code",
   "execution_count": 16,
   "metadata": {},
   "outputs": [
    {
     "data": {
      "text/plain": [
       "Rear Collision     292\n",
       "Side Collision     276\n",
       "Front Collision    254\n",
       "Not Applicable     178\n",
       "Name: collision_type, dtype: int64"
      ]
     },
     "execution_count": 16,
     "metadata": {},
     "output_type": "execute_result"
    }
   ],
   "source": [
    "df['collision_type'].value_counts()"
   ]
  },
  {
   "cell_type": "code",
   "execution_count": 38,
   "metadata": {},
   "outputs": [
    {
     "data": {
      "text/plain": [
       "Arlington      44\n",
       "Columbus       39\n",
       "Springfield    38\n",
       "Hillsdale      35\n",
       "Northbend      34\n",
       "Riverwood      30\n",
       "Northbrook     27\n",
       "Name: incident_city, dtype: int64"
      ]
     },
     "execution_count": 38,
     "metadata": {},
     "output_type": "execute_result"
    }
   ],
   "source": [
    "a['incident_city'].value_counts()"
   ]
  },
  {
   "cell_type": "markdown",
   "metadata": {},
   "source": [
    "Majority of the fraud are reported in Arlington followed by Columnbus."
   ]
  },
  {
   "cell_type": "code",
   "execution_count": 42,
   "metadata": {},
   "outputs": [
    {
     "data": {
      "image/png": "[encoded data removed]",
      "text/plain": [
       "<Figure size 1080x720 with 1 Axes>"
      ]
     },
     "metadata": {
      "needs_background": "light"
     },
     "output_type": "display_data"
    }
   ],
   "source": [
    "plt.figure(figsize=(15,10))\n",
    "plt.subplot(2,1,1)\n",
    "plt.title(\"Count plot for Auto make\",fontsize=20)\n",
    "sns.countplot('auto_make',data=df)\n",
    "plt.tight_layout()"
   ]
  },
  {
   "cell_type": "markdown",
   "metadata": {},
   "source": [
    "Auto make of 'Saab' and 'Dodge' are having highest claim"
   ]
  },
  {
   "cell_type": "code",
   "execution_count": 44,
   "metadata": {},
   "outputs": [
    {
     "data": {
      "image/png": "[encoded data removed]",
      "text/plain": [
       "<Figure size 1080x720 with 1 Axes>"
      ]
     },
     "metadata": {
      "needs_background": "light"
     },
     "output_type": "display_data"
    }
   ],
   "source": [
    "plt.figure(figsize=(15,10))\n",
    "plt.subplot(2,1,2)\n",
    "plt.title(\"Count plot for Auto model\",fontsize=20)\n",
    "sns.countplot('auto_model',data=df)\n",
    "plt.xticks(rotation=90)\n",
    "plt.tight_layout()\n",
    "plt.show()"
   ]
  },
  {
   "cell_type": "markdown",
   "metadata": {},
   "source": [
    "Auto Model of RAM, Wrangler have claimed more transactions."
   ]
  },
  {
   "cell_type": "code",
   "execution_count": 11,
   "metadata": {},
   "outputs": [
    {
     "data": {
      "text/plain": [
       "Chevrolet     19\n",
       "Accura        18\n",
       "Ford          17\n",
       "Mercedes      17\n",
       "Volkswagen    16\n",
       "Suburu        16\n",
       "BMW           15\n",
       "Saab          15\n",
       "Jeep          15\n",
       "Toyota        14\n",
       "Honda         11\n",
       "Nissan        11\n",
       "Dodge         11\n",
       "Audi           6\n",
       "Name: auto_make, dtype: int64"
      ]
     },
     "execution_count": 11,
     "metadata": {},
     "output_type": "execute_result"
    }
   ],
   "source": [
    "a['auto_make'].value_counts()"
   ]
  },
  {
   "cell_type": "code",
   "execution_count": 17,
   "metadata": {},
   "outputs": [
    {
     "data": {
      "image/png": "[encoded data removed]",
      "text/plain": [
       "<Figure size 720x360 with 1 Axes>"
      ]
     },
     "metadata": {
      "needs_background": "light"
     },
     "output_type": "display_data"
    }
   ],
   "source": [
    "plt.figure(figsize=(10,5))\n",
    "plt.title(\"Count plot of Auto make which have Fraud claim\",fontsize=20)\n",
    "sns.countplot('auto_make',data=a)\n",
    "plt.show()"
   ]
  },
  {
   "cell_type": "markdown",
   "metadata": {},
   "source": [
    "Auto make of 'Ford' and 'Mercedes' are having highest Fraud claim, 'Chevorlet' and 'Audi' also seems to be claimed equally having Fraud claims"
   ]
  },
  {
   "cell_type": "code",
   "execution_count": 48,
   "metadata": {},
   "outputs": [
    {
     "data": {
      "text/plain": [
       "2    90\n",
       "0    80\n",
       "1    77\n",
       "Name: bodily_injuries, dtype: int64"
      ]
     },
     "execution_count": 48,
     "metadata": {},
     "output_type": "execute_result"
    }
   ],
   "source": [
    "a['bodily_injuries'].value_counts()"
   ]
  },
  {
   "cell_type": "markdown",
   "metadata": {},
   "source": [
    "Most of the fruad claimed people have 2 bodily injuries."
   ]
  },
  {
   "cell_type": "code",
   "execution_count": 49,
   "metadata": {},
   "outputs": [
    {
     "data": {
      "text/plain": [
       "?      89\n",
       "NO     86\n",
       "YES    72\n",
       "Name: police_report_available, dtype: int64"
      ]
     },
     "execution_count": 49,
     "metadata": {},
     "output_type": "execute_result"
    }
   ],
   "source": [
    "a['police_report_available'].value_counts()"
   ]
  },
  {
   "cell_type": "markdown",
   "metadata": {},
   "source": [
    "Majority of the fraud transactio have no police report available."
   ]
  },
  {
   "cell_type": "code",
   "execution_count": 18,
   "metadata": {},
   "outputs": [],
   "source": [
    "df['police_report_available']=df['police_report_available'].replace(\"?\",\"Unknown\")"
   ]
  },
  {
   "cell_type": "code",
   "execution_count": 19,
   "metadata": {},
   "outputs": [],
   "source": [
    "df['umbrella_limit']=df['umbrella_limit'].replace(-1000000,0)"
   ]
  },
  {
   "cell_type": "code",
   "execution_count": 20,
   "metadata": {},
   "outputs": [
    {
     "data": {
      "text/html": [
       "<div>\n",
       "<style scoped>\n",
       "    .dataframe tbody tr th:only-of-type {\n",
       "        vertical-align: middle;\n",
       "    }\n",
       "\n",
       "    .dataframe tbody tr th {\n",
       "        vertical-align: top;\n",
       "    }\n",
       "\n",
       "    .dataframe thead th {\n",
       "        text-align: right;\n",
       "    }\n",
       "</style>\n",
       "<table border=\"1\" class=\"dataframe\">\n",
       "  <thead>\n",
       "    <tr style=\"text-align: right;\">\n",
       "      <th></th>\n",
       "      <th>months_as_customer</th>\n",
       "      <th>age</th>\n",
       "      <th>policy_number</th>\n",
       "      <th>policy_bind_date</th>\n",
       "      <th>policy_state</th>\n",
       "      <th>policy_csl</th>\n",
       "      <th>policy_deductable</th>\n",
       "      <th>policy_annual_premium</th>\n",
       "      <th>umbrella_limit</th>\n",
       "      <th>insured_zip</th>\n",
       "      <th>...</th>\n",
       "      <th>witnesses</th>\n",
       "      <th>police_report_available</th>\n",
       "      <th>total_claim_amount</th>\n",
       "      <th>injury_claim</th>\n",
       "      <th>property_claim</th>\n",
       "      <th>vehicle_claim</th>\n",
       "      <th>auto_make</th>\n",
       "      <th>auto_model</th>\n",
       "      <th>auto_year</th>\n",
       "      <th>fraud_reported</th>\n",
       "    </tr>\n",
       "  </thead>\n",
       "  <tbody>\n",
       "    <tr>\n",
       "      <th>0</th>\n",
       "      <td>328</td>\n",
       "      <td>48</td>\n",
       "      <td>521585</td>\n",
       "      <td>17-10-2014</td>\n",
       "      <td>OH</td>\n",
       "      <td>250/500</td>\n",
       "      <td>1000</td>\n",
       "      <td>1406.91</td>\n",
       "      <td>0</td>\n",
       "      <td>466132</td>\n",
       "      <td>...</td>\n",
       "      <td>2</td>\n",
       "      <td>YES</td>\n",
       "      <td>71610</td>\n",
       "      <td>6510</td>\n",
       "      <td>13020</td>\n",
       "      <td>52080</td>\n",
       "      <td>Saab</td>\n",
       "      <td>92x</td>\n",
       "      <td>2004</td>\n",
       "      <td>Y</td>\n",
       "    </tr>\n",
       "    <tr>\n",
       "      <th>1</th>\n",
       "      <td>228</td>\n",
       "      <td>42</td>\n",
       "      <td>342868</td>\n",
       "      <td>27-06-2006</td>\n",
       "      <td>IN</td>\n",
       "      <td>250/500</td>\n",
       "      <td>2000</td>\n",
       "      <td>1197.22</td>\n",
       "      <td>5000000</td>\n",
       "      <td>468176</td>\n",
       "      <td>...</td>\n",
       "      <td>0</td>\n",
       "      <td>Unknown</td>\n",
       "      <td>5070</td>\n",
       "      <td>780</td>\n",
       "      <td>780</td>\n",
       "      <td>3510</td>\n",
       "      <td>Mercedes</td>\n",
       "      <td>E400</td>\n",
       "      <td>2007</td>\n",
       "      <td>Y</td>\n",
       "    </tr>\n",
       "    <tr>\n",
       "      <th>2</th>\n",
       "      <td>134</td>\n",
       "      <td>29</td>\n",
       "      <td>687698</td>\n",
       "      <td>06-09-2000</td>\n",
       "      <td>OH</td>\n",
       "      <td>100/300</td>\n",
       "      <td>2000</td>\n",
       "      <td>1413.14</td>\n",
       "      <td>5000000</td>\n",
       "      <td>430632</td>\n",
       "      <td>...</td>\n",
       "      <td>3</td>\n",
       "      <td>NO</td>\n",
       "      <td>34650</td>\n",
       "      <td>7700</td>\n",
       "      <td>3850</td>\n",
       "      <td>23100</td>\n",
       "      <td>Dodge</td>\n",
       "      <td>RAM</td>\n",
       "      <td>2007</td>\n",
       "      <td>N</td>\n",
       "    </tr>\n",
       "    <tr>\n",
       "      <th>3</th>\n",
       "      <td>256</td>\n",
       "      <td>41</td>\n",
       "      <td>227811</td>\n",
       "      <td>25-05-1990</td>\n",
       "      <td>IL</td>\n",
       "      <td>250/500</td>\n",
       "      <td>2000</td>\n",
       "      <td>1415.74</td>\n",
       "      <td>6000000</td>\n",
       "      <td>608117</td>\n",
       "      <td>...</td>\n",
       "      <td>2</td>\n",
       "      <td>NO</td>\n",
       "      <td>63400</td>\n",
       "      <td>6340</td>\n",
       "      <td>6340</td>\n",
       "      <td>50720</td>\n",
       "      <td>Chevrolet</td>\n",
       "      <td>Tahoe</td>\n",
       "      <td>2014</td>\n",
       "      <td>Y</td>\n",
       "    </tr>\n",
       "    <tr>\n",
       "      <th>4</th>\n",
       "      <td>228</td>\n",
       "      <td>44</td>\n",
       "      <td>367455</td>\n",
       "      <td>06-06-2014</td>\n",
       "      <td>IL</td>\n",
       "      <td>500/1000</td>\n",
       "      <td>1000</td>\n",
       "      <td>1583.91</td>\n",
       "      <td>6000000</td>\n",
       "      <td>610706</td>\n",
       "      <td>...</td>\n",
       "      <td>1</td>\n",
       "      <td>NO</td>\n",
       "      <td>6500</td>\n",
       "      <td>1300</td>\n",
       "      <td>650</td>\n",
       "      <td>4550</td>\n",
       "      <td>Accura</td>\n",
       "      <td>RSX</td>\n",
       "      <td>2009</td>\n",
       "      <td>N</td>\n",
       "    </tr>\n",
       "  </tbody>\n",
       "</table>\n",
       "<p>5 rows × 39 columns</p>\n",
       "</div>"
      ],
      "text/plain": [
       "   months_as_customer  age  policy_number policy_bind_date policy_state  \\\n",
       "0                 328   48         521585       17-10-2014           OH   \n",
       "1                 228   42         342868       27-06-2006           IN   \n",
       "2                 134   29         687698       06-09-2000           OH   \n",
       "3                 256   41         227811       25-05-1990           IL   \n",
       "4                 228   44         367455       06-06-2014           IL   \n",
       "\n",
       "  policy_csl  policy_deductable  policy_annual_premium  umbrella_limit  \\\n",
       "0    250/500               1000                1406.91               0   \n",
       "1    250/500               2000                1197.22         5000000   \n",
       "2    100/300               2000                1413.14         5000000   \n",
       "3    250/500               2000                1415.74         6000000   \n",
       "4   500/1000               1000                1583.91         6000000   \n",
       "\n",
       "   insured_zip  ... witnesses police_report_available total_claim_amount  \\\n",
       "0       466132  ...         2                     YES              71610   \n",
       "1       468176  ...         0                 Unknown               5070   \n",
       "2       430632  ...         3                      NO              34650   \n",
       "3       608117  ...         2                      NO              63400   \n",
       "4       610706  ...         1                      NO               6500   \n",
       "\n",
       "  injury_claim property_claim  vehicle_claim  auto_make auto_model auto_year  \\\n",
       "0         6510          13020          52080       Saab        92x      2004   \n",
       "1          780            780           3510   Mercedes       E400      2007   \n",
       "2         7700           3850          23100      Dodge        RAM      2007   \n",
       "3         6340           6340          50720  Chevrolet      Tahoe      2014   \n",
       "4         1300            650           4550     Accura        RSX      2009   \n",
       "\n",
       "  fraud_reported  \n",
       "0              Y  \n",
       "1              Y  \n",
       "2              N  \n",
       "3              Y  \n",
       "4              N  \n",
       "\n",
       "[5 rows x 39 columns]"
      ]
     },
     "execution_count": 20,
     "metadata": {},
     "output_type": "execute_result"
    }
   ],
   "source": [
    "df.head()"
   ]
  },
  {
   "cell_type": "code",
   "execution_count": 22,
   "metadata": {},
   "outputs": [
    {
     "data": {
      "text/plain": [
       "months_as_customer               int64\n",
       "age                              int64\n",
       "policy_number                    int64\n",
       "policy_deductable                int64\n",
       "policy_annual_premium          float64\n",
       "umbrella_limit                   int64\n",
       "insured_zip                      int64\n",
       "capital-gains                    int64\n",
       "capital-loss                     int64\n",
       "incident_hour_of_the_day         int64\n",
       "number_of_vehicles_involved      int64\n",
       "bodily_injuries                  int64\n",
       "witnesses                        int64\n",
       "total_claim_amount               int64\n",
       "injury_claim                     int64\n",
       "property_claim                   int64\n",
       "vehicle_claim                    int64\n",
       "auto_year                        int64\n",
       "dtype: object"
      ]
     },
     "execution_count": 22,
     "metadata": {},
     "output_type": "execute_result"
    }
   ],
   "source": [
    "#Extracting numerical column for further analysis\n",
    "num_features = df.select_dtypes(include=[np.number])\n",
    "num_features.dtypes"
   ]
  },
  {
   "cell_type": "code",
   "execution_count": 23,
   "metadata": {},
   "outputs": [],
   "source": [
    "#Removing outliers using z-score\n",
    "from scipy.stats import zscore\n",
    "z=np.abs(zscore(num_features))"
   ]
  },
  {
   "cell_type": "code",
   "execution_count": 24,
   "metadata": {},
   "outputs": [
    {
     "data": {
      "text/plain": [
       "(980, 39)"
      ]
     },
     "execution_count": 24,
     "metadata": {},
     "output_type": "execute_result"
    }
   ],
   "source": [
    "df=df[(z<3).all(axis=1)]\n",
    "df.shape"
   ]
  },
  {
   "cell_type": "markdown",
   "metadata": {},
   "source": [
    "We have 980 rows after removing outliers"
   ]
  },
  {
   "cell_type": "code",
   "execution_count": 25,
   "metadata": {},
   "outputs": [
    {
     "data": {
      "text/plain": [
       "Index(['policy_bind_date', 'policy_state', 'policy_csl', 'insured_sex',\n",
       "       'insured_education_level', 'insured_occupation', 'insured_hobbies',\n",
       "       'insured_relationship', 'incident_date', 'incident_type',\n",
       "       'collision_type', 'incident_severity', 'authorities_contacted',\n",
       "       'incident_state', 'incident_city', 'incident_location',\n",
       "       'property_damage', 'police_report_available', 'auto_make', 'auto_model',\n",
       "       'fraud_reported'],\n",
       "      dtype='object')"
      ]
     },
     "execution_count": 25,
     "metadata": {},
     "output_type": "execute_result"
    }
   ],
   "source": [
    "cat_features.columns"
   ]
  },
  {
   "cell_type": "code",
   "execution_count": 26,
   "metadata": {},
   "outputs": [],
   "source": [
    "#Performing one hot encoding\n",
    "df=pd.get_dummies(df,columns=['policy_bind_date', 'policy_state', 'policy_csl', 'insured_sex',\n",
    "       'insured_education_level', 'insured_occupation', 'insured_hobbies',\n",
    "       'insured_relationship', 'incident_date', 'incident_type',\n",
    "       'collision_type', 'incident_severity', 'authorities_contacted',\n",
    "       'incident_state', 'incident_city', 'incident_location',\n",
    "       'property_damage', 'police_report_available', 'auto_make', 'auto_model'],drop_first=True)"
   ]
  },
  {
   "cell_type": "code",
   "execution_count": 27,
   "metadata": {},
   "outputs": [
    {
     "data": {
      "text/plain": [
       "(980, 2116)"
      ]
     },
     "execution_count": 27,
     "metadata": {},
     "output_type": "execute_result"
    }
   ],
   "source": [
    "df.shape"
   ]
  },
  {
   "cell_type": "code",
   "execution_count": 28,
   "metadata": {},
   "outputs": [],
   "source": [
    "#Performing Label Encoding for target variable\n",
    "from sklearn.preprocessing import LabelEncoder\n",
    "le=LabelEncoder()\n",
    "df['fraud_reported']=le.fit_transform(df['fraud_reported'])"
   ]
  },
  {
   "cell_type": "code",
   "execution_count": 29,
   "metadata": {},
   "outputs": [],
   "source": [
    "#Separating x and y for model evaluation\n",
    "x=df.drop('fraud_reported',axis=1)\n",
    "y=df[['fraud_reported']]"
   ]
  },
  {
   "cell_type": "markdown",
   "metadata": {},
   "source": [
    "#### Treating Class Imbalance in target column"
   ]
  },
  {
   "cell_type": "code",
   "execution_count": 30,
   "metadata": {},
   "outputs": [
    {
     "name": "stdout",
     "output_type": "stream",
     "text": [
      "(1480, 2115)\n",
      "(1480, 1)\n"
     ]
    }
   ],
   "source": [
    "from imblearn.over_sampling import SMOTE\n",
    "x_upsample, y_upsample  = SMOTE().fit_resample(x, y)\n",
    "print(x_upsample.shape)\n",
    "print(y_upsample.shape)"
   ]
  },
  {
   "cell_type": "code",
   "execution_count": 31,
   "metadata": {},
   "outputs": [
    {
     "data": {
      "text/plain": [
       "fraud_reported\n",
       "1                 740\n",
       "0                 740\n",
       "dtype: int64"
      ]
     },
     "execution_count": 31,
     "metadata": {},
     "output_type": "execute_result"
    }
   ],
   "source": [
    "y_upsample.value_counts()"
   ]
  },
  {
   "cell_type": "code",
   "execution_count": 32,
   "metadata": {},
   "outputs": [],
   "source": [
    "#Lets bring all columns to common scale\n",
    "from sklearn.preprocessing import StandardScaler\n",
    "sc=StandardScaler()\n",
    "x_=sc.fit_transform(x_upsample)"
   ]
  },
  {
   "cell_type": "markdown",
   "metadata": {},
   "source": [
    "### PCA"
   ]
  },
  {
   "cell_type": "code",
   "execution_count": 33,
   "metadata": {},
   "outputs": [],
   "source": [
    "from sklearn.decomposition import PCA"
   ]
  },
  {
   "cell_type": "code",
   "execution_count": 34,
   "metadata": {},
   "outputs": [
    {
     "data": {
      "image/png": "[encoded data removed]",
      "text/plain": [
       "<Figure size 432x288 with 1 Axes>"
      ]
     },
     "metadata": {
      "needs_background": "light"
     },
     "output_type": "display_data"
    }
   ],
   "source": [
    "pca=PCA()\n",
    "pricipleComponents=pca.fit_transform(x_)\n",
    "plt.figure()\n",
    "plt.plot(np.cumsum(pca.explained_variance_ratio_))\n",
    "plt.xlabel(\"Number Of Components\")\n",
    "plt.ylabel('Variance(%)')\n",
    "plt.title('Explained variance')\n",
    "plt.show()"
   ]
  },
  {
   "cell_type": "markdown",
   "metadata": {},
   "source": [
    "We can see 95% of variance is achieved by 950 columns."
   ]
  },
  {
   "cell_type": "code",
   "execution_count": 35,
   "metadata": {},
   "outputs": [],
   "source": [
    "pca=PCA(n_components=950)\n",
    "new_data=pca.fit_transform(x_)\n",
    "priciple_x=pd.DataFrame(new_data)"
   ]
  },
  {
   "cell_type": "markdown",
   "metadata": {},
   "source": [
    "### Finding the best Random State"
   ]
  },
  {
   "cell_type": "code",
   "execution_count": 36,
   "metadata": {},
   "outputs": [
    {
     "name": "stdout",
     "output_type": "stream",
     "text": [
      "Best accuracy is  0.8626126126126126  on Random_state  66\n"
     ]
    }
   ],
   "source": [
    "from sklearn.linear_model import LogisticRegression \n",
    "from sklearn.model_selection import train_test_split\n",
    "from sklearn.metrics import accuracy_score\n",
    "maxAccu=0\n",
    "maxRS=0\n",
    "for i in range(1,200):\n",
    "    x_train,x_test,y_train,y_test=train_test_split(priciple_x,y_upsample,test_size=.30,random_state=i)\n",
    "    lg=LogisticRegression()\n",
    "    lg.fit(x_train,y_train)\n",
    "    predrf=lg.predict(x_test)\n",
    "    acc=accuracy_score(y_test,predrf)\n",
    "    if acc>maxAccu:\n",
    "        maxAccu=acc\n",
    "        maxRS=i\n",
    "print(\"Best accuracy is \",maxAccu,\" on Random_state \",maxRS) "
   ]
  },
  {
   "cell_type": "markdown",
   "metadata": {},
   "source": [
    "### Model Evaluation"
   ]
  },
  {
   "cell_type": "code",
   "execution_count": 37,
   "metadata": {},
   "outputs": [],
   "source": [
    "#splitting data into training and testing datasets\n",
    "x_train,x_test,y_train,y_test=train_test_split(priciple_x,y_upsample,test_size=.30,random_state=maxRS)"
   ]
  },
  {
   "cell_type": "code",
   "execution_count": 38,
   "metadata": {},
   "outputs": [
    {
     "name": "stdout",
     "output_type": "stream",
     "text": [
      "0.8175675675675675\n",
      "[[166  48]\n",
      " [ 33 197]]\n",
      "              precision    recall  f1-score   support\n",
      "\n",
      "           0       0.83      0.78      0.80       214\n",
      "           1       0.80      0.86      0.83       230\n",
      "\n",
      "    accuracy                           0.82       444\n",
      "   macro avg       0.82      0.82      0.82       444\n",
      "weighted avg       0.82      0.82      0.82       444\n",
      "\n"
     ]
    },
    {
     "data": {
      "image/png": "[encoded data removed]",
      "text/plain": [
       "<Figure size 432x288 with 1 Axes>"
      ]
     },
     "metadata": {
      "needs_background": "light"
     },
     "output_type": "display_data"
    },
    {
     "name": "stdout",
     "output_type": "stream",
     "text": [
      "auc_score: 0.8161113368549371\n",
      "\n",
      "\n"
     ]
    }
   ],
   "source": [
    "from sklearn.tree import DecisionTreeClassifier\n",
    "from sklearn.metrics import confusion_matrix,classification_report,roc_curve,roc_auc_score\n",
    "dtc=DecisionTreeClassifier()\n",
    "dtc.fit(x_train,y_train)\n",
    "dtc.score(x_train,y_train)\n",
    "preddtc=dtc.predict(x_test)\n",
    "print(accuracy_score(y_test,preddtc))\n",
    "print(confusion_matrix(y_test,preddtc))\n",
    "print(classification_report(y_test,preddtc))\n",
    "y_pred_prob=dtc.predict_proba(x_test)[:,1]\n",
    "fpr,tpr,thresholds=roc_curve(y_test,y_pred_prob)\n",
    "plt.plot([0,1],[0,1],'k--')\n",
    "plt.plot(fpr,tpr,label=dtc)\n",
    "plt.xlabel('false positive rate')\n",
    "plt.ylabel('True positive rate')\n",
    "plt.title(dtc)\n",
    "plt.show()\n",
    "auc_score=roc_auc_score(y_test,dtc.predict(x_test))\n",
    "print(\"auc_score:\" ,auc_score)\n",
    "print(\"\\n\")"
   ]
  },
  {
   "cell_type": "code",
   "execution_count": 39,
   "metadata": {},
   "outputs": [
    {
     "name": "stdout",
     "output_type": "stream",
     "text": [
      "0.8400900900900901\n",
      "[[211   3]\n",
      " [ 68 162]]\n",
      "              precision    recall  f1-score   support\n",
      "\n",
      "           0       0.76      0.99      0.86       214\n",
      "           1       0.98      0.70      0.82       230\n",
      "\n",
      "    accuracy                           0.84       444\n",
      "   macro avg       0.87      0.85      0.84       444\n",
      "weighted avg       0.87      0.84      0.84       444\n",
      "\n"
     ]
    },
    {
     "data": {
      "image/png": "[encoded data removed]",
      "text/plain": [
       "<Figure size 432x288 with 1 Axes>"
      ]
     },
     "metadata": {
      "needs_background": "light"
     },
     "output_type": "display_data"
    },
    {
     "name": "stdout",
     "output_type": "stream",
     "text": [
      "auc_score: 0.8451645672490857\n",
      "\n",
      "\n"
     ]
    }
   ],
   "source": [
    "from sklearn.ensemble import RandomForestClassifier\n",
    "\n",
    "rf=RandomForestClassifier()\n",
    "#100 --> default\n",
    "rf.fit(x_train,y_train)\n",
    "predrf=rf.predict(x_test)\n",
    "print(accuracy_score(y_test,predrf))\n",
    "print(confusion_matrix(y_test,predrf))\n",
    "print(classification_report(y_test,predrf))\n",
    "y_pred_prob=rf.predict_proba(x_test)[:,1]\n",
    "fpr,tpr,thresholds=roc_curve(y_test,y_pred_prob)\n",
    "plt.plot([0,1],[0,1],'k--')\n",
    "plt.plot(fpr,tpr,label=rf)\n",
    "plt.xlabel('false positive rate')\n",
    "plt.ylabel('True positive rate')\n",
    "plt.title(rf)\n",
    "plt.show()\n",
    "auc_score=roc_auc_score(y_test,rf.predict(x_test))\n",
    "print(\"auc_score:\" ,auc_score)\n",
    "print(\"\\n\")"
   ]
  },
  {
   "cell_type": "code",
   "execution_count": 40,
   "metadata": {},
   "outputs": [
    {
     "name": "stdout",
     "output_type": "stream",
     "text": [
      "0.8626126126126126\n",
      "[[176  38]\n",
      " [ 23 207]]\n",
      "              precision    recall  f1-score   support\n",
      "\n",
      "           0       0.88      0.82      0.85       214\n",
      "           1       0.84      0.90      0.87       230\n",
      "\n",
      "    accuracy                           0.86       444\n",
      "   macro avg       0.86      0.86      0.86       444\n",
      "weighted avg       0.86      0.86      0.86       444\n",
      "\n"
     ]
    },
    {
     "data": {
      "image/png": "[encoded data removed]",
      "text/plain": [
       "<Figure size 432x288 with 1 Axes>"
      ]
     },
     "metadata": {
      "needs_background": "light"
     },
     "output_type": "display_data"
    },
    {
     "name": "stdout",
     "output_type": "stream",
     "text": [
      "auc_score: 0.8612149532710279\n",
      "\n",
      "\n"
     ]
    }
   ],
   "source": [
    "lg=LogisticRegression()\n",
    "lg.fit(x_train,y_train)\n",
    "predlg=lg.predict(x_test)\n",
    "print(accuracy_score(y_test,predlg))\n",
    "print(confusion_matrix(y_test,predlg))\n",
    "print(classification_report(y_test,predlg))\n",
    "y_pred_prob=lg.predict_proba(x_test)[:,1]\n",
    "fpr,tpr,thresholds=roc_curve(y_test,y_pred_prob)\n",
    "plt.plot([0,1],[0,1],'k--')\n",
    "plt.plot(fpr,tpr,label=lg)\n",
    "plt.xlabel('false positive rate')\n",
    "plt.ylabel('True positive rate')\n",
    "plt.title(lg)\n",
    "plt.show()\n",
    "auc_score=roc_auc_score(y_test,lg.predict(x_test))\n",
    "print(\"auc_score:\" ,auc_score)\n",
    "print(\"\\n\")"
   ]
  },
  {
   "cell_type": "code",
   "execution_count": 41,
   "metadata": {},
   "outputs": [
    {
     "name": "stdout",
     "output_type": "stream",
     "text": [
      "0.8468468468468469\n",
      "[[206   8]\n",
      " [ 60 170]]\n",
      "              precision    recall  f1-score   support\n",
      "\n",
      "           0       0.77      0.96      0.86       214\n",
      "           1       0.96      0.74      0.83       230\n",
      "\n",
      "    accuracy                           0.85       444\n",
      "   macro avg       0.86      0.85      0.85       444\n",
      "weighted avg       0.87      0.85      0.85       444\n",
      "\n"
     ]
    },
    {
     "data": {
      "image/png": "[encoded data removed]",
      "text/plain": [
       "<Figure size 432x288 with 1 Axes>"
      ]
     },
     "metadata": {
      "needs_background": "light"
     },
     "output_type": "display_data"
    },
    {
     "name": "stdout",
     "output_type": "stream",
     "text": [
      "auc_score: 0.8508736286062576\n",
      "\n",
      "\n"
     ]
    }
   ],
   "source": [
    "from xgboost import XGBClassifier\n",
    "xgb =XGBClassifier(eval_metric = 'auc', use_label_encoder=False, objective = 'binary:logistic')\n",
    "xgb.fit(x_train,y_train)\n",
    "xgb_pred=xgb.predict(x_test)\n",
    "print(accuracy_score(y_test,xgb_pred))\n",
    "print(confusion_matrix(y_test,xgb_pred))\n",
    "print(classification_report(y_test,xgb_pred))\n",
    "y_pred_prob=xgb.predict_proba(x_test)[:,1]\n",
    "fpr,tpr,thresholds=roc_curve(y_test,y_pred_prob)\n",
    "plt.plot([0,1],[0,1],'k--')\n",
    "plt.plot(fpr,tpr,label=xgb)\n",
    "plt.xlabel('false positive rate')\n",
    "plt.ylabel('True positive rate')\n",
    "plt.title(xgb)\n",
    "plt.show()\n",
    "auc_score=roc_auc_score(y_test,xgb.predict(x_test))\n",
    "print(\"auc_score:\" ,auc_score)\n",
    "print(\"\\n\")"
   ]
  },
  {
   "cell_type": "markdown",
   "metadata": {},
   "source": [
    "### Checking cross validation score"
   ]
  },
  {
   "cell_type": "code",
   "execution_count": 42,
   "metadata": {},
   "outputs": [
    {
     "name": "stdout",
     "output_type": "stream",
     "text": [
      "[0.56081081 0.68918919 0.86824324 0.89189189 0.86486486]\n",
      "0.775 0.12936322101377642\n"
     ]
    }
   ],
   "source": [
    "from sklearn.model_selection import cross_val_score\n",
    "dtscores=cross_val_score(dtc,priciple_x,y_upsample,cv=5)\n",
    "print(dtscores)\n",
    "print(dtscores.mean(),dtscores.std())"
   ]
  },
  {
   "cell_type": "code",
   "execution_count": 43,
   "metadata": {},
   "outputs": [
    {
     "name": "stdout",
     "output_type": "stream",
     "text": [
      "[0.5        0.69256757 0.99662162 0.99662162 1.        ]\n",
      "0.8371621621621621 0.20589158323435527\n"
     ]
    }
   ],
   "source": [
    "rfscores=cross_val_score(rf,priciple_x,y_upsample,cv=5)\n",
    "print(rfscores)\n",
    "print(rfscores.mean(),rfscores.std())"
   ]
  },
  {
   "cell_type": "code",
   "execution_count": 44,
   "metadata": {},
   "outputs": [
    {
     "name": "stdout",
     "output_type": "stream",
     "text": [
      "[0.61486486 0.76351351 0.84797297 0.87837838 0.86824324]\n",
      "0.7945945945945947 0.09855141450136136\n"
     ]
    }
   ],
   "source": [
    "lgscores=cross_val_score(lg,priciple_x,y_upsample,cv=5)\n",
    "print(lgscores)\n",
    "print(lgscores.mean(),lgscores.std())"
   ]
  },
  {
   "cell_type": "code",
   "execution_count": 45,
   "metadata": {},
   "outputs": [
    {
     "name": "stdout",
     "output_type": "stream",
     "text": [
      "[0.51013514 0.7027027  0.96621622 0.97635135 0.97635135]\n",
      "0.8263513513513512 0.18965435093053082\n"
     ]
    }
   ],
   "source": [
    "xgbscores=cross_val_score(xgb,priciple_x,y_upsample,cv=5)\n",
    "print(xgbscores)\n",
    "print(xgbscores.mean(),xgbscores.std())"
   ]
  },
  {
   "cell_type": "markdown",
   "metadata": {},
   "source": [
    "Least difference between cross val score and accuracy score is in Random Forest and XGBoost Model. So, we willfurther perform hyper parameter tuning on them."
   ]
  },
  {
   "cell_type": "markdown",
   "metadata": {},
   "source": [
    "### Hyper-Parameter Tuning"
   ]
  },
  {
   "cell_type": "code",
   "execution_count": 46,
   "metadata": {},
   "outputs": [],
   "source": [
    "from sklearn.model_selection import GridSearchCV,RandomizedSearchCV"
   ]
  },
  {
   "cell_type": "markdown",
   "metadata": {},
   "source": [
    "##### - Random Forest"
   ]
  },
  {
   "cell_type": "code",
   "execution_count": 47,
   "metadata": {},
   "outputs": [],
   "source": [
    "grid_param={\n",
    "    'criterion':['gini','entropy'],\n",
    "    'max_depth': [4,5,6,7,8],\n",
    "    'n_estimators': [100,500],\n",
    "    'max_features':['auto','sqrt','log2']\n",
    "    \n",
    "}"
   ]
  },
  {
   "cell_type": "code",
   "execution_count": 48,
   "metadata": {},
   "outputs": [],
   "source": [
    "grid_search=RandomizedSearchCV(estimator=rf,param_distributions=grid_param,cv=5)"
   ]
  },
  {
   "cell_type": "code",
   "execution_count": 49,
   "metadata": {},
   "outputs": [
    {
     "name": "stdout",
     "output_type": "stream",
     "text": [
      "{'n_estimators': 100, 'max_features': 'log2', 'max_depth': 8, 'criterion': 'gini'}\n"
     ]
    }
   ],
   "source": [
    "grid_search.fit(x_train,y_train)\n",
    "best_parameters=grid_search.best_params_\n",
    "print(best_parameters)"
   ]
  },
  {
   "cell_type": "code",
   "execution_count": 53,
   "metadata": {},
   "outputs": [
    {
     "name": "stdout",
     "output_type": "stream",
     "text": [
      "0.8423423423423423\n",
      "[[212   2]\n",
      " [ 68 162]]\n",
      "              precision    recall  f1-score   support\n",
      "\n",
      "           0       0.76      0.99      0.86       214\n",
      "           1       0.99      0.70      0.82       230\n",
      "\n",
      "    accuracy                           0.84       444\n",
      "   macro avg       0.87      0.85      0.84       444\n",
      "weighted avg       0.88      0.84      0.84       444\n",
      "\n"
     ]
    },
    {
     "data": {
      "image/png": "[encoded data removed]",
      "text/plain": [
       "<Figure size 432x288 with 1 Axes>"
      ]
     },
     "metadata": {
      "needs_background": "light"
     },
     "output_type": "display_data"
    },
    {
     "name": "stdout",
     "output_type": "stream",
     "text": [
      "auc_score: 0.8475010158472166\n",
      "\n",
      "\n"
     ]
    }
   ],
   "source": [
    "rfc=RandomForestClassifier(criterion='gini',max_depth=8,max_features='log2',n_estimators=100)\n",
    "rfc.fit(x_train,y_train)\n",
    "rfc.score(x_train,y_train)\n",
    "predrfc=rfc.predict(x_test)\n",
    "print(accuracy_score(y_test,predrfc))\n",
    "print(confusion_matrix(y_test,predrfc))\n",
    "print(classification_report(y_test,predrfc))\n",
    "y_pred_prob=rfc.predict_proba(x_test)[:,1]\n",
    "fpr,tpr,thresholds=roc_curve(y_test,y_pred_prob)\n",
    "plt.plot([0,1],[0,1],'k--')\n",
    "plt.plot(fpr,tpr,label=rfc)\n",
    "plt.xlabel('false positive rate')\n",
    "plt.ylabel('True positive rate')\n",
    "plt.title(rfc)\n",
    "plt.show()\n",
    "auc_score=roc_auc_score(y_test,rfc.predict(x_test))\n",
    "print(\"auc_score:\" ,auc_score)\n",
    "print(\"\\n\")"
   ]
  },
  {
   "cell_type": "code",
   "execution_count": 54,
   "metadata": {},
   "outputs": [
    {
     "name": "stdout",
     "output_type": "stream",
     "text": [
      "[0.50337838 0.68918919 0.99662162 1.         1.        ]\n",
      "0.8378378378378379 0.20579843266356201\n"
     ]
    }
   ],
   "source": [
    "rfcscores=cross_val_score(rfc,priciple_x,y_upsample,cv=5)\n",
    "print(rfcscores)\n",
    "print(rfcscores.mean(),rfcscores.std())"
   ]
  },
  {
   "cell_type": "markdown",
   "metadata": {},
   "source": [
    "##### - XG Boost"
   ]
  },
  {
   "cell_type": "code",
   "execution_count": 55,
   "metadata": {},
   "outputs": [],
   "source": [
    "params_xgb = {'n_estimators': [100,400,800], 'learning_rate': [0.3,0.5,1],\n",
    "             'max_depth': [6,8,15]}"
   ]
  },
  {
   "cell_type": "code",
   "execution_count": 56,
   "metadata": {},
   "outputs": [],
   "source": [
    "grid_search=RandomizedSearchCV(estimator=xgb,param_distributions=params_xgb,cv=5)"
   ]
  },
  {
   "cell_type": "code",
   "execution_count": 57,
   "metadata": {},
   "outputs": [
    {
     "name": "stdout",
     "output_type": "stream",
     "text": [
      "{'n_estimators': 400, 'max_depth': 8, 'learning_rate': 0.3}\n"
     ]
    }
   ],
   "source": [
    "grid_search.fit(x_train,y_train)\n",
    "best_parameters=grid_search.best_params_\n",
    "print(best_parameters)"
   ]
  },
  {
   "cell_type": "code",
   "execution_count": 58,
   "metadata": {},
   "outputs": [
    {
     "name": "stdout",
     "output_type": "stream",
     "text": [
      "0.8513513513513513\n",
      "[[207   7]\n",
      " [ 59 171]]\n",
      "              precision    recall  f1-score   support\n",
      "\n",
      "           0       0.78      0.97      0.86       214\n",
      "           1       0.96      0.74      0.84       230\n",
      "\n",
      "    accuracy                           0.85       444\n",
      "   macro avg       0.87      0.86      0.85       444\n",
      "weighted avg       0.87      0.85      0.85       444\n",
      "\n"
     ]
    },
    {
     "data": {
      "image/png": "[encoded data removed]",
      "text/plain": [
       "<Figure size 432x288 with 1 Axes>"
      ]
     },
     "metadata": {
      "needs_background": "light"
     },
     "output_type": "display_data"
    },
    {
     "name": "stdout",
     "output_type": "stream",
     "text": [
      "auc_score: 0.8553839902478668\n",
      "\n",
      "\n"
     ]
    }
   ],
   "source": [
    "xgbc =XGBClassifier(n_estimators=400 ,learning_rate=0.3 , max_depth= 8,eval_metric = 'auc', use_label_encoder=False, objective = 'binary:logistic',random_state=42)\n",
    "xgbc.fit(x_train,y_train)\n",
    "xgb_predc=xgbc.predict(x_test)\n",
    "print(accuracy_score(y_test,xgb_predc))\n",
    "print(confusion_matrix(y_test,xgb_predc))\n",
    "print(classification_report(y_test,xgb_predc))\n",
    "y_pred_prob=xgbc.predict_proba(x_test)[:,1]\n",
    "fpr,tpr,thresholds=roc_curve(y_test,y_pred_prob)\n",
    "plt.plot([0,1],[0,1],'k--')\n",
    "plt.plot(fpr,tpr,label=xgbc)\n",
    "plt.xlabel('false positive rate')\n",
    "plt.ylabel('True positive rate')\n",
    "plt.title(xgbc)\n",
    "plt.show()\n",
    "auc_score=roc_auc_score(y_test,xgbc.predict(x_test))\n",
    "print(\"auc_score:\" ,auc_score)\n",
    "print(\"\\n\")"
   ]
  },
  {
   "cell_type": "code",
   "execution_count": 59,
   "metadata": {},
   "outputs": [
    {
     "name": "stdout",
     "output_type": "stream",
     "text": [
      "[0.52027027 0.68918919 0.96621622 0.99324324 0.95608108]\n",
      "0.8249999999999998 0.18800789502095872\n"
     ]
    }
   ],
   "source": [
    "xgbscores=cross_val_score(xgbc,priciple_x,y_upsample,cv=5)\n",
    "print(xgbscores)\n",
    "print(xgbscores.mean(),xgbscores.std())"
   ]
  },
  {
   "cell_type": "markdown",
   "metadata": {},
   "source": [
    "As the differnece between cross va score and accuracy is least in Random Forest, We will select it as our best model. Also, AUC Score is ~85%."
   ]
  },
  {
   "cell_type": "markdown",
   "metadata": {},
   "source": [
    "### Saving the model"
   ]
  },
  {
   "cell_type": "code",
   "execution_count": 60,
   "metadata": {},
   "outputs": [
    {
     "data": {
      "text/plain": [
       "['fruad.obj']"
      ]
     },
     "execution_count": 60,
     "metadata": {},
     "output_type": "execute_result"
    }
   ],
   "source": [
    "import joblib\n",
    "joblib.dump(rfc,'fruad.obj')"
   ]
  },
  {
   "cell_type": "code",
   "execution_count": null,
   "metadata": {},
   "outputs": [],
   "source": []
  }
 ],
 "metadata": {
  "kernelspec": {
   "display_name": "Python 3",
   "language": "python",
   "name": "python3"
  },
  "language_info": {
   "codemirror_mode": {
    "name": "ipython",
    "version": 3
   },
   "file_extension": ".py",
   "mimetype": "text/x-python",
   "name": "python",
   "nbconvert_exporter": "python",
   "pygments_lexer": "ipython3",
   "version": "3.8.5"
  }
 },
 "nbformat": 4,
 "nbformat_minor": 4
}
